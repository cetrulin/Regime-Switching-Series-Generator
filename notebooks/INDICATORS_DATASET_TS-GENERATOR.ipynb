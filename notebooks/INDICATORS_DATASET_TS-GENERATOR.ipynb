{
 "cells": [
  {
   "cell_type": "code",
   "execution_count": 3,
   "metadata": {
    "pycharm": {
     "is_executing": false
    }
   },
   "outputs": [],
   "source": [
    "# Data preparation for Ph.D thesis\n",
    "# @author: Andres L. Suarez-Cetrulo\n",
    "%config IPCompleter.greedy=True\n",
    "# %load_ext jupyternotify\n",
    "%matplotlib inline"
   ]
  },
  {
   "cell_type": "code",
   "execution_count": 4,
   "metadata": {
    "pycharm": {
     "is_executing": false
    }
   },
   "outputs": [],
   "source": [
    "# Imports\n",
    "import pandas as pd\n",
    "import numpy as np\n",
    "import datetime\n",
    "from pathlib import Path\n",
    "import os\n",
    "\n",
    "# Using TALib abstract API to create a dictionary of technical indicators to iterate later.\n",
    "from talib import abstract"
   ]
  },
  {
   "cell_type": "code",
   "execution_count": 5,
   "metadata": {
    "pycharm": {
     "is_executing": false
    }
   },
   "outputs": [],
   "source": [
    "# Creating a dictionary of technical indicators using TALib abstract API\n",
    "indicator = {'sma': abstract.Function('sma'), \n",
    "             'ema': abstract.Function('ema'), \n",
    "             'wma': abstract.Function('wma'), \n",
    "             'mom': abstract.Function('mom'), \n",
    "             'stoch': abstract.Function('stoch'), \n",
    "             'macd': abstract.Function('macd'), \n",
    "             'rsi': abstract.Function('rsi'), \n",
    "             'willr': abstract.Function('willr'), \n",
    "             'adosc': abstract.Function('adosc'), \n",
    "             'cci': abstract.Function('cci'), \n",
    "             'adx': abstract.Function('adx'), \n",
    "             'aroon': abstract.Function('aroon'), \n",
    "             'bbands': abstract.Function('bbands'), \n",
    "             'obv': abstract.Function('obv'), \n",
    "             'trima': abstract.Function('trima'), \n",
    "             'roc': abstract.Function('roc'), \n",
    "             'rocr': abstract.Function('rocr'), \n",
    "             'stochf': abstract.Function('stochf'), \n",
    "             'medprice': abstract.Function('medprice'), \n",
    "             'typprice': abstract.Function('typprice'), \n",
    "             'wclprice': abstract.Function('wclprice'), \n",
    "             'atr': abstract.Function('atr'), \n",
    "             'macdfix': abstract.Function('macdfix'), \n",
    "             'mfi': abstract.Function('mfi'), \n",
    "             'sar': abstract.Function('sar'), \n",
    "             'ppo': abstract.Function('ppo')}\n",
    "# Add as many indicators as necessary: see all indicators in https://mrjbq7.github.io/ta-lib/"
   ]
  },
  {
   "cell_type": "code",
   "execution_count": 6,
   "metadata": {
    "pycharm": {
     "is_executing": false
    }
   },
   "outputs": [],
   "source": [
    "# Paths\n",
    "# Paths for symbols (not eft)\n",
    "DATA_PATH=os.sep.join(['C:','Users','suare','PycharmProjects','RegimeSwitchingSeriesGenerator','output'])\n",
    "# '/Users/asuarez/Downloads'\n",
    "SOURCE_PATH=DATA_PATH # +'raw\\\\alpha_vantage\\\\S&P500\\\\symbols\\\\AAPL\\\\'  # 'raw/alpha_vantage/'\n",
    "RESULT_PATH=DATA_PATH # +'analysis\\\\'+SYMBOL.lower()+'\\\\'\n",
    "\n",
    "# List of dates for files to be loaded\n",
    "filename = 'timeseries_created_1571527428'\n",
    "file = os.sep.join([SOURCE_PATH, filename+'.csv'])\n",
    "RESULT_FILEPATH_PROCESSED = os.sep.join([RESULT_PATH, filename+'_indicators.csv'])"
   ]
  },
  {
   "cell_type": "code",
   "execution_count": 7,
   "metadata": {
    "pycharm": {
     "is_executing": false
    }
   },
   "outputs": [
    {
     "data": {
      "text/plain": [
       "0    227.472006\n",
       "1    227.424023\n",
       "2    227.376050\n",
       "3    227.328087\n",
       "4    227.315381\n",
       "Name: close, dtype: float64"
      ]
     },
     "execution_count": 7,
     "metadata": {},
     "output_type": "execute_result"
    }
   ],
   "source": [
    "# Open file\n",
    "df=pd.read_csv(file)\n",
    "df['close'] = df['ts']\n",
    "df.close.head()"
   ]
  },
  {
   "cell_type": "code",
   "execution_count": 8,
   "metadata": {
    "pycharm": {
     "is_executing": false
    }
   },
   "outputs": [],
   "source": [
    "#Add parameters to transform in TS\n",
    "timeseries=['close']\n",
    "#Length of the TS. How many values do we keep per serie. \n",
    "# e.g. 1 -> t / 2 -> t,t-1 / 3 -> t,t-1,t-2 / 4 -> t,t-1,t-2,t-3\n",
    "length = 5\n",
    "\n",
    "# Add lagged times\n",
    "for column in timeseries:\n",
    "    #df[column+'_t']=df[column]\n",
    "    for i in range(1,length):\n",
    "        df[column+'_t-'+str(i)]=df[column].shift(i) #it could also be sorted and group by if needed\n",
    "    #del drops the delected df column\n",
    "    #del df[column]"
   ]
  },
  {
   "cell_type": "code",
   "execution_count": 9,
   "metadata": {
    "pycharm": {
     "is_executing": false
    }
   },
   "outputs": [
    {
     "data": {
      "text/html": [
       "<div>\n",
       "<style scoped>\n",
       "    .dataframe tbody tr th:only-of-type {\n",
       "        vertical-align: middle;\n",
       "    }\n",
       "\n",
       "    .dataframe tbody tr th {\n",
       "        vertical-align: top;\n",
       "    }\n",
       "\n",
       "    .dataframe thead th {\n",
       "        text-align: right;\n",
       "    }\n",
       "</style>\n",
       "<table border=\"1\" class=\"dataframe\">\n",
       "  <thead>\n",
       "    <tr style=\"text-align: right;\">\n",
       "      <th></th>\n",
       "      <th>n_row</th>\n",
       "      <th>new_switch</th>\n",
       "      <th>cur_switch</th>\n",
       "      <th>current_model_id</th>\n",
       "      <th>new_model_id</th>\n",
       "      <th>weights</th>\n",
       "      <th>ts</th>\n",
       "      <th>ret_ts</th>\n",
       "      <th>ts_n1_pre</th>\n",
       "      <th>ts_n2_pre</th>\n",
       "      <th>...</th>\n",
       "      <th>wma_30</th>\n",
       "      <th>mom_10</th>\n",
       "      <th>rsi_10</th>\n",
       "      <th>trima_5.0</th>\n",
       "      <th>trima_10</th>\n",
       "      <th>trima_20</th>\n",
       "      <th>trima_30</th>\n",
       "      <th>roc_10</th>\n",
       "      <th>rocr_10</th>\n",
       "      <th>ppo_10</th>\n",
       "    </tr>\n",
       "  </thead>\n",
       "  <tbody>\n",
       "    <tr>\n",
       "      <th>0</th>\n",
       "      <td>0</td>\n",
       "      <td>NONE</td>\n",
       "      <td>NONE</td>\n",
       "      <td>1</td>\n",
       "      <td>-1</td>\n",
       "      <td>(1, 0)</td>\n",
       "      <td>227.472006</td>\n",
       "      <td>0.000211</td>\n",
       "      <td>227.472157</td>\n",
       "      <td>241.349694</td>\n",
       "      <td>...</td>\n",
       "      <td>NaN</td>\n",
       "      <td>NaN</td>\n",
       "      <td>NaN</td>\n",
       "      <td>NaN</td>\n",
       "      <td>NaN</td>\n",
       "      <td>NaN</td>\n",
       "      <td>NaN</td>\n",
       "      <td>NaN</td>\n",
       "      <td>NaN</td>\n",
       "      <td>NaN</td>\n",
       "    </tr>\n",
       "    <tr>\n",
       "      <th>1</th>\n",
       "      <td>1</td>\n",
       "      <td>NONE</td>\n",
       "      <td>NONE</td>\n",
       "      <td>1</td>\n",
       "      <td>-1</td>\n",
       "      <td>(1, 0)</td>\n",
       "      <td>227.424023</td>\n",
       "      <td>0.000211</td>\n",
       "      <td>227.423321</td>\n",
       "      <td>172.481403</td>\n",
       "      <td>...</td>\n",
       "      <td>NaN</td>\n",
       "      <td>NaN</td>\n",
       "      <td>NaN</td>\n",
       "      <td>NaN</td>\n",
       "      <td>NaN</td>\n",
       "      <td>NaN</td>\n",
       "      <td>NaN</td>\n",
       "      <td>NaN</td>\n",
       "      <td>NaN</td>\n",
       "      <td>NaN</td>\n",
       "    </tr>\n",
       "    <tr>\n",
       "      <th>2</th>\n",
       "      <td>2</td>\n",
       "      <td>NONE</td>\n",
       "      <td>NONE</td>\n",
       "      <td>1</td>\n",
       "      <td>-1</td>\n",
       "      <td>(1, 0)</td>\n",
       "      <td>227.376050</td>\n",
       "      <td>0.000211</td>\n",
       "      <td>227.376139</td>\n",
       "      <td>235.518036</td>\n",
       "      <td>...</td>\n",
       "      <td>NaN</td>\n",
       "      <td>NaN</td>\n",
       "      <td>NaN</td>\n",
       "      <td>NaN</td>\n",
       "      <td>NaN</td>\n",
       "      <td>NaN</td>\n",
       "      <td>NaN</td>\n",
       "      <td>NaN</td>\n",
       "      <td>NaN</td>\n",
       "      <td>NaN</td>\n",
       "    </tr>\n",
       "    <tr>\n",
       "      <th>3</th>\n",
       "      <td>3</td>\n",
       "      <td>NONE</td>\n",
       "      <td>NONE</td>\n",
       "      <td>1</td>\n",
       "      <td>-1</td>\n",
       "      <td>(1, 0)</td>\n",
       "      <td>227.328087</td>\n",
       "      <td>0.000211</td>\n",
       "      <td>227.329150</td>\n",
       "      <td>345.676529</td>\n",
       "      <td>...</td>\n",
       "      <td>NaN</td>\n",
       "      <td>NaN</td>\n",
       "      <td>NaN</td>\n",
       "      <td>NaN</td>\n",
       "      <td>NaN</td>\n",
       "      <td>NaN</td>\n",
       "      <td>NaN</td>\n",
       "      <td>NaN</td>\n",
       "      <td>NaN</td>\n",
       "      <td>NaN</td>\n",
       "    </tr>\n",
       "    <tr>\n",
       "      <th>4</th>\n",
       "      <td>4</td>\n",
       "      <td>NONE</td>\n",
       "      <td>NONE</td>\n",
       "      <td>1</td>\n",
       "      <td>-1</td>\n",
       "      <td>(1, 0)</td>\n",
       "      <td>227.315381</td>\n",
       "      <td>0.000056</td>\n",
       "      <td>227.316263</td>\n",
       "      <td>263.796395</td>\n",
       "      <td>...</td>\n",
       "      <td>NaN</td>\n",
       "      <td>NaN</td>\n",
       "      <td>NaN</td>\n",
       "      <td>227.379973</td>\n",
       "      <td>NaN</td>\n",
       "      <td>NaN</td>\n",
       "      <td>NaN</td>\n",
       "      <td>NaN</td>\n",
       "      <td>NaN</td>\n",
       "      <td>NaN</td>\n",
       "    </tr>\n",
       "  </tbody>\n",
       "</table>\n",
       "<p>5 rows × 38 columns</p>\n",
       "</div>"
      ],
      "text/plain": [
       "   n_row new_switch cur_switch  current_model_id  new_model_id weights  \\\n",
       "0      0       NONE       NONE                 1            -1  (1, 0)   \n",
       "1      1       NONE       NONE                 1            -1  (1, 0)   \n",
       "2      2       NONE       NONE                 1            -1  (1, 0)   \n",
       "3      3       NONE       NONE                 1            -1  (1, 0)   \n",
       "4      4       NONE       NONE                 1            -1  (1, 0)   \n",
       "\n",
       "           ts    ret_ts   ts_n1_pre   ts_n2_pre  ...  wma_30  mom_10  rsi_10  \\\n",
       "0  227.472006  0.000211  227.472157  241.349694  ...     NaN     NaN     NaN   \n",
       "1  227.424023  0.000211  227.423321  172.481403  ...     NaN     NaN     NaN   \n",
       "2  227.376050  0.000211  227.376139  235.518036  ...     NaN     NaN     NaN   \n",
       "3  227.328087  0.000211  227.329150  345.676529  ...     NaN     NaN     NaN   \n",
       "4  227.315381  0.000056  227.316263  263.796395  ...     NaN     NaN     NaN   \n",
       "\n",
       "    trima_5.0  trima_10  trima_20  trima_30  roc_10  rocr_10  ppo_10  \n",
       "0         NaN       NaN       NaN       NaN     NaN      NaN     NaN  \n",
       "1         NaN       NaN       NaN       NaN     NaN      NaN     NaN  \n",
       "2         NaN       NaN       NaN       NaN     NaN      NaN     NaN  \n",
       "3         NaN       NaN       NaN       NaN     NaN      NaN     NaN  \n",
       "4  227.379973       NaN       NaN       NaN     NaN      NaN     NaN  \n",
       "\n",
       "[5 rows x 38 columns]"
      ]
     },
     "execution_count": 9,
     "metadata": {},
     "output_type": "execute_result"
    }
   ],
   "source": [
    "# all the numbers here and below assume a default time period for ta params of 10 mins averages\n",
    "# change the other numbers (params of 5min and 20min and theremoval of 20 first mins of the day below) if the mins number is changed.\n",
    "# in that case change as well the time tag '_10' with the corresponding one.\n",
    "default_timerange=10\n",
    "# Set extra timeranges for moving averages\n",
    "extra_timeranges=[default_timerange/2, default_timerange, default_timerange*2, default_timerange*3]\n",
    "\n",
    "# ###########################################\n",
    "# Iterate and run list of indicators selected\n",
    "# All of them produced for 25 prior mins of data \n",
    "# ###########################################\n",
    "for key in list(indicator.keys()):\n",
    "    if key not in ['stoch', 'macd', 'willr', 'adosc', 'cci', 'adx', \n",
    "                   'aroon', 'bbands', 'obv', 'stochf', 'medprice',\n",
    "                   'typprice', 'wclprice', 'atr', 'macdfix', 'mfi',\n",
    "                   'sar']:  # avoiding indicators that need more than 1 series (more than close: ex: high/low)\n",
    "        # For indicators that only return one column (this will need to be modified depending on the selection of indicators)\n",
    "        if key in ['ema','sma','wma','trima']: # ,'macdfix']:\n",
    "            for timerange in extra_timeranges:\n",
    "                df[key+'_'+str(timerange)]=indicator[key](df, timeperiod=timerange) \n",
    "        elif key not in ['bbands','aroon','stoch','macd','macdfix','stochf']:\n",
    "            df[key+'_'+str(default_timerange)]=indicator[key](df, timeperiod=(default_timerange))\n",
    "        # Otherwise check the list of columns and return all\n",
    "        else: \n",
    "            key_output=indicator[key](df, timeperiod=(default_timerange)) #, price='close')\n",
    "            for j in range(0,len(list(key_output.columns))):\n",
    "                df[key+'_'+key_output.columns[j]]=key_output[[j]]\n",
    "\n",
    "df.head()"
   ]
  },
  {
   "cell_type": "code",
   "execution_count": 10,
   "metadata": {
    "pycharm": {
     "is_executing": false
    }
   },
   "outputs": [
    {
     "data": {
      "text/html": [
       "<div>\n",
       "<style scoped>\n",
       "    .dataframe tbody tr th:only-of-type {\n",
       "        vertical-align: middle;\n",
       "    }\n",
       "\n",
       "    .dataframe tbody tr th {\n",
       "        vertical-align: top;\n",
       "    }\n",
       "\n",
       "    .dataframe thead th {\n",
       "        text-align: right;\n",
       "    }\n",
       "</style>\n",
       "<table border=\"1\" class=\"dataframe\">\n",
       "  <thead>\n",
       "    <tr style=\"text-align: right;\">\n",
       "      <th></th>\n",
       "      <th>close</th>\n",
       "      <th>close_t-1</th>\n",
       "      <th>close_t-2</th>\n",
       "      <th>close_t-3</th>\n",
       "      <th>close_t-4</th>\n",
       "      <th>sma_5.0</th>\n",
       "      <th>sma_10</th>\n",
       "      <th>sma_20</th>\n",
       "      <th>sma_30</th>\n",
       "      <th>ema_5.0</th>\n",
       "      <th>...</th>\n",
       "      <th>rsi_10</th>\n",
       "      <th>trima_5.0</th>\n",
       "      <th>trima_10</th>\n",
       "      <th>trima_20</th>\n",
       "      <th>trima_30</th>\n",
       "      <th>roc_10</th>\n",
       "      <th>rocr_10</th>\n",
       "      <th>ppo_10</th>\n",
       "      <th>close_t+1</th>\n",
       "      <th>label</th>\n",
       "    </tr>\n",
       "  </thead>\n",
       "  <tbody>\n",
       "    <tr>\n",
       "      <th>29</th>\n",
       "      <td>226.904783</td>\n",
       "      <td>226.922800</td>\n",
       "      <td>226.937841</td>\n",
       "      <td>226.952098</td>\n",
       "      <td>226.969010</td>\n",
       "      <td>226.937306</td>\n",
       "      <td>226.978383</td>\n",
       "      <td>227.060543</td>\n",
       "      <td>227.148536</td>\n",
       "      <td>226.937756</td>\n",
       "      <td>...</td>\n",
       "      <td>0.0</td>\n",
       "      <td>226.937457</td>\n",
       "      <td>226.978378</td>\n",
       "      <td>227.060474</td>\n",
       "      <td>227.143790</td>\n",
       "      <td>-0.072944</td>\n",
       "      <td>0.999271</td>\n",
       "      <td>-0.050559</td>\n",
       "      <td>226.886358</td>\n",
       "      <td>0</td>\n",
       "    </tr>\n",
       "    <tr>\n",
       "      <th>30</th>\n",
       "      <td>226.886358</td>\n",
       "      <td>226.904783</td>\n",
       "      <td>226.922800</td>\n",
       "      <td>226.937841</td>\n",
       "      <td>226.952098</td>\n",
       "      <td>226.920776</td>\n",
       "      <td>226.961815</td>\n",
       "      <td>227.043960</td>\n",
       "      <td>227.129015</td>\n",
       "      <td>226.920623</td>\n",
       "      <td>...</td>\n",
       "      <td>0.0</td>\n",
       "      <td>226.921345</td>\n",
       "      <td>226.961931</td>\n",
       "      <td>227.044030</td>\n",
       "      <td>227.126619</td>\n",
       "      <td>-0.072969</td>\n",
       "      <td>0.999270</td>\n",
       "      <td>-0.050622</td>\n",
       "      <td>226.870756</td>\n",
       "      <td>0</td>\n",
       "    </tr>\n",
       "    <tr>\n",
       "      <th>31</th>\n",
       "      <td>226.870756</td>\n",
       "      <td>226.886358</td>\n",
       "      <td>226.904783</td>\n",
       "      <td>226.922800</td>\n",
       "      <td>226.937841</td>\n",
       "      <td>226.904508</td>\n",
       "      <td>226.945492</td>\n",
       "      <td>227.027527</td>\n",
       "      <td>227.110572</td>\n",
       "      <td>226.904001</td>\n",
       "      <td>...</td>\n",
       "      <td>0.0</td>\n",
       "      <td>226.904585</td>\n",
       "      <td>226.945540</td>\n",
       "      <td>227.027610</td>\n",
       "      <td>227.109828</td>\n",
       "      <td>-0.071895</td>\n",
       "      <td>0.999281</td>\n",
       "      <td>-0.050673</td>\n",
       "      <td>226.856697</td>\n",
       "      <td>0</td>\n",
       "    </tr>\n",
       "    <tr>\n",
       "      <th>32</th>\n",
       "      <td>226.856697</td>\n",
       "      <td>226.870756</td>\n",
       "      <td>226.886358</td>\n",
       "      <td>226.904783</td>\n",
       "      <td>226.922800</td>\n",
       "      <td>226.888279</td>\n",
       "      <td>226.929274</td>\n",
       "      <td>227.011271</td>\n",
       "      <td>227.093261</td>\n",
       "      <td>226.888233</td>\n",
       "      <td>...</td>\n",
       "      <td>0.0</td>\n",
       "      <td>226.887739</td>\n",
       "      <td>226.929174</td>\n",
       "      <td>227.011220</td>\n",
       "      <td>227.093305</td>\n",
       "      <td>-0.071438</td>\n",
       "      <td>0.999286</td>\n",
       "      <td>-0.050633</td>\n",
       "      <td>226.840432</td>\n",
       "      <td>0</td>\n",
       "    </tr>\n",
       "    <tr>\n",
       "      <th>33</th>\n",
       "      <td>226.840432</td>\n",
       "      <td>226.856697</td>\n",
       "      <td>226.870756</td>\n",
       "      <td>226.886358</td>\n",
       "      <td>226.904783</td>\n",
       "      <td>226.871805</td>\n",
       "      <td>226.912855</td>\n",
       "      <td>226.994937</td>\n",
       "      <td>227.077006</td>\n",
       "      <td>226.872299</td>\n",
       "      <td>...</td>\n",
       "      <td>0.0</td>\n",
       "      <td>226.871510</td>\n",
       "      <td>226.912763</td>\n",
       "      <td>226.994819</td>\n",
       "      <td>227.076908</td>\n",
       "      <td>-0.072331</td>\n",
       "      <td>0.999277</td>\n",
       "      <td>-0.050563</td>\n",
       "      <td>226.821734</td>\n",
       "      <td>0</td>\n",
       "    </tr>\n",
       "  </tbody>\n",
       "</table>\n",
       "<p>5 rows × 28 columns</p>\n",
       "</div>"
      ],
      "text/plain": [
       "         close   close_t-1   close_t-2   close_t-3   close_t-4     sma_5.0  \\\n",
       "29  226.904783  226.922800  226.937841  226.952098  226.969010  226.937306   \n",
       "30  226.886358  226.904783  226.922800  226.937841  226.952098  226.920776   \n",
       "31  226.870756  226.886358  226.904783  226.922800  226.937841  226.904508   \n",
       "32  226.856697  226.870756  226.886358  226.904783  226.922800  226.888279   \n",
       "33  226.840432  226.856697  226.870756  226.886358  226.904783  226.871805   \n",
       "\n",
       "        sma_10      sma_20      sma_30     ema_5.0  ...  rsi_10   trima_5.0  \\\n",
       "29  226.978383  227.060543  227.148536  226.937756  ...     0.0  226.937457   \n",
       "30  226.961815  227.043960  227.129015  226.920623  ...     0.0  226.921345   \n",
       "31  226.945492  227.027527  227.110572  226.904001  ...     0.0  226.904585   \n",
       "32  226.929274  227.011271  227.093261  226.888233  ...     0.0  226.887739   \n",
       "33  226.912855  226.994937  227.077006  226.872299  ...     0.0  226.871510   \n",
       "\n",
       "      trima_10    trima_20    trima_30    roc_10   rocr_10    ppo_10  \\\n",
       "29  226.978378  227.060474  227.143790 -0.072944  0.999271 -0.050559   \n",
       "30  226.961931  227.044030  227.126619 -0.072969  0.999270 -0.050622   \n",
       "31  226.945540  227.027610  227.109828 -0.071895  0.999281 -0.050673   \n",
       "32  226.929174  227.011220  227.093305 -0.071438  0.999286 -0.050633   \n",
       "33  226.912763  226.994819  227.076908 -0.072331  0.999277 -0.050563   \n",
       "\n",
       "     close_t+1  label  \n",
       "29  226.886358      0  \n",
       "30  226.870756      0  \n",
       "31  226.856697      0  \n",
       "32  226.840432      0  \n",
       "33  226.821734      0  \n",
       "\n",
       "[5 rows x 28 columns]"
      ]
     },
     "execution_count": 10,
     "metadata": {},
     "output_type": "execute_result"
    }
   ],
   "source": [
    "def set_label(row):\n",
    "    if row['close_t+1'] > row['close']: return 1\n",
    "    else: return 0\n",
    "\n",
    "# One minute ahead closing price\n",
    "df['close_t+1']=df['close'].shift(-1)\n",
    "\n",
    "# Creating label/y to be predicted / independent (predicted) feature 'y' \n",
    "df['label'] = df.apply(set_label, axis=1)\n",
    "df.drop(columns=['n_row', 'new_switch', 'cur_switch', 'current_model_id', 'new_model_id', \n",
    "                 'weights', 'ts', 'ret_ts', 'ts_n1_pre', 'ts_n2_pre', 'ts_n1_post', 'ts_n2_post'], inplace=True)\n",
    "df.dropna(inplace=True)\n",
    "df.head()"
   ]
  },
  {
   "cell_type": "code",
   "execution_count": 11,
   "metadata": {
    "pycharm": {
     "is_executing": false
    }
   },
   "outputs": [
    {
     "name": "stdout",
     "output_type": "stream",
     "text": [
      "Class distribution: \n",
      "0 in 1.0%\n",
      "1 in 0.0%\n"
     ]
    },
    {
     "name": "stderr",
     "output_type": "stream",
     "text": [
      "UsageError: Line magic function `%notify` not found.\n"
     ]
    }
   ],
   "source": [
    "# Select columns for output\n",
    "columns_selected=['date',\n",
    "                 'rsi_10' ,'mom_10',\n",
    "                 'ema_5','ema_10','ema_20','ema_30',\n",
    "                 'sma_5','sma_10','sma_20','sma_30',\n",
    "                 'wma_5','wma_10','wma_20','wma_30',\n",
    "                 'trima_5','trima_10','trima_20','trima_30',\n",
    "                 'roc_10','rocr_10','adosc_10','ppo_10',\n",
    "                 'volume','volume_t-1','volume_t-2','volume_t-3','volume_t-4',\n",
    "                 'close','close_t-1','close_t-2','close_t-3','close_t-4',\n",
    "                 'high','high_t-1','high_t-2','high_t-3','high_t-4',\n",
    "                 'open','open_t-1','open_t-2','open_t-3','open_t-4',\n",
    "                 'low','low_t-1','low_t-2','low_t-3','low_t-4',\n",
    "                 'label']\n",
    "\n",
    "# Export processed data\n",
    "output = pd.DataFrame(df, columns=columns_selected)\n",
    "output.to_csv(RESULT_FILEPATH_PROCESSED, sep=';', encoding='utf-8', index = False)\n",
    "\n",
    "# Printing classes distributions\n",
    "print(\"Class distribution: \")\n",
    "label_zero=len(df[df['label'] == 0])\n",
    "label_one=len(df[df['label'] == 1])\n",
    "#print(label_zero)\n",
    "#print(label_one)\n",
    "print(\"0 in \"+str(float(label_zero)/(label_one+label_zero))+\"%\")\n",
    "print(\"1 in \"+str(float(label_one)/(label_one+label_zero))+\"%\")\n",
    "\n",
    "%notify -m \"Parsing is finished\""
   ]
  },
  {
   "cell_type": "code",
   "execution_count": 12,
   "metadata": {
    "pycharm": {
     "is_executing": false
    }
   },
   "outputs": [
    {
     "data": {
      "image/png": "[encoded data removed]",
      "text/plain": [
       "<Figure size 432x288 with 1 Axes>"
      ]
     },
     "metadata": {
      "needs_background": "light"
     },
     "output_type": "display_data"
    }
   ],
   "source": [
    "# Now plot close price and volume overtime.\n",
    "import matplotlib.pyplot as plt\n",
    "import pandas as pd\n",
    "\n",
    "df.plot(y=[\"close_t-1\"])\n",
    "plt.show()"
   ]
  },
  {
   "cell_type": "code",
   "execution_count": null,
   "metadata": {
    "pycharm": {
     "is_executing": false
    }
   },
   "outputs": [],
   "source": []
  },
  {
   "cell_type": "code",
   "execution_count": null,
   "metadata": {
    "collapsed": true,
    "pycharm": {
     "is_executing": false
    }
   },
   "outputs": [],
   "source": []
  }
 ],
 "metadata": {
  "kernelspec": {
   "display_name": "Python 3",
   "language": "python",
   "name": "python3"
  },
  "language_info": {
   "codemirror_mode": {
    "name": "ipython",
    "version": 3
   },
   "file_extension": ".py",
   "mimetype": "text/x-python",
   "name": "python",
   "nbconvert_exporter": "python",
   "pygments_lexer": "ipython3",
   "version": "3.7.3"
  },
  "pycharm": {
   "stem_cell": {
    "cell_type": "raw",
    "metadata": {
     "collapsed": false
    },
    "source": []
   }
  }
 },
 "nbformat": 4,
 "nbformat_minor": 2
}
