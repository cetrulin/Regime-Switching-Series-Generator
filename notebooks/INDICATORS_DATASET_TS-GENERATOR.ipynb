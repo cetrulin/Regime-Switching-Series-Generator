{
 "cells": [
  {
   "cell_type": "code",
   "execution_count": 1,
   "metadata": {
    "pycharm": {
     "is_executing": false
    }
   },
   "outputs": [
    {
     "data": {
      "application/javascript": [
       "if (!(\"Notification\" in window)) {\n",
       "    alert(\"This browser does not support desktop notifications, so the %%notify magic will not work.\");\n",
       "} else if (Notification.permission !== 'granted' && Notification.permission !== 'denied') {\n",
       "    Notification.requestPermission(function (permission) {\n",
       "        if(!('permission' in Notification)) {\n",
       "            Notification.permission = permission;\n",
       "        }\n",
       "    })\n",
       "}\n"
      ],
      "text/plain": [
       "<IPython.core.display.Javascript object>"
      ]
     },
     "metadata": {},
     "output_type": "display_data"
    }
   ],
   "source": [
    "# Data preparation for Ph.D thesis\n",
    "# @author: Andres L. Suarez-Cetrulo\n",
    "%config IPCompleter.greedy=True\n",
    "%load_ext jupyternotify\n",
    "%matplotlib inline"
   ]
  },
  {
   "cell_type": "code",
   "execution_count": 2,
   "metadata": {
    "pycharm": {
     "is_executing": false
    }
   },
   "outputs": [],
   "source": [
    "# Imports\n",
    "import pandas as pd\n",
    "import numpy as np\n",
    "import datetime\n",
    "from pathlib import Path\n",
    "import os\n",
    "\n",
    "# Using TALib abstract API to create a dictionary of technical indicators to iterate later.\n",
    "from talib import abstract"
   ]
  },
  {
   "cell_type": "code",
   "execution_count": 3,
   "metadata": {
    "pycharm": {
     "is_executing": false
    }
   },
   "outputs": [],
   "source": [
    "# Creating a dictionary of technical indicators using TALib abstract API\n",
    "indicators = ['sma','ema','wma','mom','stoch','macd' ,'rsi' ,'willr',\n",
    "              'adosc' ,'cci','adx','aroon' ,'bbands','obv' ,'trima',\n",
    "              'roc' ,'rocr','stochf','medprice','typprice','wclprice',\n",
    "              'atr','macdfix','mfi' ,'sar' ,'ppo']\n",
    "\n",
    "def get_indicator(ind: str):\n",
    "    return abstract.Function(ind)\n",
    "\n",
    "# Add as many indicators as necessary: see all indicators in https://mrjbq7.github.io/ta-lib/"
   ]
  },
  {
   "cell_type": "code",
   "execution_count": 4,
   "metadata": {
    "pycharm": {
     "is_executing": false
    }
   },
   "outputs": [],
   "source": [
    "# Paths\n",
    "# Paths for symbols (not eft)\n",
    "DATA_PATH=os.sep.join(['C:','Users','suare','PycharmProjects','RegimeSwitchingSeriesGenerator','output'])\n",
    "# '/Users/asuarez/Downloads'\n",
    "SOURCE_PATH=DATA_PATH # +'raw\\\\alpha_vantage\\\\S&P500\\\\symbols\\\\AAPL\\\\'  # 'raw/alpha_vantage/'\n",
    "RESULT_PATH=DATA_PATH # +'analysis\\\\'+SYMBOL.lower()+'\\\\'\n",
    "\n",
    "# List of dates for files to be loaded\n",
    "filename = 'timeseries_created_1574259300' # 'timeseries_created_1574259300' 'timeseries_created_1574272163' \n",
    "FIELD = 'ts' # price->'ts' returns->'ret_ts' ts_with_added_noise-> 'ts_n2_post'\n",
    "\n",
    "file = os.sep.join([SOURCE_PATH, filename+'.csv'])\n",
    "RESULT_FILEPATH_PROCESSED = os.sep.join([RESULT_PATH, filename+'_indicators.csv'])"
   ]
  },
  {
   "cell_type": "code",
   "execution_count": 5,
   "metadata": {
    "pycharm": {
     "is_executing": false
    }
   },
   "outputs": [
    {
     "data": {
      "text/html": [
       "<div>\n",
       "<style scoped>\n",
       "    .dataframe tbody tr th:only-of-type {\n",
       "        vertical-align: middle;\n",
       "    }\n",
       "\n",
       "    .dataframe tbody tr th {\n",
       "        vertical-align: top;\n",
       "    }\n",
       "\n",
       "    .dataframe thead th {\n",
       "        text-align: right;\n",
       "    }\n",
       "</style>\n",
       "<table border=\"1\" class=\"dataframe\">\n",
       "  <thead>\n",
       "    <tr style=\"text-align: right;\">\n",
       "      <th></th>\n",
       "      <th>open</th>\n",
       "      <th>close</th>\n",
       "      <th>high</th>\n",
       "      <th>low</th>\n",
       "    </tr>\n",
       "  </thead>\n",
       "  <tbody>\n",
       "    <tr>\n",
       "      <th>1</th>\n",
       "      <td>227.519282</td>\n",
       "      <td>227.518563</td>\n",
       "      <td>227.519282</td>\n",
       "      <td>227.518563</td>\n",
       "    </tr>\n",
       "    <tr>\n",
       "      <th>2</th>\n",
       "      <td>227.518563</td>\n",
       "      <td>227.517845</td>\n",
       "      <td>227.518563</td>\n",
       "      <td>227.517845</td>\n",
       "    </tr>\n",
       "    <tr>\n",
       "      <th>3</th>\n",
       "      <td>227.517845</td>\n",
       "      <td>227.517127</td>\n",
       "      <td>227.517845</td>\n",
       "      <td>227.517127</td>\n",
       "    </tr>\n",
       "    <tr>\n",
       "      <th>4</th>\n",
       "      <td>227.517127</td>\n",
       "      <td>227.535612</td>\n",
       "      <td>227.535612</td>\n",
       "      <td>227.517127</td>\n",
       "    </tr>\n",
       "    <tr>\n",
       "      <th>5</th>\n",
       "      <td>227.535612</td>\n",
       "      <td>227.552957</td>\n",
       "      <td>227.552957</td>\n",
       "      <td>227.535612</td>\n",
       "    </tr>\n",
       "  </tbody>\n",
       "</table>\n",
       "</div>"
      ],
      "text/plain": [
       "         open       close        high         low\n",
       "1  227.519282  227.518563  227.519282  227.518563\n",
       "2  227.518563  227.517845  227.518563  227.517845\n",
       "3  227.517845  227.517127  227.517845  227.517127\n",
       "4  227.517127  227.535612  227.535612  227.517127\n",
       "5  227.535612  227.552957  227.552957  227.535612"
      ]
     },
     "execution_count": 5,
     "metadata": {},
     "output_type": "execute_result"
    }
   ],
   "source": [
    "# Open file\n",
    "df=pd.read_csv(file)\n",
    "df['close'] = df[FIELD]\n",
    "df['open'] = df[FIELD].shift(1) # close value of previous period/row\n",
    "initial_len = len(df)\n",
    "df.dropna(inplace=True) # remove first row as open is NaN\n",
    "assert len(df) + 1 == initial_len\n",
    "df['high'] = pd.np.maximum(df['open'], df['close'])\n",
    "df['low'] = pd.np.minimum(df['open'], df['close'])\n",
    "df = df[['open','close','high','low']]\n",
    "df.head()"
   ]
  },
  {
   "cell_type": "code",
   "execution_count": 6,
   "metadata": {
    "pycharm": {
     "is_executing": false
    }
   },
   "outputs": [
    {
     "data": {
      "text/html": [
       "<div>\n",
       "<style scoped>\n",
       "    .dataframe tbody tr th:only-of-type {\n",
       "        vertical-align: middle;\n",
       "    }\n",
       "\n",
       "    .dataframe tbody tr th {\n",
       "        vertical-align: top;\n",
       "    }\n",
       "\n",
       "    .dataframe thead th {\n",
       "        text-align: right;\n",
       "    }\n",
       "</style>\n",
       "<table border=\"1\" class=\"dataframe\">\n",
       "  <thead>\n",
       "    <tr style=\"text-align: right;\">\n",
       "      <th></th>\n",
       "      <th>open</th>\n",
       "      <th>close</th>\n",
       "      <th>high</th>\n",
       "      <th>low</th>\n",
       "      <th>close_t-1</th>\n",
       "      <th>close_t-2</th>\n",
       "      <th>close_t-3</th>\n",
       "      <th>close_t-4</th>\n",
       "    </tr>\n",
       "  </thead>\n",
       "  <tbody>\n",
       "    <tr>\n",
       "      <th>1</th>\n",
       "      <td>227.519282</td>\n",
       "      <td>227.518563</td>\n",
       "      <td>227.519282</td>\n",
       "      <td>227.518563</td>\n",
       "      <td>NaN</td>\n",
       "      <td>NaN</td>\n",
       "      <td>NaN</td>\n",
       "      <td>NaN</td>\n",
       "    </tr>\n",
       "    <tr>\n",
       "      <th>2</th>\n",
       "      <td>227.518563</td>\n",
       "      <td>227.517845</td>\n",
       "      <td>227.518563</td>\n",
       "      <td>227.517845</td>\n",
       "      <td>227.518563</td>\n",
       "      <td>NaN</td>\n",
       "      <td>NaN</td>\n",
       "      <td>NaN</td>\n",
       "    </tr>\n",
       "    <tr>\n",
       "      <th>3</th>\n",
       "      <td>227.517845</td>\n",
       "      <td>227.517127</td>\n",
       "      <td>227.517845</td>\n",
       "      <td>227.517127</td>\n",
       "      <td>227.517845</td>\n",
       "      <td>227.518563</td>\n",
       "      <td>NaN</td>\n",
       "      <td>NaN</td>\n",
       "    </tr>\n",
       "    <tr>\n",
       "      <th>4</th>\n",
       "      <td>227.517127</td>\n",
       "      <td>227.535612</td>\n",
       "      <td>227.535612</td>\n",
       "      <td>227.517127</td>\n",
       "      <td>227.517127</td>\n",
       "      <td>227.517845</td>\n",
       "      <td>227.518563</td>\n",
       "      <td>NaN</td>\n",
       "    </tr>\n",
       "    <tr>\n",
       "      <th>5</th>\n",
       "      <td>227.535612</td>\n",
       "      <td>227.552957</td>\n",
       "      <td>227.552957</td>\n",
       "      <td>227.535612</td>\n",
       "      <td>227.535612</td>\n",
       "      <td>227.517127</td>\n",
       "      <td>227.517845</td>\n",
       "      <td>227.518563</td>\n",
       "    </tr>\n",
       "  </tbody>\n",
       "</table>\n",
       "</div>"
      ],
      "text/plain": [
       "         open       close        high         low   close_t-1   close_t-2  \\\n",
       "1  227.519282  227.518563  227.519282  227.518563         NaN         NaN   \n",
       "2  227.518563  227.517845  227.518563  227.517845  227.518563         NaN   \n",
       "3  227.517845  227.517127  227.517845  227.517127  227.517845  227.518563   \n",
       "4  227.517127  227.535612  227.535612  227.517127  227.517127  227.517845   \n",
       "5  227.535612  227.552957  227.552957  227.535612  227.535612  227.517127   \n",
       "\n",
       "    close_t-3   close_t-4  \n",
       "1         NaN         NaN  \n",
       "2         NaN         NaN  \n",
       "3         NaN         NaN  \n",
       "4  227.518563         NaN  \n",
       "5  227.517845  227.518563  "
      ]
     },
     "execution_count": 6,
     "metadata": {},
     "output_type": "execute_result"
    }
   ],
   "source": [
    "#Add parameters to transform in TS\n",
    "timeseries=['close']\n",
    "#Length of the TS. How many values do we keep per serie. \n",
    "# e.g. 1 -> t / 2 -> t,t-1 / 3 -> t,t-1,t-2 / 4 -> t,t-1,t-2,t-3\n",
    "length = 5\n",
    "\n",
    "# Add lagged times\n",
    "for column in timeseries:\n",
    "    #df[column+'_t']=df[column]\n",
    "    for i in range(1,length):\n",
    "        df[column+'_t-'+str(i)]=df[column].shift(i) #it could also be sorted and group by if needed\n",
    "    #del drops the delected df column\n",
    "    #del df[column]\n",
    "df.head()"
   ]
  },
  {
   "cell_type": "code",
   "execution_count": 7,
   "metadata": {
    "pycharm": {
     "is_executing": false
    }
   },
   "outputs": [
    {
     "data": {
      "text/html": [
       "<div>\n",
       "<style scoped>\n",
       "    .dataframe tbody tr th:only-of-type {\n",
       "        vertical-align: middle;\n",
       "    }\n",
       "\n",
       "    .dataframe tbody tr th {\n",
       "        vertical-align: top;\n",
       "    }\n",
       "\n",
       "    .dataframe thead th {\n",
       "        text-align: right;\n",
       "    }\n",
       "</style>\n",
       "<table border=\"1\" class=\"dataframe\">\n",
       "  <thead>\n",
       "    <tr style=\"text-align: right;\">\n",
       "      <th></th>\n",
       "      <th>open</th>\n",
       "      <th>close</th>\n",
       "      <th>high</th>\n",
       "      <th>low</th>\n",
       "      <th>close_t-1</th>\n",
       "      <th>close_t-2</th>\n",
       "      <th>close_t-3</th>\n",
       "      <th>close_t-4</th>\n",
       "      <th>sma_5</th>\n",
       "      <th>sma_10</th>\n",
       "      <th>...</th>\n",
       "      <th>stochf_fastd</th>\n",
       "      <th>medprice_10</th>\n",
       "      <th>typprice_10</th>\n",
       "      <th>wclprice_10</th>\n",
       "      <th>atr_10</th>\n",
       "      <th>macdfix_macd</th>\n",
       "      <th>macdfix_macdsignal</th>\n",
       "      <th>macdfix_macdhist</th>\n",
       "      <th>sar_10</th>\n",
       "      <th>ppo_10</th>\n",
       "    </tr>\n",
       "  </thead>\n",
       "  <tbody>\n",
       "    <tr>\n",
       "      <th>1</th>\n",
       "      <td>227.519282</td>\n",
       "      <td>227.518563</td>\n",
       "      <td>227.519282</td>\n",
       "      <td>227.518563</td>\n",
       "      <td>NaN</td>\n",
       "      <td>NaN</td>\n",
       "      <td>NaN</td>\n",
       "      <td>NaN</td>\n",
       "      <td>NaN</td>\n",
       "      <td>NaN</td>\n",
       "      <td>...</td>\n",
       "      <td>NaN</td>\n",
       "      <td>227.518922</td>\n",
       "      <td>227.518803</td>\n",
       "      <td>227.518743</td>\n",
       "      <td>NaN</td>\n",
       "      <td>NaN</td>\n",
       "      <td>NaN</td>\n",
       "      <td>NaN</td>\n",
       "      <td>NaN</td>\n",
       "      <td>NaN</td>\n",
       "    </tr>\n",
       "    <tr>\n",
       "      <th>2</th>\n",
       "      <td>227.518563</td>\n",
       "      <td>227.517845</td>\n",
       "      <td>227.518563</td>\n",
       "      <td>227.517845</td>\n",
       "      <td>227.518563</td>\n",
       "      <td>NaN</td>\n",
       "      <td>NaN</td>\n",
       "      <td>NaN</td>\n",
       "      <td>NaN</td>\n",
       "      <td>NaN</td>\n",
       "      <td>...</td>\n",
       "      <td>NaN</td>\n",
       "      <td>227.518204</td>\n",
       "      <td>227.518084</td>\n",
       "      <td>227.518025</td>\n",
       "      <td>NaN</td>\n",
       "      <td>NaN</td>\n",
       "      <td>NaN</td>\n",
       "      <td>NaN</td>\n",
       "      <td>227.519282</td>\n",
       "      <td>NaN</td>\n",
       "    </tr>\n",
       "    <tr>\n",
       "      <th>3</th>\n",
       "      <td>227.517845</td>\n",
       "      <td>227.517127</td>\n",
       "      <td>227.517845</td>\n",
       "      <td>227.517127</td>\n",
       "      <td>227.517845</td>\n",
       "      <td>227.518563</td>\n",
       "      <td>NaN</td>\n",
       "      <td>NaN</td>\n",
       "      <td>NaN</td>\n",
       "      <td>NaN</td>\n",
       "      <td>...</td>\n",
       "      <td>NaN</td>\n",
       "      <td>227.517486</td>\n",
       "      <td>227.517366</td>\n",
       "      <td>227.517306</td>\n",
       "      <td>NaN</td>\n",
       "      <td>NaN</td>\n",
       "      <td>NaN</td>\n",
       "      <td>NaN</td>\n",
       "      <td>227.519253</td>\n",
       "      <td>NaN</td>\n",
       "    </tr>\n",
       "    <tr>\n",
       "      <th>4</th>\n",
       "      <td>227.517127</td>\n",
       "      <td>227.535612</td>\n",
       "      <td>227.535612</td>\n",
       "      <td>227.517127</td>\n",
       "      <td>227.517127</td>\n",
       "      <td>227.517845</td>\n",
       "      <td>227.518563</td>\n",
       "      <td>NaN</td>\n",
       "      <td>NaN</td>\n",
       "      <td>NaN</td>\n",
       "      <td>...</td>\n",
       "      <td>NaN</td>\n",
       "      <td>227.526369</td>\n",
       "      <td>227.529450</td>\n",
       "      <td>227.530990</td>\n",
       "      <td>NaN</td>\n",
       "      <td>NaN</td>\n",
       "      <td>NaN</td>\n",
       "      <td>NaN</td>\n",
       "      <td>227.517127</td>\n",
       "      <td>NaN</td>\n",
       "    </tr>\n",
       "    <tr>\n",
       "      <th>5</th>\n",
       "      <td>227.535612</td>\n",
       "      <td>227.552957</td>\n",
       "      <td>227.552957</td>\n",
       "      <td>227.535612</td>\n",
       "      <td>227.535612</td>\n",
       "      <td>227.517127</td>\n",
       "      <td>227.517845</td>\n",
       "      <td>227.518563</td>\n",
       "      <td>227.528421</td>\n",
       "      <td>NaN</td>\n",
       "      <td>...</td>\n",
       "      <td>NaN</td>\n",
       "      <td>227.544284</td>\n",
       "      <td>227.547175</td>\n",
       "      <td>227.548621</td>\n",
       "      <td>NaN</td>\n",
       "      <td>NaN</td>\n",
       "      <td>NaN</td>\n",
       "      <td>NaN</td>\n",
       "      <td>227.517127</td>\n",
       "      <td>NaN</td>\n",
       "    </tr>\n",
       "  </tbody>\n",
       "</table>\n",
       "<p>5 rows × 49 columns</p>\n",
       "</div>"
      ],
      "text/plain": [
       "         open       close        high         low   close_t-1   close_t-2  \\\n",
       "1  227.519282  227.518563  227.519282  227.518563         NaN         NaN   \n",
       "2  227.518563  227.517845  227.518563  227.517845  227.518563         NaN   \n",
       "3  227.517845  227.517127  227.517845  227.517127  227.517845  227.518563   \n",
       "4  227.517127  227.535612  227.535612  227.517127  227.517127  227.517845   \n",
       "5  227.535612  227.552957  227.552957  227.535612  227.535612  227.517127   \n",
       "\n",
       "    close_t-3   close_t-4       sma_5  sma_10  ...  stochf_fastd  medprice_10  \\\n",
       "1         NaN         NaN         NaN     NaN  ...           NaN   227.518922   \n",
       "2         NaN         NaN         NaN     NaN  ...           NaN   227.518204   \n",
       "3         NaN         NaN         NaN     NaN  ...           NaN   227.517486   \n",
       "4  227.518563         NaN         NaN     NaN  ...           NaN   227.526369   \n",
       "5  227.517845  227.518563  227.528421     NaN  ...           NaN   227.544284   \n",
       "\n",
       "   typprice_10  wclprice_10  atr_10  macdfix_macd  macdfix_macdsignal  \\\n",
       "1   227.518803   227.518743     NaN           NaN                 NaN   \n",
       "2   227.518084   227.518025     NaN           NaN                 NaN   \n",
       "3   227.517366   227.517306     NaN           NaN                 NaN   \n",
       "4   227.529450   227.530990     NaN           NaN                 NaN   \n",
       "5   227.547175   227.548621     NaN           NaN                 NaN   \n",
       "\n",
       "   macdfix_macdhist      sar_10  ppo_10  \n",
       "1               NaN         NaN     NaN  \n",
       "2               NaN  227.519282     NaN  \n",
       "3               NaN  227.519253     NaN  \n",
       "4               NaN  227.517127     NaN  \n",
       "5               NaN  227.517127     NaN  \n",
       "\n",
       "[5 rows x 49 columns]"
      ]
     },
     "execution_count": 7,
     "metadata": {},
     "output_type": "execute_result"
    }
   ],
   "source": [
    "# all the numbers here and below assume a default time period for ta params of 10 mins averages\n",
    "# change the other numbers (params of 5min and 20min and theremoval of 20 first mins of the day below) if the mins number is changed.\n",
    "# in that case change as well the time tag '_10' with the corresponding one.\n",
    "default_timerange=10\n",
    "# Set extra timeranges for moving averages\n",
    "extra_timeranges=[default_timerange/2, default_timerange, default_timerange*2, default_timerange*3]\n",
    "\n",
    "# ###########################################\n",
    "# Iterate and run list of indicators selected\n",
    "# All of them produced for 25 prior mins of data \n",
    "# ###########################################\n",
    "for ind in list(indicators):\n",
    "    if ind not in ['adosc', 'obv', 'mfi']:  # avoiding indicators that need volume\n",
    "        # For indicators that only return one column (this will need to be modified depending on the selection of indicators)\n",
    "        if ind in ['ema','sma','trima']:\n",
    "            for timerange in extra_timeranges:\n",
    "                df[ind+'_'+str(int(timerange))] = get_indicator(ind)(df, timeperiod=timerange) \n",
    "        elif ind not in ['bbands','aroon','stoch','macd','macdfix','stochf']:\n",
    "            df[ind+'_'+str(int(default_timerange))] = get_indicator(ind)(df, timeperiod=(default_timerange))\n",
    "        # Otherwise check the list of columns and return all\n",
    "        else: \n",
    "            key_output=get_indicator(ind)(df, timeperiod=(default_timerange)) #, price='close')\n",
    "            for j in range(0,len(list(key_output.columns))):\n",
    "                df[ind+'_'+key_output.columns[int(j)]] = key_output[key_output.columns[j]]\n",
    "df.head()"
   ]
  },
  {
   "cell_type": "code",
   "execution_count": 8,
   "metadata": {
    "pycharm": {
     "is_executing": false
    }
   },
   "outputs": [
    {
     "data": {
      "text/html": [
       "<div>\n",
       "<style scoped>\n",
       "    .dataframe tbody tr th:only-of-type {\n",
       "        vertical-align: middle;\n",
       "    }\n",
       "\n",
       "    .dataframe tbody tr th {\n",
       "        vertical-align: top;\n",
       "    }\n",
       "\n",
       "    .dataframe thead th {\n",
       "        text-align: right;\n",
       "    }\n",
       "</style>\n",
       "<table border=\"1\" class=\"dataframe\">\n",
       "  <thead>\n",
       "    <tr style=\"text-align: right;\">\n",
       "      <th></th>\n",
       "      <th>open</th>\n",
       "      <th>close</th>\n",
       "      <th>high</th>\n",
       "      <th>low</th>\n",
       "      <th>close_t-1</th>\n",
       "      <th>close_t-2</th>\n",
       "      <th>close_t-3</th>\n",
       "      <th>close_t-4</th>\n",
       "      <th>sma_5</th>\n",
       "      <th>sma_10</th>\n",
       "      <th>...</th>\n",
       "      <th>typprice_10</th>\n",
       "      <th>wclprice_10</th>\n",
       "      <th>atr_10</th>\n",
       "      <th>macdfix_macd</th>\n",
       "      <th>macdfix_macdsignal</th>\n",
       "      <th>macdfix_macdhist</th>\n",
       "      <th>sar_10</th>\n",
       "      <th>ppo_10</th>\n",
       "      <th>close_t+1</th>\n",
       "      <th>label</th>\n",
       "    </tr>\n",
       "  </thead>\n",
       "  <tbody>\n",
       "    <tr>\n",
       "      <th>34</th>\n",
       "      <td>228.013910</td>\n",
       "      <td>228.029141</td>\n",
       "      <td>228.029141</td>\n",
       "      <td>228.013910</td>\n",
       "      <td>228.013910</td>\n",
       "      <td>227.997348</td>\n",
       "      <td>227.979579</td>\n",
       "      <td>227.962656</td>\n",
       "      <td>227.996527</td>\n",
       "      <td>227.955340</td>\n",
       "      <td>...</td>\n",
       "      <td>228.024064</td>\n",
       "      <td>228.025333</td>\n",
       "      <td>0.016165</td>\n",
       "      <td>0.111079</td>\n",
       "      <td>0.112055</td>\n",
       "      <td>-0.000976</td>\n",
       "      <td>227.947208</td>\n",
       "      <td>0.050638</td>\n",
       "      <td>228.045050</td>\n",
       "      <td>1</td>\n",
       "    </tr>\n",
       "    <tr>\n",
       "      <th>35</th>\n",
       "      <td>228.029141</td>\n",
       "      <td>228.045050</td>\n",
       "      <td>228.045050</td>\n",
       "      <td>228.029141</td>\n",
       "      <td>228.029141</td>\n",
       "      <td>228.013910</td>\n",
       "      <td>227.997348</td>\n",
       "      <td>227.979579</td>\n",
       "      <td>228.013006</td>\n",
       "      <td>227.971787</td>\n",
       "      <td>...</td>\n",
       "      <td>228.039747</td>\n",
       "      <td>228.041073</td>\n",
       "      <td>0.016140</td>\n",
       "      <td>0.110854</td>\n",
       "      <td>0.111815</td>\n",
       "      <td>-0.000961</td>\n",
       "      <td>227.963595</td>\n",
       "      <td>0.050597</td>\n",
       "      <td>228.062567</td>\n",
       "      <td>1</td>\n",
       "    </tr>\n",
       "    <tr>\n",
       "      <th>36</th>\n",
       "      <td>228.045050</td>\n",
       "      <td>228.062567</td>\n",
       "      <td>228.062567</td>\n",
       "      <td>228.045050</td>\n",
       "      <td>228.045050</td>\n",
       "      <td>228.029141</td>\n",
       "      <td>228.013910</td>\n",
       "      <td>227.997348</td>\n",
       "      <td>228.029603</td>\n",
       "      <td>227.988365</td>\n",
       "      <td>...</td>\n",
       "      <td>228.056728</td>\n",
       "      <td>228.058188</td>\n",
       "      <td>0.016277</td>\n",
       "      <td>0.110744</td>\n",
       "      <td>0.111601</td>\n",
       "      <td>-0.000857</td>\n",
       "      <td>227.979886</td>\n",
       "      <td>0.050588</td>\n",
       "      <td>228.080053</td>\n",
       "      <td>1</td>\n",
       "    </tr>\n",
       "    <tr>\n",
       "      <th>37</th>\n",
       "      <td>228.062567</td>\n",
       "      <td>228.080053</td>\n",
       "      <td>228.080053</td>\n",
       "      <td>228.062567</td>\n",
       "      <td>228.062567</td>\n",
       "      <td>228.045050</td>\n",
       "      <td>228.029141</td>\n",
       "      <td>228.013910</td>\n",
       "      <td>228.046144</td>\n",
       "      <td>228.004925</td>\n",
       "      <td>...</td>\n",
       "      <td>228.074224</td>\n",
       "      <td>228.075681</td>\n",
       "      <td>0.016398</td>\n",
       "      <td>0.110722</td>\n",
       "      <td>0.111425</td>\n",
       "      <td>-0.000703</td>\n",
       "      <td>227.996422</td>\n",
       "      <td>0.050625</td>\n",
       "      <td>228.095916</td>\n",
       "      <td>1</td>\n",
       "    </tr>\n",
       "    <tr>\n",
       "      <th>38</th>\n",
       "      <td>228.080053</td>\n",
       "      <td>228.095916</td>\n",
       "      <td>228.095916</td>\n",
       "      <td>228.080053</td>\n",
       "      <td>228.080053</td>\n",
       "      <td>228.062567</td>\n",
       "      <td>228.045050</td>\n",
       "      <td>228.029141</td>\n",
       "      <td>228.062545</td>\n",
       "      <td>228.021350</td>\n",
       "      <td>...</td>\n",
       "      <td>228.090628</td>\n",
       "      <td>228.091950</td>\n",
       "      <td>0.016345</td>\n",
       "      <td>0.110650</td>\n",
       "      <td>0.111270</td>\n",
       "      <td>-0.000620</td>\n",
       "      <td>228.013148</td>\n",
       "      <td>0.050650</td>\n",
       "      <td>228.111159</td>\n",
       "      <td>1</td>\n",
       "    </tr>\n",
       "  </tbody>\n",
       "</table>\n",
       "<p>5 rows × 51 columns</p>\n",
       "</div>"
      ],
      "text/plain": [
       "          open       close        high         low   close_t-1   close_t-2  \\\n",
       "34  228.013910  228.029141  228.029141  228.013910  228.013910  227.997348   \n",
       "35  228.029141  228.045050  228.045050  228.029141  228.029141  228.013910   \n",
       "36  228.045050  228.062567  228.062567  228.045050  228.045050  228.029141   \n",
       "37  228.062567  228.080053  228.080053  228.062567  228.062567  228.045050   \n",
       "38  228.080053  228.095916  228.095916  228.080053  228.080053  228.062567   \n",
       "\n",
       "     close_t-3   close_t-4       sma_5      sma_10  ...  typprice_10  \\\n",
       "34  227.979579  227.962656  227.996527  227.955340  ...   228.024064   \n",
       "35  227.997348  227.979579  228.013006  227.971787  ...   228.039747   \n",
       "36  228.013910  227.997348  228.029603  227.988365  ...   228.056728   \n",
       "37  228.029141  228.013910  228.046144  228.004925  ...   228.074224   \n",
       "38  228.045050  228.029141  228.062545  228.021350  ...   228.090628   \n",
       "\n",
       "    wclprice_10    atr_10  macdfix_macd  macdfix_macdsignal  macdfix_macdhist  \\\n",
       "34   228.025333  0.016165      0.111079            0.112055         -0.000976   \n",
       "35   228.041073  0.016140      0.110854            0.111815         -0.000961   \n",
       "36   228.058188  0.016277      0.110744            0.111601         -0.000857   \n",
       "37   228.075681  0.016398      0.110722            0.111425         -0.000703   \n",
       "38   228.091950  0.016345      0.110650            0.111270         -0.000620   \n",
       "\n",
       "        sar_10    ppo_10   close_t+1  label  \n",
       "34  227.947208  0.050638  228.045050      1  \n",
       "35  227.963595  0.050597  228.062567      1  \n",
       "36  227.979886  0.050588  228.080053      1  \n",
       "37  227.996422  0.050625  228.095916      1  \n",
       "38  228.013148  0.050650  228.111159      1  \n",
       "\n",
       "[5 rows x 51 columns]"
      ]
     },
     "execution_count": 8,
     "metadata": {},
     "output_type": "execute_result"
    }
   ],
   "source": [
    "def set_label(row):\n",
    "    if row['close_t+1'] > row['close']: return 1\n",
    "    else: return 0\n",
    "\n",
    "# One minute ahead closing price\n",
    "df['close_t+1']=df['close'].shift(-1)\n",
    "\n",
    "# Creating label/y to be predicted / independent (predicted) feature 'y' \n",
    "df['label'] = df.apply(set_label, axis=1)\n",
    "# df.drop(columns=['n_row', 'new_switch', 'cur_switch', 'current_model_id', 'new_model_id', \n",
    "#                  'weights', 'ts', 'ret_ts', 'ts_n1_pre', 'ts_n2_pre', 'ts_n1_post', 'ts_n2_post'], inplace=True)\n",
    "# df = df[26000:]\n",
    "df.dropna(inplace=True)\n",
    "df.head()"
   ]
  },
  {
   "cell_type": "code",
   "execution_count": 9,
   "metadata": {},
   "outputs": [],
   "source": [
    "df = df[41200:]\n"
   ]
  },
  {
   "cell_type": "code",
   "execution_count": 10,
   "metadata": {
    "pycharm": {
     "is_executing": false
    }
   },
   "outputs": [
    {
     "name": "stdout",
     "output_type": "stream",
     "text": [
      "Class distribution: \n",
      "0 in 0.6159702110053785%\n",
      "1 in 0.3840297889946214%\n"
     ]
    },
    {
     "data": {
      "application/javascript": [
       "$(document).ready(\n",
       "    function() {\n",
       "        function appendUniqueDiv(){\n",
       "            // append a div with our uuid so we can check that it's already\n",
       "            // been sent and avoid duplicates on page reload\n",
       "            var notifiedDiv = document.createElement(\"div\")\n",
       "            notifiedDiv.id = \"3b500d4c-ab1b-472f-a6a7-26c5dfd49b94\"\n",
       "            element.append(notifiedDiv)\n",
       "        }\n",
       "\n",
       "        // only send notifications if the pageload is complete; this will\n",
       "        // help stop extra notifications when a saved notebook is loaded,\n",
       "        // which during testing gives us state \"interactive\", not \"complete\"\n",
       "        if (document.readyState === 'complete') {\n",
       "            // check for the div that signifies that the notification\n",
       "            // was already sent\n",
       "            if (document.getElementById(\"3b500d4c-ab1b-472f-a6a7-26c5dfd49b94\") === null) {\n",
       "                var notificationPayload = {\"requireInteraction\": false, \"icon\": \"/static/base/images/favicon.ico\", \"body\": \"Parsing is finished\"};\n",
       "                if (Notification.permission !== 'denied') {\n",
       "                    if (Notification.permission !== 'granted') { \n",
       "                        Notification.requestPermission(function (permission) {\n",
       "                            if(!('permission' in Notification)) {\n",
       "                                Notification.permission = permission\n",
       "                            }\n",
       "                        })\n",
       "                    }\n",
       "                    if (Notification.permission === 'granted') {\n",
       "                    var notification = new Notification(\"Jupyter Notebook\", notificationPayload)\n",
       "                    appendUniqueDiv()\n",
       "                    notification.onclick = function () {\n",
       "                        window.focus();\n",
       "                        this.close();\n",
       "                        };\n",
       "                    } \n",
       "                }     \n",
       "            }\n",
       "        }\n",
       "    }\n",
       ")\n"
      ],
      "text/plain": [
       "<IPython.core.display.Javascript object>"
      ]
     },
     "metadata": {},
     "output_type": "display_data"
    }
   ],
   "source": [
    "# Select columns for output\n",
    "# columns_selected=[\n",
    "#                  'rsi_10' ,'mom_10','ema_10','ema_20','ema_30',\n",
    "#                  'sma_10','sma_20','sma_30','wma_10','wma_20','wma_30',\n",
    "#                  'trima_10','trima_20','trima_30',\n",
    "#                  'roc_10','rocr_10','ppo_10',\n",
    "#                  'close','close_t-1','close_t-2','close_t-3','close_t-4',\n",
    "#                  'label']\n",
    "\n",
    "# selection through grid search\n",
    "columns_selected = ['rsi_10','willr_10','macd_macd','cci_10','mom_10','stoch_slowk','stoch_slowd','sma_5','sma_10',\n",
    "                    'wma_10','ema_10','trima_10','adx_10','bbands_upperband','bbands_lowerband','roc_10',\n",
    "                    'aroon_aroondown','aroon_aroonup','label']\n",
    "\n",
    "# Export processed data\n",
    "output = pd.DataFrame(df, columns=columns_selected)\n",
    "# output.to_csv(RESULT_FILEPATH_PROCESSED, sep=';', encoding='utf-8', index = False)\n",
    "\n",
    "# Printing classes distributions\n",
    "print(\"Class distribution: \")\n",
    "label_zero=len(df[df['label'] == 0])\n",
    "label_one=len(df[df['label'] == 1])\n",
    "#print(label_zero)\n",
    "#print(label_one)\n",
    "print(\"0 in \"+str(float(label_zero)/(label_one+label_zero))+\"%\")\n",
    "print(\"1 in \"+str(float(label_one)/(label_one+label_zero))+\"%\")\n",
    "\n",
    "%notify -m \"Parsing is finished\""
   ]
  },
  {
   "cell_type": "code",
   "execution_count": 14,
   "metadata": {
    "pycharm": {
     "is_executing": false
    }
   },
   "outputs": [
    {
     "data": {
      "image/png": "[encoded data removed]",
      "text/plain": [
       "<Figure size 432x288 with 1 Axes>"
      ]
     },
     "metadata": {
      "needs_background": "light"
     },
     "output_type": "display_data"
    }
   ],
   "source": [
    "# Now plot close price and volume overtime.\n",
    "import matplotlib.pyplot as plt\n",
    "import pandas as pd\n",
    "\n",
    "df.plot(y=[\"close_t-1\"])\n",
    "plt.show()"
   ]
  },
  {
   "cell_type": "code",
   "execution_count": 13,
   "metadata": {
    "pycharm": {
     "is_executing": false
    }
   },
   "outputs": [
    {
     "data": {
      "text/plain": [
       "108765"
      ]
     },
     "execution_count": 13,
     "metadata": {},
     "output_type": "execute_result"
    }
   ],
   "source": [
    "len(df)"
   ]
  },
  {
   "cell_type": "code",
   "execution_count": 15,
   "metadata": {
    "pycharm": {
     "is_executing": false
    }
   },
   "outputs": [
    {
     "data": {
      "text/plain": [
       "<matplotlib.axes._subplots.AxesSubplot at 0x209bd7a0a58>"
      ]
     },
     "execution_count": 15,
     "metadata": {},
     "output_type": "execute_result"
    },
    {
     "data": {
      "image/png": "[encoded data removed]",
      "text/plain": [
       "<Figure size 432x288 with 1 Axes>"
      ]
     },
     "metadata": {
      "needs_background": "light"
     },
     "output_type": "display_data"
    }
   ],
   "source": [
    "output.plot(y=[\"label\"])\n"
   ]
  },
  {
   "cell_type": "code",
   "execution_count": null,
   "metadata": {},
   "outputs": [],
   "source": []
  }
 ],
 "metadata": {
  "kernelspec": {
   "display_name": "Python 3",
   "language": "python",
   "name": "python3"
  },
  "language_info": {
   "codemirror_mode": {
    "name": "ipython",
    "version": 3
   },
   "file_extension": ".py",
   "mimetype": "text/x-python",
   "name": "python",
   "nbconvert_exporter": "python",
   "pygments_lexer": "ipython3",
   "version": "3.7.3"
  },
  "pycharm": {
   "stem_cell": {
    "cell_type": "raw",
    "metadata": {
     "collapsed": false
    },
    "source": []
   }
  }
 },
 "nbformat": 4,
 "nbformat_minor": 2
}
