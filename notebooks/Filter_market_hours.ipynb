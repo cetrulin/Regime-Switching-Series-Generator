{
 "cells": [
  {
   "cell_type": "code",
   "execution_count": 1,
   "metadata": {
    "pycharm": {
     "is_executing": false
    }
   },
   "outputs": [],
   "source": [
    "import pandas as pd\n",
    "import os"
   ]
  },
  {
   "cell_type": "code",
   "execution_count": 3,
   "metadata": {
    "pycharm": {
     "is_executing": false
    }
   },
   "outputs": [],
   "source": [
    "# path = os.sep.join(['C:','Users','suare','PycharmProjects','RegimeSwitchingSeriesGenerator','data','efts','30min-level',\n",
    "#                     'IBEX','IBEX_[2017-01-01_to_2018-01-01]'])\n",
    "\n",
    "path = os.sep.join(['C:','Users','suare','PycharmProjects','RegimeSwitchingSeriesGenerator','data','efts','1min-level',\n",
    "                    'DOWJONES','DOWJONES_[2015-01-01_to_2016-01-01]'])"
   ]
  },
  {
   "cell_type": "code",
   "execution_count": 4,
   "metadata": {
    "pycharm": {
     "is_executing": false
    }
   },
   "outputs": [
    {
     "data": {
      "text/plain": "362357"
     },
     "metadata": {},
     "output_type": "execute_result",
     "execution_count": 4
    }
   ],
   "source": [
    "df = pd.read_csv(path+'.csv.gz', sep=';', compression='gzip')\n",
    "len(df)"
   ]
  },
  {
   "cell_type": "code",
   "execution_count": 5,
   "metadata": {
    "pycharm": {
     "is_executing": false
    }
   },
   "outputs": [
    {
     "data": {
      "text/plain": "                      open   high    low  close  volume  gap   timestamp\ndatetime                                                                \n2015-01-02 04:00:00  178.2  178.2  178.2  178.2   850.0  0.0  1420171200\n2015-01-02 04:01:00  178.2  178.2  178.2  178.2     0.0  1.0  1420171260\n2015-01-02 04:02:00  178.2  178.2  178.2  178.2     0.0  1.0  1420171320\n2015-01-02 04:03:00  178.2  178.2  178.2  178.2     0.0  1.0  1420171380\n2015-01-02 04:04:00  178.2  178.2  178.2  178.2     0.0  1.0  1420171440",
      "text/html": "<div>\n<style scoped>\n    .dataframe tbody tr th:only-of-type {\n        vertical-align: middle;\n    }\n\n    .dataframe tbody tr th {\n        vertical-align: top;\n    }\n\n    .dataframe thead th {\n        text-align: right;\n    }\n</style>\n<table border=\"1\" class=\"dataframe\">\n  <thead>\n    <tr style=\"text-align: right;\">\n      <th></th>\n      <th>open</th>\n      <th>high</th>\n      <th>low</th>\n      <th>close</th>\n      <th>volume</th>\n      <th>gap</th>\n      <th>timestamp</th>\n    </tr>\n    <tr>\n      <th>datetime</th>\n      <th></th>\n      <th></th>\n      <th></th>\n      <th></th>\n      <th></th>\n      <th></th>\n      <th></th>\n    </tr>\n  </thead>\n  <tbody>\n    <tr>\n      <th>2015-01-02 04:00:00</th>\n      <td>178.2</td>\n      <td>178.2</td>\n      <td>178.2</td>\n      <td>178.2</td>\n      <td>850.0</td>\n      <td>0.0</td>\n      <td>1420171200</td>\n    </tr>\n    <tr>\n      <th>2015-01-02 04:01:00</th>\n      <td>178.2</td>\n      <td>178.2</td>\n      <td>178.2</td>\n      <td>178.2</td>\n      <td>0.0</td>\n      <td>1.0</td>\n      <td>1420171260</td>\n    </tr>\n    <tr>\n      <th>2015-01-02 04:02:00</th>\n      <td>178.2</td>\n      <td>178.2</td>\n      <td>178.2</td>\n      <td>178.2</td>\n      <td>0.0</td>\n      <td>1.0</td>\n      <td>1420171320</td>\n    </tr>\n    <tr>\n      <th>2015-01-02 04:03:00</th>\n      <td>178.2</td>\n      <td>178.2</td>\n      <td>178.2</td>\n      <td>178.2</td>\n      <td>0.0</td>\n      <td>1.0</td>\n      <td>1420171380</td>\n    </tr>\n    <tr>\n      <th>2015-01-02 04:04:00</th>\n      <td>178.2</td>\n      <td>178.2</td>\n      <td>178.2</td>\n      <td>178.2</td>\n      <td>0.0</td>\n      <td>1.0</td>\n      <td>1420171440</td>\n    </tr>\n  </tbody>\n</table>\n</div>"
     },
     "metadata": {},
     "output_type": "execute_result",
     "execution_count": 5
    }
   ],
   "source": [
    "df.index = pd.to_datetime(df.datetime)\n",
    "df.drop(columns=['datetime'], inplace=True)\n",
    "df.sort_index(inplace=True)\n",
    "df.head()"
   ]
  },
  {
   "cell_type": "code",
   "execution_count": 6,
   "metadata": {
    "pycharm": {
     "is_executing": false
    }
   },
   "outputs": [
    {
     "data": {
      "text/plain": "                         open      high       low    close   volume  gap  \\\ndatetime                                                                   \n2015-01-02 09:30:00  178.6200  178.7300  178.5601  178.660  84826.0  0.0   \n2015-01-02 09:31:00  178.6800  178.7154  178.5701  178.690  19078.0  0.0   \n2015-01-02 09:32:00  178.7099  178.8040  178.6800  178.804  12179.0  0.0   \n2015-01-02 09:33:00  178.7950  178.8900  178.7700  178.890  16965.0  0.0   \n2015-01-02 09:34:00  178.8900  178.9100  178.8300  178.870  22910.0  0.0   \n\n                      timestamp  \ndatetime                         \n2015-01-02 09:30:00  1420191000  \n2015-01-02 09:31:00  1420191060  \n2015-01-02 09:32:00  1420191120  \n2015-01-02 09:33:00  1420191180  \n2015-01-02 09:34:00  1420191240  ",
      "text/html": "<div>\n<style scoped>\n    .dataframe tbody tr th:only-of-type {\n        vertical-align: middle;\n    }\n\n    .dataframe tbody tr th {\n        vertical-align: top;\n    }\n\n    .dataframe thead th {\n        text-align: right;\n    }\n</style>\n<table border=\"1\" class=\"dataframe\">\n  <thead>\n    <tr style=\"text-align: right;\">\n      <th></th>\n      <th>open</th>\n      <th>high</th>\n      <th>low</th>\n      <th>close</th>\n      <th>volume</th>\n      <th>gap</th>\n      <th>timestamp</th>\n    </tr>\n    <tr>\n      <th>datetime</th>\n      <th></th>\n      <th></th>\n      <th></th>\n      <th></th>\n      <th></th>\n      <th></th>\n      <th></th>\n    </tr>\n  </thead>\n  <tbody>\n    <tr>\n      <th>2015-01-02 09:30:00</th>\n      <td>178.6200</td>\n      <td>178.7300</td>\n      <td>178.5601</td>\n      <td>178.660</td>\n      <td>84826.0</td>\n      <td>0.0</td>\n      <td>1420191000</td>\n    </tr>\n    <tr>\n      <th>2015-01-02 09:31:00</th>\n      <td>178.6800</td>\n      <td>178.7154</td>\n      <td>178.5701</td>\n      <td>178.690</td>\n      <td>19078.0</td>\n      <td>0.0</td>\n      <td>1420191060</td>\n    </tr>\n    <tr>\n      <th>2015-01-02 09:32:00</th>\n      <td>178.7099</td>\n      <td>178.8040</td>\n      <td>178.6800</td>\n      <td>178.804</td>\n      <td>12179.0</td>\n      <td>0.0</td>\n      <td>1420191120</td>\n    </tr>\n    <tr>\n      <th>2015-01-02 09:33:00</th>\n      <td>178.7950</td>\n      <td>178.8900</td>\n      <td>178.7700</td>\n      <td>178.890</td>\n      <td>16965.0</td>\n      <td>0.0</td>\n      <td>1420191180</td>\n    </tr>\n    <tr>\n      <th>2015-01-02 09:34:00</th>\n      <td>178.8900</td>\n      <td>178.9100</td>\n      <td>178.8300</td>\n      <td>178.870</td>\n      <td>22910.0</td>\n      <td>0.0</td>\n      <td>1420191240</td>\n    </tr>\n  </tbody>\n</table>\n</div>"
     },
     "metadata": {},
     "output_type": "execute_result",
     "execution_count": 6
    }
   ],
   "source": [
    "df = df.between_time('09:30','16:00')\n",
    "df.head()"
   ]
  },
  {
   "cell_type": "code",
   "execution_count": 7,
   "metadata": {
    "pycharm": {
     "is_executing": false
    }
   },
   "outputs": [],
   "source": [
    "df.to_csv(path+'_market_hours.csv', sep=';')"
   ]
  },
  {
   "cell_type": "code",
   "execution_count": null,
   "metadata": {},
   "outputs": [],
   "source": []
  }
 ],
 "metadata": {
  "kernelspec": {
   "display_name": "Python 3",
   "language": "python",
   "name": "python3"
  },
  "language_info": {
   "codemirror_mode": {
    "name": "ipython",
    "version": 3
   },
   "file_extension": ".py",
   "mimetype": "text/x-python",
   "name": "python",
   "nbconvert_exporter": "python",
   "pygments_lexer": "ipython3",
   "version": "3.7.3"
  },
  "pycharm": {
   "stem_cell": {
    "cell_type": "raw",
    "source": [],
    "metadata": {
     "collapsed": false
    }
   }
  }
 },
 "nbformat": 4,
 "nbformat_minor": 2
}