{
 "cells": [
  {
   "cell_type": "code",
   "execution_count": 42,
   "metadata": {},
   "outputs": [],
   "source": [
    "import pandas as pd\n",
    "import os"
   ]
  },
  {
   "cell_type": "code",
   "execution_count": 43,
   "metadata": {},
   "outputs": [],
   "source": [
    "path = os.sep.join(['C:','Users','suare','PycharmProjects','RegimeSwitchingSeriesGenerator','data','efts','30min-level',\n",
    "                    'IBEX','IBEX_[2017-01-01_to_2018-01-01]'])"
   ]
  },
  {
   "cell_type": "code",
   "execution_count": 44,
   "metadata": {},
   "outputs": [
    {
     "data": {
      "text/plain": [
       "12030"
      ]
     },
     "execution_count": 44,
     "metadata": {},
     "output_type": "execute_result"
    }
   ],
   "source": [
    "df = pd.read_csv(path+'.csv', sep=';')\n",
    "len(df)"
   ]
  },
  {
   "cell_type": "code",
   "execution_count": 45,
   "metadata": {},
   "outputs": [
    {
     "data": {
      "text/html": [
       "<div>\n",
       "<style scoped>\n",
       "    .dataframe tbody tr th:only-of-type {\n",
       "        vertical-align: middle;\n",
       "    }\n",
       "\n",
       "    .dataframe tbody tr th {\n",
       "        vertical-align: top;\n",
       "    }\n",
       "\n",
       "    .dataframe thead th {\n",
       "        text-align: right;\n",
       "    }\n",
       "</style>\n",
       "<table border=\"1\" class=\"dataframe\">\n",
       "  <thead>\n",
       "    <tr style=\"text-align: right;\">\n",
       "      <th></th>\n",
       "      <th>open</th>\n",
       "      <th>high</th>\n",
       "      <th>low</th>\n",
       "      <th>close</th>\n",
       "      <th>volume</th>\n",
       "      <th>gap</th>\n",
       "      <th>timestamp</th>\n",
       "    </tr>\n",
       "    <tr>\n",
       "      <th>datetime</th>\n",
       "      <th></th>\n",
       "      <th></th>\n",
       "      <th></th>\n",
       "      <th></th>\n",
       "      <th></th>\n",
       "      <th></th>\n",
       "      <th></th>\n",
       "    </tr>\n",
       "  </thead>\n",
       "  <tbody>\n",
       "    <tr>\n",
       "      <th>2017-01-03 05:30:00</th>\n",
       "      <td>26.51</td>\n",
       "      <td>26.51</td>\n",
       "      <td>26.51</td>\n",
       "      <td>26.51</td>\n",
       "      <td>60.0</td>\n",
       "      <td>0.0</td>\n",
       "      <td>1483421400</td>\n",
       "    </tr>\n",
       "    <tr>\n",
       "      <th>2017-01-03 06:00:00</th>\n",
       "      <td>26.51</td>\n",
       "      <td>26.51</td>\n",
       "      <td>26.51</td>\n",
       "      <td>26.51</td>\n",
       "      <td>0.0</td>\n",
       "      <td>1.0</td>\n",
       "      <td>1483423200</td>\n",
       "    </tr>\n",
       "    <tr>\n",
       "      <th>2017-01-03 06:30:00</th>\n",
       "      <td>26.51</td>\n",
       "      <td>26.51</td>\n",
       "      <td>26.51</td>\n",
       "      <td>26.51</td>\n",
       "      <td>0.0</td>\n",
       "      <td>1.0</td>\n",
       "      <td>1483425000</td>\n",
       "    </tr>\n",
       "    <tr>\n",
       "      <th>2017-01-03 07:00:00</th>\n",
       "      <td>26.51</td>\n",
       "      <td>26.51</td>\n",
       "      <td>26.51</td>\n",
       "      <td>26.51</td>\n",
       "      <td>0.0</td>\n",
       "      <td>1.0</td>\n",
       "      <td>1483426800</td>\n",
       "    </tr>\n",
       "    <tr>\n",
       "      <th>2017-01-03 07:30:00</th>\n",
       "      <td>26.51</td>\n",
       "      <td>26.51</td>\n",
       "      <td>26.51</td>\n",
       "      <td>26.51</td>\n",
       "      <td>0.0</td>\n",
       "      <td>1.0</td>\n",
       "      <td>1483428600</td>\n",
       "    </tr>\n",
       "  </tbody>\n",
       "</table>\n",
       "</div>"
      ],
      "text/plain": [
       "                      open   high    low  close  volume  gap   timestamp\n",
       "datetime                                                                \n",
       "2017-01-03 05:30:00  26.51  26.51  26.51  26.51    60.0  0.0  1483421400\n",
       "2017-01-03 06:00:00  26.51  26.51  26.51  26.51     0.0  1.0  1483423200\n",
       "2017-01-03 06:30:00  26.51  26.51  26.51  26.51     0.0  1.0  1483425000\n",
       "2017-01-03 07:00:00  26.51  26.51  26.51  26.51     0.0  1.0  1483426800\n",
       "2017-01-03 07:30:00  26.51  26.51  26.51  26.51     0.0  1.0  1483428600"
      ]
     },
     "execution_count": 45,
     "metadata": {},
     "output_type": "execute_result"
    }
   ],
   "source": [
    "df.index = pd.to_datetime(df.datetime)\n",
    "df.drop(columns=['datetime'], inplace=True)\n",
    "df.sort_index(inplace=True)\n",
    "df.head()"
   ]
  },
  {
   "cell_type": "code",
   "execution_count": 46,
   "metadata": {},
   "outputs": [
    {
     "data": {
      "text/html": [
       "<div>\n",
       "<style scoped>\n",
       "    .dataframe tbody tr th:only-of-type {\n",
       "        vertical-align: middle;\n",
       "    }\n",
       "\n",
       "    .dataframe tbody tr th {\n",
       "        vertical-align: top;\n",
       "    }\n",
       "\n",
       "    .dataframe thead th {\n",
       "        text-align: right;\n",
       "    }\n",
       "</style>\n",
       "<table border=\"1\" class=\"dataframe\">\n",
       "  <thead>\n",
       "    <tr style=\"text-align: right;\">\n",
       "      <th></th>\n",
       "      <th>open</th>\n",
       "      <th>high</th>\n",
       "      <th>low</th>\n",
       "      <th>close</th>\n",
       "      <th>volume</th>\n",
       "      <th>gap</th>\n",
       "      <th>timestamp</th>\n",
       "    </tr>\n",
       "    <tr>\n",
       "      <th>datetime</th>\n",
       "      <th></th>\n",
       "      <th></th>\n",
       "      <th></th>\n",
       "      <th></th>\n",
       "      <th></th>\n",
       "      <th></th>\n",
       "      <th></th>\n",
       "    </tr>\n",
       "  </thead>\n",
       "  <tbody>\n",
       "    <tr>\n",
       "      <th>2017-01-03 09:30:00</th>\n",
       "      <td>26.690</td>\n",
       "      <td>26.745</td>\n",
       "      <td>26.660</td>\n",
       "      <td>26.7300</td>\n",
       "      <td>91543.0</td>\n",
       "      <td>0.0</td>\n",
       "      <td>1483435800</td>\n",
       "    </tr>\n",
       "    <tr>\n",
       "      <th>2017-01-03 10:00:00</th>\n",
       "      <td>26.720</td>\n",
       "      <td>26.770</td>\n",
       "      <td>26.670</td>\n",
       "      <td>26.7600</td>\n",
       "      <td>123919.0</td>\n",
       "      <td>0.0</td>\n",
       "      <td>1483437600</td>\n",
       "    </tr>\n",
       "    <tr>\n",
       "      <th>2017-01-03 10:30:00</th>\n",
       "      <td>26.760</td>\n",
       "      <td>26.770</td>\n",
       "      <td>26.670</td>\n",
       "      <td>26.6937</td>\n",
       "      <td>77163.0</td>\n",
       "      <td>0.0</td>\n",
       "      <td>1483439400</td>\n",
       "    </tr>\n",
       "    <tr>\n",
       "      <th>2017-01-03 11:00:00</th>\n",
       "      <td>26.690</td>\n",
       "      <td>26.750</td>\n",
       "      <td>26.650</td>\n",
       "      <td>26.7500</td>\n",
       "      <td>306294.0</td>\n",
       "      <td>0.0</td>\n",
       "      <td>1483441200</td>\n",
       "    </tr>\n",
       "    <tr>\n",
       "      <th>2017-01-03 11:30:00</th>\n",
       "      <td>26.745</td>\n",
       "      <td>26.765</td>\n",
       "      <td>26.705</td>\n",
       "      <td>26.7350</td>\n",
       "      <td>563651.0</td>\n",
       "      <td>0.0</td>\n",
       "      <td>1483443000</td>\n",
       "    </tr>\n",
       "  </tbody>\n",
       "</table>\n",
       "</div>"
      ],
      "text/plain": [
       "                       open    high     low    close    volume  gap  \\\n",
       "datetime                                                              \n",
       "2017-01-03 09:30:00  26.690  26.745  26.660  26.7300   91543.0  0.0   \n",
       "2017-01-03 10:00:00  26.720  26.770  26.670  26.7600  123919.0  0.0   \n",
       "2017-01-03 10:30:00  26.760  26.770  26.670  26.6937   77163.0  0.0   \n",
       "2017-01-03 11:00:00  26.690  26.750  26.650  26.7500  306294.0  0.0   \n",
       "2017-01-03 11:30:00  26.745  26.765  26.705  26.7350  563651.0  0.0   \n",
       "\n",
       "                      timestamp  \n",
       "datetime                         \n",
       "2017-01-03 09:30:00  1483435800  \n",
       "2017-01-03 10:00:00  1483437600  \n",
       "2017-01-03 10:30:00  1483439400  \n",
       "2017-01-03 11:00:00  1483441200  \n",
       "2017-01-03 11:30:00  1483443000  "
      ]
     },
     "execution_count": 46,
     "metadata": {},
     "output_type": "execute_result"
    }
   ],
   "source": [
    "df = df.between_time('09:30','16:00')\n",
    "df.head()"
   ]
  },
  {
   "cell_type": "code",
   "execution_count": 47,
   "metadata": {},
   "outputs": [],
   "source": [
    "df.to_csv(path+'_market_hours.csv', sep=';')"
   ]
  },
  {
   "cell_type": "code",
   "execution_count": null,
   "metadata": {},
   "outputs": [],
   "source": []
  }
 ],
 "metadata": {
  "kernelspec": {
   "display_name": "Python 3",
   "language": "python",
   "name": "python3"
  },
  "language_info": {
   "codemirror_mode": {
    "name": "ipython",
    "version": 3
   },
   "file_extension": ".py",
   "mimetype": "text/x-python",
   "name": "python",
   "nbconvert_exporter": "python",
   "pygments_lexer": "ipython3",
   "version": "3.7.3"
  }
 },
 "nbformat": 4,
 "nbformat_minor": 2
}
