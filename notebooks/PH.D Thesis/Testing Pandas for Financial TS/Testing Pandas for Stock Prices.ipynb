{
 "cells": [
  {
   "cell_type": "code",
   "execution_count": 1,
   "metadata": {
    "collapsed": false,
    "deletable": true,
    "editable": true
   },
   "outputs": [
    {
     "ename": "ImportError",
     "evalue": "cannot import name TimesSeries",
     "output_type": "error",
     "traceback": [
      "\u001b[1;31m\u001b[0m",
      "\u001b[1;31mImportError\u001b[0mTraceback (most recent call last)",
      "\u001b[1;32m<ipython-input-1-0c8e05480157>\u001b[0m in \u001b[0;36m<module>\u001b[1;34m()\u001b[0m\n\u001b[0;32m      6\u001b[0m \u001b[1;32mimport\u001b[0m \u001b[0mmatplotlib\u001b[0m\u001b[1;33m.\u001b[0m\u001b[0mpyplot\u001b[0m \u001b[1;32mas\u001b[0m \u001b[0mplt\u001b[0m\u001b[1;33m\u001b[0m\u001b[0m\n\u001b[0;32m      7\u001b[0m \u001b[1;33m\u001b[0m\u001b[0m\n\u001b[1;32m----> 8\u001b[1;33m \u001b[1;32mfrom\u001b[0m \u001b[0malpha_vantage\u001b[0m\u001b[1;33m.\u001b[0m\u001b[0mtimeseries\u001b[0m \u001b[1;32mimport\u001b[0m \u001b[0mTimesSeries\u001b[0m\u001b[1;33m\u001b[0m\u001b[0m\n\u001b[0m\u001b[0;32m      9\u001b[0m \u001b[1;33m\u001b[0m\u001b[0m\n\u001b[0;32m     10\u001b[0m \u001b[1;33m\u001b[0m\u001b[0m\n",
      "\u001b[1;31mImportError\u001b[0m: cannot import name TimesSeries"
     ]
    }
   ],
   "source": [
    "\"\"\"Utility functions\"\"\"\n",
    "\n",
    "import os\n",
    "import pandas as pd\n",
    "#from yahoo_finance import Share  \n",
    "import matplotlib.pyplot as plt\n",
    "\n",
    "from alpha_vantage.timeseries import TimesSeries\n",
    "\n",
    "\n",
    "def symbol_to_path(symbol, base_dir=\"data\"):\n",
    "    \"\"\"Return CSV file path given ticker symbol.\"\"\"\n",
    "    return os.path.join(base_dir, \"{}.csv\".format(str(symbol)))\n",
    "\n",
    "\n",
    "def get_data(symbols, dates):\n",
    "    \"\"\"Read stock data (adjusted close) for given symbols from CSV files.\"\"\"\n",
    "    df = pd.DataFrame(index=dates)\n",
    "    if 'SPY' not in symbols:  # add SPY for reference, if absent\n",
    "        symbols.insert(0, 'SPY')\n",
    "\n",
    "    for symbol in symbols:\n",
    "        # TODO: Read and join data for each symbol\n",
    "        df_temp = pd.read_csv(symbol_to_path(symbol), index_col='Date', parse_dates=True, usecols=['Date','Adj Close'], na_values=['nan'])\n",
    "        df_temp = df_temp.rename(columns={'Adj Close': symbol}) \n",
    "        df= df.join(df_temp)\n",
    "        \n",
    "        if symbol == 'SPY': #Drop dates SPY did not trade\n",
    "            df=df.dropna(subset=['SPY'])\n",
    "        \n",
    "    return df\n",
    "\n",
    "\n",
    "def test_run_csv():\n",
    "    # Define a date range\n",
    "    dates = pd.date_range('2010-01-22', '2010-01-26')\n",
    "\n",
    "    # Choose stock symbols to read\n",
    "    symbols = ['GOOG', 'IBM', 'GLD']\n",
    "\n",
    "    # Get stock data\n",
    "    df = get_data(symbols, dates)\n",
    "    print df\n",
    "\n",
    "def test_run_yahoo(): # RIP YAHOO :(       \n",
    "    query_yf = Share('GLD')\n",
    "    print query_yf.get_open()\n",
    "    print query_yf.get_price()\n",
    "    print query_yf.get_trade_datetime()\n",
    "    query_yf.refresh()\n",
    "    print query_yf.get_historical('2017-04-25', '2017-04-29')   \n",
    "    #http://csiu.github.io/blog/update/2017/05/20/day85.html    \n",
    "    '''\n",
    "        While working through the examples, the yahoo.get_historical('2014-04-25', '2014-04-29') function returns a YQLResponseMalformedError: Response malformed. error. \n",
    "        Searching this error online, the Financial Hacker (2017) wrote:\n",
    "        The Yahoo Finance API is dead. \n",
    "        Without prior announcement, Yahoo has abandoned their only remaining service that was clearly ahead of the competition.\n",
    "    '''\n",
    "   \n",
    "# REPLACING YAHOO FINANCE WITH ALPHA VANTAGE\n",
    "def test_run_query_alpha_vantage():\n",
    "    ts = TimesSeries(key='T2NZHVYG3DNY3RIW', output_format='pandas')\n",
    "    data, meta_data = ts.get_intraday(symbol='GOOG',interval='1min', outputsize='full')\n",
    "    data['close'].plot()\n",
    "    plt.title('Intraday Times Series for the MSFT stock (1 min)')\n",
    "    plt.show()\n",
    "\n",
    "if __name__ == \"__main__\":\n",
    "    #test_run_csv()\n",
    "    #test_run_query()\n",
    "    test_run_query_alpha_vantage()\n",
    "    \n",
    "    \n",
    "  \n",
    "\"\"\"Plot High prices for IBM\"\"\"\n",
    "\n",
    "import pandas as pd\n",
    "import matplotlib.pyplot as plt\n",
    "\n",
    "def test_run():\n",
    "    df = pd.read_csv(\"data/IBM.csv\")\n",
    "    # TODO: Your code here\n",
    "    df['High'].plot()\n",
    "    plt.show()  # must be called to show plots\n",
    "\n",
    "\n",
    "if __name__ == \"__main__\":\n",
    "    test_run()\n",
    "\n"
   ]
  },
  {
   "cell_type": "code",
   "execution_count": 2,
   "metadata": {
    "collapsed": false
   },
   "outputs": [
    {
     "ename": "NameError",
     "evalue": "name 'talib' is not defined",
     "output_type": "error",
     "traceback": [
      "\u001b[1;31m\u001b[0m",
      "\u001b[1;31mNameError\u001b[0mTraceback (most recent call last)",
      "\u001b[1;32m<ipython-input-2-4f7c2cfdfb0b>\u001b[0m in \u001b[0;36m<module>\u001b[1;34m()\u001b[0m\n\u001b[0;32m      1\u001b[0m \u001b[0mc\u001b[0m \u001b[1;33m=\u001b[0m \u001b[1;36m0\u001b[0m\u001b[1;33m\u001b[0m\u001b[0m\n\u001b[1;32m----> 2\u001b[1;33m \u001b[0mt\u001b[0m \u001b[1;33m=\u001b[0m \u001b[0mtalib\u001b[0m\u001b[1;33m.\u001b[0m\u001b[0mget_function_groups\u001b[0m\u001b[1;33m(\u001b[0m\u001b[1;33m)\u001b[0m\u001b[1;33m\u001b[0m\u001b[0m\n\u001b[0m\u001b[0;32m      3\u001b[0m \u001b[1;32mfor\u001b[0m \u001b[0mg\u001b[0m \u001b[1;32min\u001b[0m \u001b[0msorted\u001b[0m\u001b[1;33m(\u001b[0m\u001b[0mt\u001b[0m\u001b[1;33m)\u001b[0m\u001b[1;33m:\u001b[0m\u001b[1;33m\u001b[0m\u001b[0m\n\u001b[0;32m      4\u001b[0m    \u001b[1;32mprint\u001b[0m \u001b[0mg\u001b[0m\u001b[1;33m\u001b[0m\u001b[0m\n\u001b[0;32m      5\u001b[0m    \u001b[1;32mfor\u001b[0m \u001b[0mf\u001b[0m \u001b[1;32min\u001b[0m \u001b[0msorted\u001b[0m\u001b[1;33m(\u001b[0m\u001b[0mt\u001b[0m\u001b[1;33m[\u001b[0m\u001b[0mg\u001b[0m\u001b[1;33m]\u001b[0m\u001b[1;33m)\u001b[0m\u001b[1;33m:\u001b[0m\u001b[1;33m\u001b[0m\u001b[0m\n",
      "\u001b[1;31mNameError\u001b[0m: name 'talib' is not defined"
     ]
    }
   ],
   "source": [
    "c = 0\n",
    "t = talib.get_function_groups()\n",
    "for g in sorted(t):\n",
    "   print g\n",
    "   for f in sorted(t[g]):\n",
    "       print '\\t', f\n",
    "       c += 1\n",
    "print '\\nfunctions: %s\\n\\n' % c\n",
    "print talib.get_function_groups()"
   ]
  },
  {
   "cell_type": "code",
   "execution_count": null,
   "metadata": {
    "collapsed": true
   },
   "outputs": [],
   "source": []
  }
 ],
 "metadata": {
  "kernelspec": {
   "display_name": "Python 2",
   "language": "python",
   "name": "python2"
  },
  "language_info": {
   "codemirror_mode": {
    "name": "ipython",
    "version": 2
   },
   "file_extension": ".py",
   "mimetype": "text/x-python",
   "name": "python",
   "nbconvert_exporter": "python",
   "pygments_lexer": "ipython2",
   "version": "2.7.11"
  }
 },
 "nbformat": 4,
 "nbformat_minor": 2
}
