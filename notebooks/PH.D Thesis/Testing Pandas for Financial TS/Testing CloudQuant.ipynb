{
 "cells": [
  {
   "cell_type": "code",
   "execution_count": 3,
   "metadata": {
    "collapsed": false
   },
   "outputs": [
    {
     "ename": "ImportError",
     "evalue": "No module named 'cloudquant'",
     "output_type": "error",
     "traceback": [
      "\u001b[1;31m---------------------------------------------------------------------------\u001b[0m",
      "\u001b[1;31mImportError\u001b[0m                               Traceback (most recent call last)",
      "\u001b[1;32m<ipython-input-3-c80d94e84b1d>\u001b[0m in \u001b[0;36m<module>\u001b[1;34m()\u001b[0m\n\u001b[1;32m----> 1\u001b[1;33m \u001b[1;32mfrom\u001b[0m \u001b[0mcloudquant\u001b[0m\u001b[1;33m.\u001b[0m\u001b[0minterfaces\u001b[0m \u001b[1;32mimport\u001b[0m \u001b[0mStrategy\u001b[0m\u001b[1;33m\u001b[0m\u001b[0m\n\u001b[0m\u001b[0;32m      2\u001b[0m \u001b[1;32mimport\u001b[0m \u001b[0mtalib\u001b[0m\u001b[1;33m\u001b[0m\u001b[0m\n",
      "\u001b[1;31mImportError\u001b[0m: No module named 'cloudquant'"
     ]
    }
   ],
   "source": [
    "from cloudquant.interfaces import Strategy\n",
    "import talib"
   ]
  },
  {
   "cell_type": "code",
   "execution_count": null,
   "metadata": {
    "collapsed": true
   },
   "outputs": [],
   "source": [
    "class talib_func(Strategy):\n",
    "\n",
    "    # note that this doesn't start with \"self\" because it's a @staticmethod\n",
    "    @classmethod\n",
    "    def is_symbol_qualified(cls, symbol, md, service, account):\n",
    "        return symbol == 'AAPL'\n",
    "\n",
    "\n",
    "    # called at the beginning of each instance  \n",
    "    # called at the beginning of each instance  \n",
    "    def on_start(self, md, order, service, account):\n",
    "        #print talib.get_functions()\n",
    "        \n",
    "        c = 0\n",
    "        t = talib.get_function_groups()\n",
    "        for g in sorted(t):\n",
    "            print g\n",
    "            for f in sorted(t[g]):\n",
    "                print '\\t', f\n",
    "                c += 1\n",
    "        print '\\nfunctions: %s\\n\\n' % c\n",
    "        print talib.get_function_groups()\n",
    "        service.terminate()\n"
   ]
  }
 ],
 "metadata": {
  "kernelspec": {
   "display_name": "Python 3.5",
   "language": "python",
   "name": "python3"
  },
  "language_info": {
   "codemirror_mode": {
    "name": "ipython",
    "version": 3
   },
   "file_extension": ".py",
   "mimetype": "text/x-python",
   "name": "python",
   "nbconvert_exporter": "python",
   "pygments_lexer": "ipython3",
   "version": "3.5.2"
  }
 },
 "nbformat": 4,
 "nbformat_minor": 2
}
