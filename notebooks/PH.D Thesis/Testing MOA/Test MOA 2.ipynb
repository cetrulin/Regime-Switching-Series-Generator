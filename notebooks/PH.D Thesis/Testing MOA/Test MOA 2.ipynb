{
 "cells": [
  {
   "cell_type": "code",
   "execution_count": 1,
   "metadata": {
    "collapsed": false
   },
   "outputs": [
    {
     "data": {
      "text/plain": [
       "\u001b[36mpath\u001b[39m: \u001b[32mjava\u001b[39m.\u001b[32mnio\u001b[39m.\u001b[32mfile\u001b[39m.\u001b[32mPath\u001b[39m = /home/bin/moa/moa.jar\n",
       "\u001b[36mx\u001b[39m: \u001b[32mammonite\u001b[39m.\u001b[32mops\u001b[39m.\u001b[32mPath\u001b[39m = /home/bin/moa/moa.jar"
      ]
     },
     "execution_count": 1,
     "metadata": {},
     "output_type": "execute_result"
    }
   ],
   "source": [
    "val path = java.nio.file.FileSystems.getDefault().getPath(\"/home/bin/moa/moa.jar\")\n",
    "val x = ammonite.ops.Path(path)\n",
    "interp.load.cp(x)"
   ]
  },
  {
   "cell_type": "code",
   "execution_count": null,
   "metadata": {
    "collapsed": true
   },
   "outputs": [],
   "source": [
    "// https://moa.cms.waikato.ac.nz/using-moas-api-with-scala/"
   ]
  },
  {
   "cell_type": "code",
   "execution_count": 2,
   "metadata": {
    "collapsed": false
   },
   "outputs": [
    {
     "data": {
      "text/plain": [
       "\u001b[32mimport \u001b[39m\u001b[36mmoa.classifiers.trees.HoeffdingTree;\n",
       "\u001b[39m\n",
       "\u001b[32mimport \u001b[39m\u001b[36mmoa.classifiers.Classifier;\n",
       "\u001b[39m\n",
       "\u001b[32mimport \u001b[39m\u001b[36mmoa.core.TimingUtils;\n",
       "\u001b[39m\n",
       "\u001b[32mimport \u001b[39m\u001b[36mmoa.streams.generators.RandomRBFGenerator;\n",
       "\u001b[39m\n",
       "\u001b[32mimport \u001b[39m\u001b[36mcom.yahoo.labs.samoa.instances.Instance;\n",
       "\u001b[39m\n",
       "\u001b[32mimport \u001b[39m\u001b[36mjava.io.IOException;\n",
       "\n",
       "\n",
       "\u001b[39m\n",
       "defined \u001b[32mobject\u001b[39m \u001b[36mExperiment\u001b[39m"
      ]
     },
     "execution_count": 2,
     "metadata": {},
     "output_type": "execute_result"
    }
   ],
   "source": [
    "import moa.classifiers.trees.HoeffdingTree;\n",
    "import moa.classifiers.Classifier;\n",
    "import moa.core.TimingUtils;\n",
    "import moa.streams.generators.RandomRBFGenerator;\n",
    "import com.yahoo.labs.samoa.instances.Instance;\n",
    "import java.io.IOException;\n",
    "\n",
    "\n",
    "object Experiment extends App {\n",
    "\n",
    "\trun(1000000, true);\n",
    "\n",
    "        def run(numInstances: Int, isTesting: Boolean){\n",
    "                val learner = new HoeffdingTree();\n",
    "                val stream = new RandomRBFGenerator();\n",
    "                stream.prepareForUse();\n",
    "\n",
    "                learner.setModelContext(stream.getHeader());\n",
    "                learner.prepareForUse();\n",
    "\n",
    "                var numberSamplesCorrect:Int = 0;\n",
    "                var numberSamples:Int = 0;\n",
    "                val preciseCPUTiming = TimingUtils.enablePreciseTiming();\n",
    "                val evaluateStartTime = TimingUtils.getNanoCPUTimeOfCurrentThread();\n",
    "                while (stream.hasMoreInstances() && numberSamples < numInstances) {\n",
    "                        val trainInst = stream.nextInstance().getData();\n",
    "                        if (isTesting) {\n",
    "                                if (learner.correctlyClassifies(trainInst)){\n",
    "                                        numberSamplesCorrect += 1;\n",
    "                                }\n",
    "                        }\n",
    "                        numberSamples += 1;\n",
    "                        learner.trainOnInstance(trainInst);\n",
    "                }\n",
    "                val accuracy = 100.0 * numberSamplesCorrect/ numberSamples;\n",
    "                val time = TimingUtils.nanoTimeToSeconds(TimingUtils.getNanoCPUTimeOfCurrentThread()- evaluateStartTime);\n",
    "                println(numberSamples + \" instances processed with \" + accuracy + \"% accuracy in \"+time+\" seconds.\");\n",
    "        }\n",
    "\n",
    "}"
   ]
  },
  {
   "cell_type": "code",
   "execution_count": 4,
   "metadata": {
    "collapsed": false
   },
   "outputs": [
    {
     "name": "stdout",
     "output_type": "stream",
     "text": [
      "1000 instances processed with 69.2% accuracy in 0.019274479 seconds.\n"
     ]
    }
   ],
   "source": [
    "Experiment.run(1000,true)"
   ]
  },
  {
   "cell_type": "code",
   "execution_count": null,
   "metadata": {
    "collapsed": true
   },
   "outputs": [],
   "source": []
  }
 ],
 "metadata": {
  "kernelspec": {
   "display_name": "Scala (develop)",
   "language": "scala",
   "name": "scala-develop"
  },
  "language_info": {
   "codemirror_mode": "text/x-scala",
   "file_extension": ".scala",
   "mimetype": "text/x-scala",
   "name": "scala211",
   "nbconvert_exporter": "script",
   "pygments_lexer": "scala",
   "version": "2.11.11"
  }
 },
 "nbformat": 4,
 "nbformat_minor": 2
}
