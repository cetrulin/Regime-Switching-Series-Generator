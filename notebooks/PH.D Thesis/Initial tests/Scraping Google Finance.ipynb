{
 "cells": [
  {
   "cell_type": "code",
   "execution_count": 18,
   "metadata": {
    "collapsed": true
   },
   "outputs": [],
   "source": [
    "import urllib, time, os, re, csv\n",
    " \n",
    "def fetchGF(googleticker):\n",
    "    url=\"http://www.google.com/finance?&q=\"\n",
    "    txt=urllib.urlopen(url+googleticker).read()\n",
    "    k=re.search('id=\"ref_(.*?)\">(.*?)<',txt)\n",
    "    if k:\n",
    "        tmp=k.group(2)\n",
    "        q=tmp.replace(',','')\n",
    "    else:\n",
    "        q=\"Nothing found for: \"+googleticker\n",
    "    return q"
   ]
  },
  {
   "cell_type": "code",
   "execution_count": 19,
   "metadata": {
    "collapsed": false
   },
   "outputs": [
    {
     "name": "stdout",
     "output_type": "stream",
     "text": [
      "Sun Sep 17 15:43:46 2017\n",
      "Sun Sep 17 15:43:46 2017\n"
     ]
    },
    {
     "data": {
      "text/plain": [
       "<function print>"
      ]
     },
     "execution_count": 19,
     "metadata": {},
     "output_type": "execute_result"
    }
   ],
   "source": [
    "# display time corresponding to your location\n",
    "print(time.ctime())\n",
    "print\n",
    " \n",
    "# Set local time zone to NYC\n",
    "os.environ['TZ']='America/New_York'\n",
    "time.tzset()\n",
    "t=time.localtime() # string\n",
    "print(time.ctime())\n",
    "print"
   ]
  },
  {
   "cell_type": "code",
   "execution_count": 20,
   "metadata": {
    "collapsed": true
   },
   "outputs": [],
   "source": []
  },
  {
   "cell_type": "code",
   "execution_count": 21,
   "metadata": {
    "collapsed": true
   },
   "outputs": [],
   "source": [
    "ticker=\"NASDAQ:AAPL\""
   ]
  },
  {
   "cell_type": "code",
   "execution_count": 22,
   "metadata": {
    "collapsed": false
   },
   "outputs": [
    {
     "data": {
      "text/plain": [
       "False"
      ]
     },
     "execution_count": 22,
     "metadata": {},
     "output_type": "execute_result"
    }
   ],
   "source": [
    "# define file name of the output record\n",
    "fname=\"aapl.dat\"\n",
    "# remove a file, if exist\n",
    "os.path.exists(fname) and os.remove(fname)"
   ]
  },
  {
   "cell_type": "code",
   "execution_count": 24,
   "metadata": {
    "collapsed": false
   },
   "outputs": [
    {
     "ename": "SyntaxError",
     "evalue": "invalid token (<ipython-input-24-f063fd0a0523>, line 7)",
     "output_type": "error",
     "traceback": [
      "\u001b[1;36m  File \u001b[1;32m\"<ipython-input-24-f063fd0a0523>\"\u001b[1;36m, line \u001b[1;32m7\u001b[0m\n\u001b[1;33m    while(t.tm_min<01):\u001b[0m\n\u001b[1;37m                    ^\u001b[0m\n\u001b[1;31mSyntaxError\u001b[0m\u001b[1;31m:\u001b[0m invalid token\n"
     ]
    }
   ],
   "source": [
    "freq=600 # fetch data every 600 sec (10 min)\n",
    " \n",
    "with open(fname,'a') as f:\n",
    "    writer=csv.writer(f,dialect=\"excel\") #,delimiter=\" \")\n",
    "    while(t.tm_hour<=16):\n",
    "        if(t.tm_hour==16):\n",
    "            while(t.tm_min<01):\n",
    "                data=combine(ticker)\n",
    "                print(data)\n",
    "                writer.writerow(data) # save data in the file\n",
    "                time.sleep(freq)\n",
    "            else:\n",
    "                break\n",
    "        else:\n",
    "            for ticker in tickers:\n",
    "            data=combine(ticker)\n",
    "            print(data)\n",
    "            writer.writerow(data) # save data in the file\n",
    "            time.sleep(freq)\n",
    " \n",
    "f.close()"
   ]
  },
  {
   "cell_type": "code",
   "execution_count": null,
   "metadata": {
    "collapsed": true
   },
   "outputs": [],
   "source": []
  },
  {
   "cell_type": "code",
   "execution_count": 26,
   "metadata": {
    "collapsed": false
   },
   "outputs": [
    {
     "ename": "SyntaxError",
     "evalue": "invalid token (<ipython-input-26-9754f6a9903c>, line 21)",
     "output_type": "error",
     "traceback": [
      "\u001b[1;36m  File \u001b[1;32m\"<ipython-input-26-9754f6a9903c>\"\u001b[1;36m, line \u001b[1;32m21\u001b[0m\n\u001b[1;33m    while(t.tm_min<01):\u001b[0m\n\u001b[1;37m                    ^\u001b[0m\n\u001b[1;31mSyntaxError\u001b[0m\u001b[1;31m:\u001b[0m invalid token\n"
     ]
    }
   ],
   "source": [
    "'''\n",
    "Code Modification: Portfolio of Assets\n",
    "\n",
    "The presented Python code can be very easily modified if you wish to try fetching data for a couple of assets concurrently every freq seconds. \n",
    "Simply extend and amend all the lines starting at row #36, for example in the following form:\n",
    "'''\n",
    "\n",
    "tickers=[\"NASDAQ:AAPL\",\"NASDAQ:GOOG\",\"NASDAQ:BIDU\",\"NYSE:IBM\", \\\n",
    "         \"NASDAQ:INTC\",\"NASDAQ:MSFT\",\"NYSEARCA:SPY\"]\n",
    " \n",
    "# define the name of an output file\n",
    "fname=\"portfolio.dat\"\n",
    "# remove a file, if exist\n",
    "os.path.exists(fname) and os.remove(fname)\n",
    " \n",
    "freq=600 # fetch data every 600 sec (10 min)\n",
    " \n",
    "with open(fname,'a') as f:\n",
    "    writer=csv.writer(f,dialect=\"excel\") #,delimiter=\" \")\n",
    "    while(t.tm_hour<=16):\n",
    "        if(t.tm_hour==16):\n",
    "            while(t.tm_min<01):\n",
    "                #for ticker in tickers:\n",
    "                    data=combine(ticker)\n",
    "                    print(data)\n",
    "                    writer.writerow(data)\n",
    "                time.sleep(freq)\n",
    "            else:\n",
    "                break\n",
    "        else:\n",
    "            for ticker in tickers:\n",
    "                data=combine(ticker)\n",
    "                print(data)\n",
    "                writer.writerow(data)\n",
    "            time.sleep(freq)\n",
    " \n",
    "f.close()"
   ]
  },
  {
   "cell_type": "code",
   "execution_count": null,
   "metadata": {
    "collapsed": true
   },
   "outputs": [],
   "source": []
  },
  {
   "cell_type": "code",
   "execution_count": null,
   "metadata": {
    "collapsed": false
   },
   "outputs": [],
   "source": []
  },
  {
   "cell_type": "code",
   "execution_count": null,
   "metadata": {
    "collapsed": true
   },
   "outputs": [],
   "source": []
  }
 ],
 "metadata": {
  "kernelspec": {
   "display_name": "Python 3.5",
   "language": "python",
   "name": "python3"
  },
  "language_info": {
   "codemirror_mode": {
    "name": "ipython",
    "version": 3
   },
   "file_extension": ".py",
   "mimetype": "text/x-python",
   "name": "python",
   "nbconvert_exporter": "python",
   "pygments_lexer": "ipython3",
   "version": "3.5.2"
  }
 },
 "nbformat": 4,
 "nbformat_minor": 2
}
