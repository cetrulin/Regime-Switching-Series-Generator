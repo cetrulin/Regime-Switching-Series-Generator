{
 "cells": [
  {
   "cell_type": "code",
   "execution_count": 1,
   "metadata": {
    "collapsed": true,
    "deletable": true,
    "editable": true
   },
   "outputs": [],
   "source": [
    "import numpy\n",
    "import talib"
   ]
  },
  {
   "cell_type": "code",
   "execution_count": 2,
   "metadata": {
    "collapsed": false,
    "deletable": true,
    "editable": true
   },
   "outputs": [
    {
     "data": {
      "text/plain": [
       "array([ 0.4387554 ,  0.21719576,  0.2341065 ,  0.10936348,  0.12718426,\n",
       "        0.84089717,  0.8361427 ,  0.58079241,  0.09661679,  0.20815604,\n",
       "        0.75959555,  0.37778276,  0.04179488,  0.65779953,  0.38453752,\n",
       "        0.71886486,  0.36027865,  0.92429876,  0.10991904,  0.11966543,\n",
       "        0.28321401,  0.29194084,  0.4451173 ,  0.34893841,  0.66328099,\n",
       "        0.32424816,  0.17706083,  0.21195583,  0.95872089,  0.94930114,\n",
       "        0.00348171,  0.29745537,  0.65898167,  0.33522185,  0.04794617,\n",
       "        0.26621108,  0.38134697,  0.10257987,  0.83297617,  0.92293163,\n",
       "        0.15836562,  0.16483147,  0.18893293,  0.17954397,  0.4435581 ,\n",
       "        0.14349433,  0.17285343,  0.97743965,  0.38442193,  0.04467842,\n",
       "        0.13198759,  0.55732909,  0.29547308,  0.67986773,  0.85791567,\n",
       "        0.63368384,  0.1595902 ,  0.34150161,  0.10275769,  0.12680156,\n",
       "        0.92084646,  0.32582104,  0.30230982,  0.96800735,  0.71899874,\n",
       "        0.3108176 ,  0.67500703,  0.1257898 ,  0.47860292,  0.45044357,\n",
       "        0.97205278,  0.9755989 ,  0.60369411,  0.57134944,  0.31401259,\n",
       "        0.48034803,  0.57518268,  0.20191288,  0.53198491,  0.76810995,\n",
       "        0.20225808,  0.99708308,  0.24745304,  0.4272744 ,  0.43157899,\n",
       "        0.82567515,  0.13282705,  0.62686245,  0.25673759,  0.06932312,\n",
       "        0.21174991,  0.63083094,  0.58606517,  0.88173546,  0.04961931,\n",
       "        0.23879825,  0.48181511,  0.15135911,  0.50077963,  0.28790636])"
      ]
     },
     "execution_count": 2,
     "metadata": {},
     "output_type": "execute_result"
    }
   ],
   "source": [
    "#All of the following examples use the Function API:\n",
    "close = numpy.random.random(100)\n",
    "close"
   ]
  },
  {
   "cell_type": "code",
   "execution_count": 3,
   "metadata": {
    "collapsed": false,
    "deletable": true,
    "editable": true
   },
   "outputs": [
    {
     "data": {
      "text/plain": [
       "array([        nan,         nan,         nan,         nan,         nan,\n",
       "               nan,         nan,         nan,         nan,         nan,\n",
       "               nan,         nan,         nan,         nan,         nan,\n",
       "               nan,         nan,         nan,         nan,         nan,\n",
       "               nan,         nan,         nan,         nan,         nan,\n",
       "               nan,         nan,         nan,         nan,  0.4265842 ,\n",
       "        0.41207507,  0.41475039,  0.4289129 ,  0.43644151,  0.43380024,\n",
       "        0.41464404,  0.39948418,  0.38354376,  0.40808908,  0.43191493,\n",
       "        0.41187393,  0.40477556,  0.40968016,  0.39373831,  0.39570566,\n",
       "        0.37652664,  0.37027913,  0.3720505 ,  0.38120059,  0.37870103,\n",
       "        0.37366014,  0.38250642,  0.37751828,  0.38854926,  0.39503708,\n",
       "        0.4053516 ,  0.40476925,  0.40908744,  0.38055533,  0.35313868,\n",
       "        0.38371751,  0.38466303,  0.37277397,  0.39386682,  0.41623523,\n",
       "        0.41772212,  0.42751079,  0.42828445,  0.41647201,  0.40072241,\n",
       "        0.42784531,  0.45487089,  0.46869627,  0.48175645,  0.47743827,\n",
       "        0.48866672,  0.5020777 ,  0.4762268 ,  0.48114557,  0.50525995,\n",
       "        0.5076023 ,  0.52226077,  0.5206601 ,  0.51224033,  0.4980291 ,\n",
       "        0.50442881,  0.50353671,  0.51304874,  0.5181814 ,  0.51626545,\n",
       "        0.4926289 ,  0.5027959 ,  0.51225441,  0.50937868,  0.48706603,\n",
       "        0.48466539,  0.47822565,  0.47907796,  0.47981719,  0.47439928])"
      ]
     },
     "execution_count": 3,
     "metadata": {},
     "output_type": "execute_result"
    }
   ],
   "source": [
    "# Calculate a simple moving average of the close prices:\n",
    "output = talib.SMA(close)\n",
    "output"
   ]
  },
  {
   "cell_type": "code",
   "execution_count": 14,
   "metadata": {
    "collapsed": false,
    "deletable": true,
    "editable": true
   },
   "outputs": [
    {
     "data": {
      "text/plain": [
       "array([        nan,         nan,         nan,         nan,         nan,\n",
       "               nan,         nan,         nan,         nan,         nan,\n",
       "               nan,         nan,         nan,         nan,         nan,\n",
       "               nan,         nan,         nan,         nan,         nan,\n",
       "               nan,         nan,         nan,         nan,  1.11979974,\n",
       "        1.16568696,  1.12928323,  1.12534776,  1.09624934,  1.20365608,\n",
       "        1.05187961,  1.02226403,  0.95779026,  0.92295093,  0.86808095,\n",
       "        0.83734777,  0.97856275,  1.02465193,  1.08342538,  0.82188123,\n",
       "        0.84885517,  0.80601977,  1.03780961,  1.19896681,  1.25789361,\n",
       "        1.297045  ,  1.49145557,  1.41243799,  1.36939757,  1.25594876,\n",
       "        0.96074352,  1.13458446,  1.28274869,  1.35613618,  1.41119401,\n",
       "        1.34965155,  1.39701069,  1.44125337,  0.91491483,  1.17994723,\n",
       "        1.13346979,  1.03594478,  0.97912365,  0.74849257,  0.96522032,\n",
       "        0.9598674 ,  1.1901109 ,  1.25072494,  1.12986236,  1.34126458,\n",
       "        1.24444771,  1.21066105,  1.25720093,  1.18247371,  1.1418512 ,\n",
       "        1.28668034,  1.24074824,  1.19817069,  1.10913363,  1.14872345,\n",
       "        1.19486083,  1.2588274 ,  1.19882318,  1.06876877,  1.24410196,\n",
       "        1.17789629,  1.12432897,  1.09890993,  0.79785011,  0.86759277,\n",
       "        0.90333005,  0.95473418,  0.90096121,  0.89311471,  0.89670309,\n",
       "        0.72659976,  0.56626799,  0.52115952,  0.46010311,  0.45450894])"
      ]
     },
     "execution_count": 14,
     "metadata": {},
     "output_type": "execute_result"
    }
   ],
   "source": [
    "# Calculating bollinger bands, with triple exponential moving average:\n",
    "from talib import MA_Type\n",
    "\n",
    "upper, middle, lower = talib.BBANDS(close, matype=MA_Type.T3)\n",
    "upper"
   ]
  },
  {
   "cell_type": "code",
   "execution_count": 15,
   "metadata": {
    "collapsed": false,
    "deletable": true,
    "editable": true
   },
   "outputs": [
    {
     "data": {
      "text/plain": [
       "array([        nan,         nan,         nan,         nan,         nan,\n",
       "       -0.44684386, -0.20468384,  0.44232397, -0.32917354, -0.47210538,\n",
       "        0.60584711,  0.72707005, -0.68478408,  0.61938276,  0.09692448,\n",
       "       -0.79343242, -0.51316766,  0.46720997, -0.34609731, -0.51666531,\n",
       "        0.73820543,  0.50340243,  0.14475782, -0.24805027,  0.47592963,\n",
       "       -0.79850264, -0.02684587, -0.07176724,  0.35884791, -0.49270238,\n",
       "        0.48204992, -0.63040295, -0.109674  , -0.29106777,  0.00413748,\n",
       "       -0.0315344 ,  0.71903903, -0.09696155,  0.39627087,  0.48108046,\n",
       "       -0.03817846, -0.53847293,  0.36354751,  0.28679665,  0.28296633,\n",
       "        0.45696856, -0.3104578 , -0.18987895, -0.770745  , -0.59893925,\n",
       "       -0.891953  ,  0.99151608,  0.1593163 , -0.18447532,  0.67587153,\n",
       "        0.91380516, -0.20103439, -0.11890613,  0.79228011, -0.5142948 ,\n",
       "       -0.58340903, -0.29093147, -0.74972994, -0.75721256,  0.50912457,\n",
       "       -0.08663126,  0.44231434,  0.76729109,  0.89226776, -0.71892151,\n",
       "        0.2857501 , -0.70887878,  0.10761907, -0.8188214 ,  0.5547563 ,\n",
       "        0.38279806,  0.25405843, -0.76348857,  0.0160174 ,  0.16283121,\n",
       "       -0.02139082,  0.14532336,  0.24570222,  0.85871121, -0.67758576,\n",
       "       -0.78019453, -0.01046709, -0.21812674, -0.48111259,  0.51304687,\n",
       "        0.66012564, -0.05423614,  0.08819536, -0.04763773, -0.45558275,\n",
       "       -0.69106813, -0.25111177, -0.02284252, -0.0785021 , -0.05322747])"
      ]
     },
     "execution_count": 15,
     "metadata": {},
     "output_type": "execute_result"
    }
   ],
   "source": [
    "# Calculating momentum of the close prices, with a time period of 5:\n",
    "output = talib.MOM(close, timeperiod=5)\n",
    "output"
   ]
  },
  {
   "cell_type": "code",
   "execution_count": 16,
   "metadata": {
    "collapsed": false,
    "deletable": true,
    "editable": true
   },
   "outputs": [],
   "source": [
    "\"\"\"\n",
    "If you're already familiar with using the function API, you should feel right at home using the Abstract API.\n",
    "\n",
    "Every function takes a collection of named inputs, either a dict of numpy.ndarray or pandas.Series, or a pandas.DataFrame. If a pandas.DataFrame is provided, the output is returned as a pandas.DataFrame with named output columns.\n",
    "\n",
    "For example, inputs could be provided for the typical \"OHLCV\" data:\n",
    "\"\"\"\n",
    "\n",
    "import numpy as np\n",
    "\n",
    "# note that all ndarrays must be the same length!\n",
    "inputs = {\n",
    "    'open': np.random.random(100),\n",
    "    'high': np.random.random(100),\n",
    "    'low': np.random.random(100),\n",
    "    'close': np.random.random(100),\n",
    "    'volume': np.random.random(100)\n",
    "}"
   ]
  },
  {
   "cell_type": "code",
   "execution_count": 18,
   "metadata": {
    "collapsed": false,
    "deletable": true,
    "editable": true
   },
   "outputs": [
    {
     "data": {
      "text/plain": [
       "{'function_flags': ['Output scale same as input'], 'parameters': OrderedDict([('timeperiod', 30)]), 'display_name': 'Simple Moving Average', 'output_names': ['real'], 'input_names': OrderedDict([('price', 'close')]), 'output_flags': OrderedDict([('real', ['Line'])]), 'group': 'Overlap Studies', 'name': 'SMA'}"
      ]
     },
     "execution_count": 18,
     "metadata": {},
     "output_type": "execute_result"
    }
   ],
   "source": [
    "#Functions can either be imported directly or instantiated by name:\n",
    "\n",
    "from talib import abstract\n",
    "\n",
    "# directly\n",
    "sma = abstract.SMA\n",
    "\n",
    "# or by name\n",
    "sma = abstract.Function('sma')\n",
    "sma"
   ]
  },
  {
   "cell_type": "code",
   "execution_count": 25,
   "metadata": {
    "collapsed": false,
    "deletable": true,
    "editable": true
   },
   "outputs": [
    {
     "data": {
      "text/plain": [
       "array([        nan,         nan,         nan,         nan,         nan,\n",
       "               nan,         nan,         nan,         nan,         nan,\n",
       "               nan,         nan,         nan,         nan,         nan,\n",
       "               nan,         nan,         nan,         nan,         nan,\n",
       "               nan,         nan,         nan,         nan,  0.45476786,\n",
       "        0.4752356 ,  0.4801881 ,  0.47874359,  0.48668607,  0.46837146,\n",
       "        0.48593577,  0.46472362,  0.46460062,  0.4731309 ,  0.46979732,\n",
       "        0.44333119,  0.44073606,  0.42485317,  0.42906862,  0.39827261,\n",
       "        0.41067347,  0.43716778,  0.43492717,  0.41033979,  0.40563585,\n",
       "        0.40944925,  0.41768505,  0.42060535,  0.42643175,  0.42143711,\n",
       "        0.39912874,  0.4051253 ,  0.41568892,  0.40472965,  0.4052608 ,\n",
       "        0.40980482,  0.44107123,  0.45423019,  0.43193521,  0.43376752,\n",
       "        0.45543078,  0.47902237,  0.48406613,  0.48427482,  0.49182892,\n",
       "        0.4880147 ,  0.47375691,  0.45950775,  0.47037125,  0.47920654,\n",
       "        0.49669227,  0.50851391,  0.50807248,  0.5099802 ,  0.48941754,\n",
       "        0.50559336,  0.49919111,  0.48401706,  0.49807539,  0.50647069,\n",
       "        0.48288512,  0.48178185,  0.46923725,  0.49178521,  0.48583409,\n",
       "        0.45768531,  0.43243911,  0.45701774,  0.47797301,  0.48171412,\n",
       "        0.47070225,  0.48383429,  0.46358882,  0.46868693,  0.472802  ,\n",
       "        0.45370613,  0.43410964,  0.44751777,  0.46242706,  0.46619814])"
      ]
     },
     "execution_count": 25,
     "metadata": {},
     "output_type": "execute_result"
    }
   ],
   "source": [
    "# From there, calling functions is basically the same as the function API:\n",
    "\n",
    "from talib.abstract import *\n",
    "\n",
    "# uses close prices (default)\n",
    "output = SMA(inputs, timeperiod=25)\n",
    "\n",
    "# uses open prices\n",
    "output = SMA(inputs, timeperiod=25, price='open')\n",
    "\n",
    "# uses close prices (default)\n",
    "upper, middle, lower = BBANDS(inputs, 20, 2, 2)\n",
    "\n",
    "# uses high, low, close (default)\n",
    "slowk, slowd = STOCH(inputs, 5, 3, 0, 3, 0) # uses high, low, close by default\n",
    "\n",
    "# uses high, low, open instead\n",
    "slowk, slowd = STOCH(inputs, 5, 3, 0, 3, 0, prices=['high', 'low', 'open'])\n",
    "\n",
    "output"
   ]
  },
  {
   "cell_type": "code",
   "execution_count": 22,
   "metadata": {
    "collapsed": false,
    "deletable": true,
    "editable": true
   },
   "outputs": [
    {
     "ename": "SyntaxError",
     "evalue": "invalid syntax (<ipython-input-22-842b54579cad>, line 11)",
     "output_type": "error",
     "traceback": [
      "\u001b[1;36m  File \u001b[1;32m\"<ipython-input-22-842b54579cad>\"\u001b[1;36m, line \u001b[1;32m11\u001b[0m\n\u001b[1;33m    print talib.get_functions()\u001b[0m\n\u001b[1;37m              ^\u001b[0m\n\u001b[1;31mSyntaxError\u001b[0m\u001b[1;31m:\u001b[0m invalid syntax\n"
     ]
    }
   ],
   "source": [
    "\"\"\"\n",
    "Supported Indicators and Functions\n",
    "-- --------------------------------------\n",
    "We can show all the TA functions supported by TA-Lib, \n",
    "either as a list or as a dict sorted by group \n",
    "(e.g. \"Overlap Studies\", \"Momentum Indicators\", etc):\n",
    "\"\"\"\n",
    "import talib\n",
    "\n",
    "# list of functions\n",
    "print talib.get_functions()\n",
    "\n",
    "# dict of functions by group\n",
    "print talib.get_function_groups()"
   ]
  },
  {
   "cell_type": "raw",
   "metadata": {
    "deletable": true,
    "editable": true
   },
   "source": [
    "--------------------\n",
    "Indicator Groups\n",
    "--------------------\n",
    "\n",
    "\n",
    "Overlap Studies\n",
    "\n",
    "BBANDS               Bollinger Bands\n",
    "DEMA                 Double Exponential Moving Average\n",
    "EMA                  Exponential Moving Average\n",
    "HT_TRENDLINE         Hilbert Transform - Instantaneous Trendline\n",
    "KAMA                 Kaufman Adaptive Moving Average\n",
    "MA                   Moving average\n",
    "MAMA                 MESA Adaptive Moving Average\n",
    "MAVP                 Moving average with variable period\n",
    "MIDPOINT             MidPoint over period\n",
    "MIDPRICE             Midpoint Price over period\n",
    "SAR                  Parabolic SAR\n",
    "SAREXT               Parabolic SAR - Extended\n",
    "SMA                  Simple Moving Average\n",
    "T3                   Triple Exponential Moving Average (T3)\n",
    "TEMA                 Triple Exponential Moving Average\n",
    "TRIMA                Triangular Moving Average\n",
    "WMA                  Weighted Moving Average\n",
    "\n",
    "\n",
    "Momentum Indicators\n",
    "\n",
    "ADX                  Average Directional Movement Index\n",
    "ADXR                 Average Directional Movement Index Rating\n",
    "APO                  Absolute Price Oscillator\n",
    "AROON                Aroon\n",
    "AROONOSC             Aroon Oscillator\n",
    "BOP                  Balance Of Power\n",
    "CCI                  Commodity Channel Index\n",
    "CMO                  Chande Momentum Oscillator\n",
    "DX                   Directional Movement Index\n",
    "MACD                 Moving Average Convergence/Divergence\n",
    "MACDEXT              MACD with controllable MA type\n",
    "MACDFIX              Moving Average Convergence/Divergence Fix 12/26\n",
    "MFI                  Money Flow Index\n",
    "MINUS_DI             Minus Directional Indicator\n",
    "MINUS_DM             Minus Directional Movement\n",
    "MOM                  Momentum\n",
    "PLUS_DI              Plus Directional Indicator\n",
    "PLUS_DM              Plus Directional Movement\n",
    "PPO                  Percentage Price Oscillator\n",
    "ROC                  Rate of change : ((price/prevPrice)-1)*100\n",
    "ROCP                 Rate of change Percentage: (price-prevPrice)/prevPrice\n",
    "ROCR                 Rate of change ratio: (price/prevPrice)\n",
    "ROCR100              Rate of change ratio 100 scale: (price/prevPrice)*100\n",
    "RSI                  Relative Strength Index\n",
    "STOCH                Stochastic\n",
    "STOCHF               Stochastic Fast\n",
    "STOCHRSI             Stochastic Relative Strength Index\n",
    "TRIX                 1-day Rate-Of-Change (ROC) of a Triple Smooth EMA\n",
    "ULTOSC               Ultimate Oscillator\n",
    "WILLR                Williams' %R\n",
    "\n",
    "\n",
    "Volume Indicators\n",
    "\n",
    "AD                   Chaikin A/D Line\n",
    "ADOSC                Chaikin A/D Oscillator\n",
    "OBV                  On Balance Volume\n",
    "\n",
    "\n",
    "Cycle Indicators\n",
    "\n",
    "HT_DCPERIOD          Hilbert Transform - Dominant Cycle Period\n",
    "HT_DCPHASE           Hilbert Transform - Dominant Cycle Phase\n",
    "HT_PHASOR            Hilbert Transform - Phasor Components\n",
    "HT_SINE              Hilbert Transform - SineWave\n",
    "HT_TRENDMODE         Hilbert Transform - Trend vs Cycle Mode\n",
    "Price Transform\n",
    "\n",
    "AVGPRICE             Average Price\n",
    "MEDPRICE             Median Price\n",
    "TYPPRICE             Typical Price\n",
    "WCLPRICE             Weighted Close Price\n",
    "\n",
    "\n",
    "Volatility Indicators\n",
    "\n",
    "ATR                  Average True Range\n",
    "NATR                 Normalized Average True Range\n",
    "TRANGE               True Range\n",
    "\n",
    "\n",
    "Pattern Recognition\n",
    "\n",
    "CDL2CROWS            Two Crows\n",
    "CDL3BLACKCROWS       Three Black Crows\n",
    "CDL3INSIDE           Three Inside Up/Down\n",
    "CDL3LINESTRIKE       Three-Line Strike\n",
    "CDL3OUTSIDE          Three Outside Up/Down\n",
    "CDL3STARSINSOUTH     Three Stars In The South\n",
    "CDL3WHITESOLDIERS    Three Advancing White Soldiers\n",
    "CDLABANDONEDBABY     Abandoned Baby\n",
    "CDLADVANCEBLOCK      Advance Block\n",
    "CDLBELTHOLD          Belt-hold\n",
    "CDLBREAKAWAY         Breakaway\n",
    "CDLCLOSINGMARUBOZU   Closing Marubozu\n",
    "CDLCONCEALBABYSWALL  Concealing Baby Swallow\n",
    "CDLCOUNTERATTACK     Counterattack\n",
    "CDLDARKCLOUDCOVER    Dark Cloud Cover\n",
    "CDLDOJI              Doji\n",
    "CDLDOJISTAR          Doji Star\n",
    "CDLDRAGONFLYDOJI     Dragonfly Doji\n",
    "CDLENGULFING         Engulfing Pattern\n",
    "CDLEVENINGDOJISTAR   Evening Doji Star\n",
    "CDLEVENINGSTAR       Evening Star\n",
    "CDLGAPSIDESIDEWHITE  Up/Down-gap side-by-side white lines\n",
    "CDLGRAVESTONEDOJI    Gravestone Doji\n",
    "CDLHAMMER            Hammer\n",
    "CDLHANGINGMAN        Hanging Man\n",
    "CDLHARAMI            Harami Pattern\n",
    "CDLHARAMICROSS       Harami Cross Pattern\n",
    "CDLHIGHWAVE          High-Wave Candle\n",
    "CDLHIKKAKE           Hikkake Pattern\n",
    "CDLHIKKAKEMOD        Modified Hikkake Pattern\n",
    "CDLHOMINGPIGEON      Homing Pigeon\n",
    "CDLIDENTICAL3CROWS   Identical Three Crows\n",
    "CDLINNECK            In-Neck Pattern\n",
    "CDLINVERTEDHAMMER    Inverted Hammer\n",
    "CDLKICKING           Kicking\n",
    "CDLKICKINGBYLENGTH   Kicking - bull/bear determined by the longer marubozu\n",
    "CDLLADDERBOTTOM      Ladder Bottom\n",
    "CDLLONGLEGGEDDOJI    Long Legged Doji\n",
    "CDLLONGLINE          Long Line Candle\n",
    "CDLMARUBOZU          Marubozu\n",
    "CDLMATCHINGLOW       Matching Low\n",
    "CDLMATHOLD           Mat Hold\n",
    "CDLMORNINGDOJISTAR   Morning Doji Star\n",
    "CDLMORNINGSTAR       Morning Star\n",
    "CDLONNECK            On-Neck Pattern\n",
    "CDLPIERCING          Piercing Pattern\n",
    "CDLRICKSHAWMAN       Rickshaw Man\n",
    "CDLRISEFALL3METHODS  Rising/Falling Three Methods\n",
    "CDLSEPARATINGLINES   Separating Lines\n",
    "CDLSHOOTINGSTAR      Shooting Star\n",
    "CDLSHORTLINE         Short Line Candle\n",
    "CDLSPINNINGTOP       Spinning Top\n",
    "CDLSTALLEDPATTERN    Stalled Pattern\n",
    "CDLSTICKSANDWICH     Stick Sandwich\n",
    "CDLTAKURI            Takuri (Dragonfly Doji with very long lower shadow)\n",
    "CDLTASUKIGAP         Tasuki Gap\n",
    "CDLTHRUSTING         Thrusting Pattern\n",
    "CDLTRISTAR           Tristar Pattern\n",
    "CDLUNIQUE3RIVER      Unique 3 River\n",
    "CDLUPSIDEGAP2CROWS   Upside Gap Two Crows\n",
    "CDLXSIDEGAP3METHODS  Upside/Downside Gap Three Methods"
   ]
  },
  {
   "cell_type": "code",
   "execution_count": 28,
   "metadata": {
    "collapsed": false,
    "deletable": true,
    "editable": true
   },
   "outputs": [
    {
     "data": {
      "text/plain": [
       "{'function_flags': None, 'parameters': OrderedDict([('timeperiod', 25)]), 'display_name': \"Williams' %R\", 'output_names': ['real'], 'input_names': OrderedDict([('prices', ['high', 'low', 'close'])]), 'output_flags': OrderedDict([('real', ['Line'])]), 'group': 'Momentum Indicators', 'name': 'WILLR'}"
      ]
     },
     "execution_count": 28,
     "metadata": {},
     "output_type": "execute_result"
    }
   ],
   "source": [
    "# test..... :)\n",
    "\n",
    "WILLR"
   ]
  },
  {
   "cell_type": "code",
   "execution_count": 32,
   "metadata": {
    "collapsed": false,
    "deletable": true,
    "editable": true
   },
   "outputs": [
    {
     "data": {
      "text/plain": [
       "array([          nan,           nan,           nan,           nan,\n",
       "        -58.58741585,  -25.28905738,  -72.39876517,  -65.95055634,\n",
       "        -33.79289972,   -3.26638722,  -73.35437678,  -98.35800146,\n",
       "        -88.61014748,  -11.17323091,  -13.63530895,    3.96938166,\n",
       "       -273.35422962,  -58.54233545, -188.38233192, -281.70938411,\n",
       "        -89.49504317, -104.7782473 ,  -22.87039968,  -94.04781637,\n",
       "        -57.00015077,  -89.15504432,  -37.64100403,  -42.24718457,\n",
       "        -78.4422811 ,  -68.02575321,  -98.5554582 ,   -6.2410591 ,\n",
       "        -20.19780846,  -48.81448562,  -20.58672017,  -93.19479055,\n",
       "        -34.10886753,  -34.61901635,  -62.33557235,  -25.22779146,\n",
       "        -35.52445501,  -90.55535616,   -2.142366  ,  -52.78157187,\n",
       "        -77.85309048,  -23.36343578,  -21.61769141,   16.6922644 ,\n",
       "       -109.46859741,  -57.62620851,  -49.35885911, -101.64316299,\n",
       "         -8.00318712,  -37.3941785 ,  -95.62242137,    8.10794554,\n",
       "         14.58863499,   44.08922377,  -87.1917715 ,  -19.45616328,\n",
       "         27.14775071,  -18.31787613,  -71.93857955, -105.61598423,\n",
       "        -16.38535183,  -70.37829695,   29.27915233, -101.28053207,\n",
       "        -74.5482461 ,   32.32362851,  -76.89703021,  -34.64837719,\n",
       "        -52.22013802,  -24.93018756,  -11.35486708,   43.19468366,\n",
       "        -47.12746772, -184.89738686,  -72.47543511, -127.50931029,\n",
       "        151.24010049,   30.01774712,  -25.80477777,  -19.15847716,\n",
       "         10.36631503,   -4.34476927,  -60.29009722,  -32.13727399,\n",
       "        -71.94877282,  -98.25825833,  -55.31674163, -105.13547347,\n",
       "        -76.2375787 ,  -34.02467799, -134.45393058,  -77.68949963,\n",
       "        -99.44564638,  -31.21342611,  -58.51910857,  -57.75439431])"
      ]
     },
     "execution_count": 32,
     "metadata": {},
     "output_type": "execute_result"
    }
   ],
   "source": [
    "output = WILLR(inputs, timeperiod=25)\n",
    "output"
   ]
  },
  {
   "cell_type": "code",
   "execution_count": null,
   "metadata": {
    "collapsed": true,
    "deletable": true,
    "editable": true
   },
   "outputs": [],
   "source": []
  }
 ],
 "metadata": {
  "kernelspec": {
   "display_name": "Python 3.5",
   "language": "python",
   "name": "python3"
  },
  "language_info": {
   "codemirror_mode": {
    "name": "ipython",
    "version": 3
   },
   "file_extension": ".py",
   "mimetype": "text/x-python",
   "name": "python",
   "nbconvert_exporter": "python",
   "pygments_lexer": "ipython3",
   "version": "3.5.2"
  }
 },
 "nbformat": 4,
 "nbformat_minor": 2
}
