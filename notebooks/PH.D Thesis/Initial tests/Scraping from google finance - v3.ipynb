{
 "cells": [
  {
   "cell_type": "code",
   "execution_count": 1,
   "metadata": {
    "collapsed": true
   },
   "outputs": [],
   "source": [
    "import urllib, time, os, re, csv\n",
    " \n",
    "def fetchGF(googleticker):\n",
    "    url=\"http://www.google.com/finance?&q=\"\n",
    "    txt=urllib.urlopen(url+googleticker).read()\n",
    "    k=re.search('id=\"ref_(.*?)\">(.*?)<',txt)\n",
    "    if k:\n",
    "        tmp=k.group(2)\n",
    "        q=tmp.replace(',','')\n",
    "    else:\n",
    "        q=\"Nothing found for: \"+googleticker\n",
    "    return q"
   ]
  },
  {
   "cell_type": "code",
   "execution_count": 2,
   "metadata": {
    "collapsed": false
   },
   "outputs": [
    {
     "name": "stdout",
     "output_type": "stream",
     "text": [
      "Sun Sep 17 19:46:17 2017\n",
      "\n",
      "Sun Sep 17 15:46:17 2017\n",
      "\n"
     ]
    }
   ],
   "source": [
    "# display time corresponding to your location\n",
    "print(time.ctime())\n",
    "print\n",
    " \n",
    "# Set local time zone to NYC\n",
    "os.environ['TZ']='America/New_York'\n",
    "time.tzset()\n",
    "t=time.localtime() # string\n",
    "print(time.ctime())\n",
    "print"
   ]
  },
  {
   "cell_type": "code",
   "execution_count": 15,
   "metadata": {
    "collapsed": true
   },
   "outputs": [],
   "source": [
    "def combine(ticker):\n",
    "    quote=fetchGF(ticker) # use the core-engine function\n",
    "    t=time.localtime()    # grasp the moment of time\n",
    "    output=[t.tm_year,t.tm_mon,t.tm_mday,t.tm_hour,  # build a list\n",
    "            t.tm_min,t.tm_sec,ticker,quote]\n",
    "    return output"
   ]
  },
  {
   "cell_type": "code",
   "execution_count": 3,
   "metadata": {
    "collapsed": true
   },
   "outputs": [],
   "source": [
    "ticker=\"NASDAQ:AAPL\""
   ]
  },
  {
   "cell_type": "code",
   "execution_count": 4,
   "metadata": {
    "collapsed": false
   },
   "outputs": [
    {
     "data": {
      "text/plain": [
       "False"
      ]
     },
     "execution_count": 4,
     "metadata": {},
     "output_type": "execute_result"
    }
   ],
   "source": [
    "# define file name of the output record\n",
    "fname=\"aapl.dat\"\n",
    "# remove a file, if exist\n",
    "os.path.exists(fname) and os.remove(fname)"
   ]
  },
  {
   "cell_type": "code",
   "execution_count": null,
   "metadata": {
    "collapsed": false
   },
   "outputs": [],
   "source": [
    "freq=60 # fetch data every 60 sec (1 min)\n",
    " \n",
    "with open(fname,'a') as f:\n",
    "    writer=csv.writer(f,dialect=\"excel\") #,delimiter=\" \")\n",
    "    while(t.tm_hour<=16):\n",
    "        if(t.tm_hour==16):\n",
    "            while(t.tm_min<01):\n",
    "                data = combine(ticker)\n",
    "                print(data)\n",
    "                writer.writerow(data) # save data in the file\n",
    "                time.sleep(freq)\n",
    "            else:\n",
    "                break\n",
    "        else:\n",
    "            for ticker in tickers:\n",
    "            data=combine(ticker)\n",
    "            print(data)\n",
    "            writer.writerow(data) # save data in the file\n",
    "            time.sleep(freq)\n",
    " \n",
    "f.close()"
   ]
  },
  {
   "cell_type": "code",
   "execution_count": null,
   "metadata": {
    "collapsed": true
   },
   "outputs": [],
   "source": []
  },
  {
   "cell_type": "code",
   "execution_count": null,
   "metadata": {
    "collapsed": false
   },
   "outputs": [
    {
     "name": "stdout",
     "output_type": "stream",
     "text": [
      "[2017, 9, 17, 15, 52, 49, 'NASDAQ:AAPL', '159.88']\n",
      "[2017, 9, 17, 15, 52, 49, 'NASDAQ:GOOG', '920.29']\n",
      "[2017, 9, 17, 15, 52, 49, 'NASDAQ:BIDU', '235.21']\n",
      "[2017, 9, 17, 15, 52, 49, 'NYSE:IBM', '144.82']\n",
      "[2017, 9, 17, 15, 52, 49, 'NASDAQ:INTC', '37.00']\n",
      "[2017, 9, 17, 15, 52, 50, 'NASDAQ:MSFT', '75.31']\n",
      "[2017, 9, 17, 15, 52, 50, 'NYSEARCA:SPY', '249.19']\n"
     ]
    }
   ],
   "source": [
    "'''\n",
    "Code Modification: Portfolio of Assets\n",
    "\n",
    "The presented Python code can be very easily modified if you wish to try fetching data for a couple of assets concurrently every freq seconds. \n",
    "Simply extend and amend all the lines starting at row #36, for example in the following form:\n",
    "'''\n",
    "\n",
    "tickers=[\"NASDAQ:AAPL\",\"NASDAQ:GOOG\",\"NASDAQ:BIDU\",\"NYSE:IBM\", \\\n",
    "         \"NASDAQ:INTC\",\"NASDAQ:MSFT\",\"NYSEARCA:SPY\"]\n",
    " \n",
    "# define the name of an output file\n",
    "fname=\"portfolio.dat\"\n",
    "# remove a file, if exist\n",
    "os.path.exists(fname) and os.remove(fname)\n",
    " \n",
    "freq=60 # fetch data every 60 sec / 600 sec would be(10 min)\n",
    " \n",
    "with open(fname,'a') as f:\n",
    "    writer=csv.writer(f,dialect=\"excel\") #,delimiter=\" \")\n",
    "    while(t.tm_hour<=16):\n",
    "        if(t.tm_hour==16):\n",
    "            while(t.tm_min<01):\n",
    "                for ticker in tickers:\n",
    "                    data=combine(ticker)\n",
    "                    print(data)\n",
    "                    writer.writerow(data)\n",
    "                time.sleep(freq)\n",
    "            else:\n",
    "                break\n",
    "        else:\n",
    "            for ticker in tickers:\n",
    "                data=combine(ticker)\n",
    "                print(data)\n",
    "                writer.writerow(data)\n",
    "            time.sleep(freq)\n",
    "            \n",
    " \n",
    "f.close()"
   ]
  },
  {
   "cell_type": "code",
   "execution_count": null,
   "metadata": {
    "collapsed": true
   },
   "outputs": [],
   "source": []
  },
  {
   "cell_type": "code",
   "execution_count": null,
   "metadata": {
    "collapsed": true
   },
   "outputs": [],
   "source": []
  }
 ],
 "metadata": {
  "kernelspec": {
   "display_name": "Python 2",
   "language": "python",
   "name": "python2"
  },
  "language_info": {
   "codemirror_mode": {
    "name": "ipython",
    "version": 2
   },
   "file_extension": ".py",
   "mimetype": "text/x-python",
   "name": "python",
   "nbconvert_exporter": "python",
   "pygments_lexer": "ipython2",
   "version": "2.7.11"
  }
 },
 "nbformat": 4,
 "nbformat_minor": 2
}
