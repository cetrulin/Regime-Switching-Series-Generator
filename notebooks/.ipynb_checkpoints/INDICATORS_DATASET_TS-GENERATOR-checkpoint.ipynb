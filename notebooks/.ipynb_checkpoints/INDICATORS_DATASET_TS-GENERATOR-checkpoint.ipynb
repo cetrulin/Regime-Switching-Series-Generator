{
 "cells": [
  {
   "cell_type": "code",
   "execution_count": 8,
   "metadata": {
    "pycharm": {
     "is_executing": false
    }
   },
   "outputs": [
    {
     "name": "stdout",
     "output_type": "stream",
     "text": [
      "The jupyternotify extension is already loaded. To reload it, use:\n",
      "  %reload_ext jupyternotify\n"
     ]
    }
   ],
   "source": [
    "# Data preparation for Ph.D thesis\n",
    "# @author: Andres L. Suarez-Cetrulo\n",
    "%config IPCompleter.greedy=True\n",
    "%load_ext jupyternotify\n",
    "%matplotlib inline"
   ]
  },
  {
   "cell_type": "code",
   "execution_count": 9,
   "metadata": {
    "pycharm": {
     "is_executing": false
    }
   },
   "outputs": [],
   "source": [
    "# Imports\n",
    "import pandas as pd\n",
    "import numpy as np\n",
    "import datetime\n",
    "from pathlib import Path\n",
    "import os\n",
    "\n",
    "# Using TALib abstract API to create a dictionary of technical indicators to iterate later.\n",
    "from talib import abstract"
   ]
  },
  {
   "cell_type": "code",
   "execution_count": 10,
   "metadata": {
    "pycharm": {
     "is_executing": false
    }
   },
   "outputs": [],
   "source": [
    "# Creating a dictionary of technical indicators using TALib abstract API\n",
    "indicator = {'sma': abstract.Function('sma'), \n",
    "             'ema': abstract.Function('ema'), \n",
    "             'wma': abstract.Function('wma'), \n",
    "             'mom': abstract.Function('mom'), \n",
    "             'stoch': abstract.Function('stoch'), \n",
    "             'macd': abstract.Function('macd'), \n",
    "             'rsi': abstract.Function('rsi'), \n",
    "             'willr': abstract.Function('willr'), \n",
    "             'adosc': abstract.Function('adosc'), \n",
    "             'cci': abstract.Function('cci'), \n",
    "             'adx': abstract.Function('adx'), \n",
    "             'aroon': abstract.Function('aroon'), \n",
    "             'bbands': abstract.Function('bbands'), \n",
    "             'obv': abstract.Function('obv'), \n",
    "             'trima': abstract.Function('trima'), \n",
    "             'roc': abstract.Function('roc'), \n",
    "             'rocr': abstract.Function('rocr'), \n",
    "             'stochf': abstract.Function('stochf'), \n",
    "             'medprice': abstract.Function('medprice'), \n",
    "             'typprice': abstract.Function('typprice'), \n",
    "             'wclprice': abstract.Function('wclprice'), \n",
    "             'atr': abstract.Function('atr'), \n",
    "             'macdfix': abstract.Function('macdfix'), \n",
    "             'mfi': abstract.Function('mfi'), \n",
    "             'sar': abstract.Function('sar'), \n",
    "             'ppo': abstract.Function('ppo')}\n",
    "# Add as many indicators as necessary: see all indicators in https://mrjbq7.github.io/ta-lib/"
   ]
  },
  {
   "cell_type": "code",
   "execution_count": 25,
   "metadata": {
    "pycharm": {
     "is_executing": false
    }
   },
   "outputs": [],
   "source": [
    "# Paths\n",
    "# Paths for symbols (not eft)\n",
    "DATA_PATH=os.sep.join(['C:','Users','suare','PycharmProjects','RegimeSwitchingSeriesGenerator','output'])\n",
    "# '/Users/asuarez/Downloads'\n",
    "SOURCE_PATH=DATA_PATH # +'raw\\\\alpha_vantage\\\\S&P500\\\\symbols\\\\AAPL\\\\'  # 'raw/alpha_vantage/'\n",
    "RESULT_PATH=DATA_PATH # +'analysis\\\\'+SYMBOL.lower()+'\\\\'\n",
    "\n",
    "# List of dates for files to be loaded\n",
    "filename = 'timeseries_created_21-10-2019' # 'timeseries_created_1571527428'\n",
    "FIELD = 'ts_n2_post' # price->'ts' returns->'ret_ts' ts_with_added_noise-> 'ts_n2_post'\n",
    "\n",
    "file = os.sep.join([SOURCE_PATH, filename+'.csv'])\n",
    "RESULT_FILEPATH_PROCESSED = os.sep.join([RESULT_PATH, filename+'_indicators.csv'])"
   ]
  },
  {
   "cell_type": "code",
   "execution_count": 26,
   "metadata": {
    "pycharm": {
     "is_executing": false
    }
   },
   "outputs": [
    {
     "data": {
      "text/plain": [
       "0    229.319071\n",
       "1    229.665573\n",
       "2    227.651423\n",
       "3    227.368065\n",
       "4    228.003522\n",
       "Name: close, dtype: float64"
      ]
     },
     "execution_count": 26,
     "metadata": {},
     "output_type": "execute_result"
    }
   ],
   "source": [
    "# Open file\n",
    "df=pd.read_csv(file)\n",
    "df['close'] = df[FIELD]\n",
    "df.close.head()"
   ]
  },
  {
   "cell_type": "code",
   "execution_count": 27,
   "metadata": {
    "pycharm": {
     "is_executing": false
    }
   },
   "outputs": [],
   "source": [
    "#Add parameters to transform in TS\n",
    "timeseries=['close']\n",
    "#Length of the TS. How many values do we keep per serie. \n",
    "# e.g. 1 -> t / 2 -> t,t-1 / 3 -> t,t-1,t-2 / 4 -> t,t-1,t-2,t-3\n",
    "length = 5\n",
    "\n",
    "# Add lagged times\n",
    "for column in timeseries:\n",
    "    #df[column+'_t']=df[column]\n",
    "    for i in range(1,length):\n",
    "        df[column+'_t-'+str(i)]=df[column].shift(i) #it could also be sorted and group by if needed\n",
    "    #del drops the delected df column\n",
    "    #del df[column]"
   ]
  },
  {
   "cell_type": "code",
   "execution_count": 28,
   "metadata": {
    "pycharm": {
     "is_executing": false
    }
   },
   "outputs": [
    {
     "data": {
      "text/html": [
       "<div>\n",
       "<style scoped>\n",
       "    .dataframe tbody tr th:only-of-type {\n",
       "        vertical-align: middle;\n",
       "    }\n",
       "\n",
       "    .dataframe tbody tr th {\n",
       "        vertical-align: top;\n",
       "    }\n",
       "\n",
       "    .dataframe thead th {\n",
       "        text-align: right;\n",
       "    }\n",
       "</style>\n",
       "<table border=\"1\" class=\"dataframe\">\n",
       "  <thead>\n",
       "    <tr style=\"text-align: right;\">\n",
       "      <th></th>\n",
       "      <th>n_row</th>\n",
       "      <th>new_switch</th>\n",
       "      <th>cur_switch</th>\n",
       "      <th>current_model_id</th>\n",
       "      <th>new_model_id</th>\n",
       "      <th>weights</th>\n",
       "      <th>ts</th>\n",
       "      <th>ts_mult</th>\n",
       "      <th>ret_ts</th>\n",
       "      <th>ts_n1_pre</th>\n",
       "      <th>...</th>\n",
       "      <th>wma_30</th>\n",
       "      <th>mom_10</th>\n",
       "      <th>rsi_10</th>\n",
       "      <th>trima_5.0</th>\n",
       "      <th>trima_10</th>\n",
       "      <th>trima_20</th>\n",
       "      <th>trima_30</th>\n",
       "      <th>roc_10</th>\n",
       "      <th>rocr_10</th>\n",
       "      <th>ppo_10</th>\n",
       "    </tr>\n",
       "  </thead>\n",
       "  <tbody>\n",
       "    <tr>\n",
       "      <th>0</th>\n",
       "      <td>0</td>\n",
       "      <td>NONE</td>\n",
       "      <td>NONE</td>\n",
       "      <td>1</td>\n",
       "      <td>-1</td>\n",
       "      <td>(1, 0)</td>\n",
       "      <td>227.568004</td>\n",
       "      <td>227.760120</td>\n",
       "      <td>0.000211</td>\n",
       "      <td>227.565121</td>\n",
       "      <td>...</td>\n",
       "      <td>NaN</td>\n",
       "      <td>NaN</td>\n",
       "      <td>NaN</td>\n",
       "      <td>NaN</td>\n",
       "      <td>NaN</td>\n",
       "      <td>NaN</td>\n",
       "      <td>NaN</td>\n",
       "      <td>NaN</td>\n",
       "      <td>NaN</td>\n",
       "      <td>NaN</td>\n",
       "    </tr>\n",
       "    <tr>\n",
       "      <th>1</th>\n",
       "      <td>1</td>\n",
       "      <td>NONE</td>\n",
       "      <td>NONE</td>\n",
       "      <td>1</td>\n",
       "      <td>-1</td>\n",
       "      <td>(1, 0)</td>\n",
       "      <td>227.616017</td>\n",
       "      <td>228.000493</td>\n",
       "      <td>0.000211</td>\n",
       "      <td>227.614760</td>\n",
       "      <td>...</td>\n",
       "      <td>NaN</td>\n",
       "      <td>NaN</td>\n",
       "      <td>NaN</td>\n",
       "      <td>NaN</td>\n",
       "      <td>NaN</td>\n",
       "      <td>NaN</td>\n",
       "      <td>NaN</td>\n",
       "      <td>NaN</td>\n",
       "      <td>NaN</td>\n",
       "      <td>NaN</td>\n",
       "    </tr>\n",
       "    <tr>\n",
       "      <th>2</th>\n",
       "      <td>2</td>\n",
       "      <td>NONE</td>\n",
       "      <td>NONE</td>\n",
       "      <td>1</td>\n",
       "      <td>-1</td>\n",
       "      <td>(1, 0)</td>\n",
       "      <td>227.664041</td>\n",
       "      <td>228.241119</td>\n",
       "      <td>0.000211</td>\n",
       "      <td>227.661036</td>\n",
       "      <td>...</td>\n",
       "      <td>NaN</td>\n",
       "      <td>NaN</td>\n",
       "      <td>NaN</td>\n",
       "      <td>NaN</td>\n",
       "      <td>NaN</td>\n",
       "      <td>NaN</td>\n",
       "      <td>NaN</td>\n",
       "      <td>NaN</td>\n",
       "      <td>NaN</td>\n",
       "      <td>NaN</td>\n",
       "    </tr>\n",
       "    <tr>\n",
       "      <th>3</th>\n",
       "      <td>3</td>\n",
       "      <td>NONE</td>\n",
       "      <td>NONE</td>\n",
       "      <td>1</td>\n",
       "      <td>-1</td>\n",
       "      <td>(1, 0)</td>\n",
       "      <td>227.712075</td>\n",
       "      <td>228.482000</td>\n",
       "      <td>0.000211</td>\n",
       "      <td>227.707352</td>\n",
       "      <td>...</td>\n",
       "      <td>NaN</td>\n",
       "      <td>NaN</td>\n",
       "      <td>NaN</td>\n",
       "      <td>NaN</td>\n",
       "      <td>NaN</td>\n",
       "      <td>NaN</td>\n",
       "      <td>NaN</td>\n",
       "      <td>NaN</td>\n",
       "      <td>NaN</td>\n",
       "      <td>NaN</td>\n",
       "    </tr>\n",
       "    <tr>\n",
       "      <th>4</th>\n",
       "      <td>4</td>\n",
       "      <td>NONE</td>\n",
       "      <td>NONE</td>\n",
       "      <td>1</td>\n",
       "      <td>-1</td>\n",
       "      <td>(1, 0)</td>\n",
       "      <td>227.724803</td>\n",
       "      <td>228.545860</td>\n",
       "      <td>0.000056</td>\n",
       "      <td>227.721379</td>\n",
       "      <td>...</td>\n",
       "      <td>NaN</td>\n",
       "      <td>NaN</td>\n",
       "      <td>NaN</td>\n",
       "      <td>228.26046</td>\n",
       "      <td>NaN</td>\n",
       "      <td>NaN</td>\n",
       "      <td>NaN</td>\n",
       "      <td>NaN</td>\n",
       "      <td>NaN</td>\n",
       "      <td>NaN</td>\n",
       "    </tr>\n",
       "  </tbody>\n",
       "</table>\n",
       "<p>5 rows × 39 columns</p>\n",
       "</div>"
      ],
      "text/plain": [
       "   n_row new_switch cur_switch  current_model_id  new_model_id weights  \\\n",
       "0      0       NONE       NONE                 1            -1  (1, 0)   \n",
       "1      1       NONE       NONE                 1            -1  (1, 0)   \n",
       "2      2       NONE       NONE                 1            -1  (1, 0)   \n",
       "3      3       NONE       NONE                 1            -1  (1, 0)   \n",
       "4      4       NONE       NONE                 1            -1  (1, 0)   \n",
       "\n",
       "           ts     ts_mult    ret_ts   ts_n1_pre  ...  wma_30  mom_10  rsi_10  \\\n",
       "0  227.568004  227.760120  0.000211  227.565121  ...     NaN     NaN     NaN   \n",
       "1  227.616017  228.000493  0.000211  227.614760  ...     NaN     NaN     NaN   \n",
       "2  227.664041  228.241119  0.000211  227.661036  ...     NaN     NaN     NaN   \n",
       "3  227.712075  228.482000  0.000211  227.707352  ...     NaN     NaN     NaN   \n",
       "4  227.724803  228.545860  0.000056  227.721379  ...     NaN     NaN     NaN   \n",
       "\n",
       "   trima_5.0  trima_10  trima_20  trima_30  roc_10  rocr_10  ppo_10  \n",
       "0        NaN       NaN       NaN       NaN     NaN      NaN     NaN  \n",
       "1        NaN       NaN       NaN       NaN     NaN      NaN     NaN  \n",
       "2        NaN       NaN       NaN       NaN     NaN      NaN     NaN  \n",
       "3        NaN       NaN       NaN       NaN     NaN      NaN     NaN  \n",
       "4  228.26046       NaN       NaN       NaN     NaN      NaN     NaN  \n",
       "\n",
       "[5 rows x 39 columns]"
      ]
     },
     "execution_count": 28,
     "metadata": {},
     "output_type": "execute_result"
    }
   ],
   "source": [
    "# all the numbers here and below assume a default time period for ta params of 10 mins averages\n",
    "# change the other numbers (params of 5min and 20min and theremoval of 20 first mins of the day below) if the mins number is changed.\n",
    "# in that case change as well the time tag '_10' with the corresponding one.\n",
    "default_timerange=10\n",
    "# Set extra timeranges for moving averages\n",
    "extra_timeranges=[default_timerange/2, default_timerange, default_timerange*2, default_timerange*3]\n",
    "\n",
    "# ###########################################\n",
    "# Iterate and run list of indicators selected\n",
    "# All of them produced for 25 prior mins of data \n",
    "# ###########################################\n",
    "for key in list(indicator.keys()):\n",
    "    if key not in ['stoch', 'macd', 'willr', 'adosc', 'cci', 'adx', \n",
    "                   'aroon', 'bbands', 'obv', 'stochf', 'medprice',\n",
    "                   'typprice', 'wclprice', 'atr', 'macdfix', 'mfi',\n",
    "                   'sar']:  # avoiding indicators that need more than 1 series (more than close: ex: high/low)\n",
    "        # For indicators that only return one column (this will need to be modified depending on the selection of indicators)\n",
    "        if key in ['ema','sma','wma','trima']: # ,'macdfix']:\n",
    "            for timerange in extra_timeranges:\n",
    "                df[key+'_'+str(timerange)]=indicator[key](df, timeperiod=timerange) \n",
    "        elif key not in ['bbands','aroon','stoch','macd','macdfix','stochf']:\n",
    "            df[key+'_'+str(default_timerange)]=indicator[key](df, timeperiod=(default_timerange))\n",
    "        # Otherwise check the list of columns and return all\n",
    "        else: \n",
    "            key_output=indicator[key](df, timeperiod=(default_timerange)) #, price='close')\n",
    "            for j in range(0,len(list(key_output.columns))):\n",
    "                df[key+'_'+key_output.columns[j]]=key_output[[j]]\n",
    "\n",
    "df.head()"
   ]
  },
  {
   "cell_type": "code",
   "execution_count": 29,
   "metadata": {
    "pycharm": {
     "is_executing": false
    }
   },
   "outputs": [
    {
     "data": {
      "text/html": [
       "<div>\n",
       "<style scoped>\n",
       "    .dataframe tbody tr th:only-of-type {\n",
       "        vertical-align: middle;\n",
       "    }\n",
       "\n",
       "    .dataframe tbody tr th {\n",
       "        vertical-align: top;\n",
       "    }\n",
       "\n",
       "    .dataframe thead th {\n",
       "        text-align: right;\n",
       "    }\n",
       "</style>\n",
       "<table border=\"1\" class=\"dataframe\">\n",
       "  <thead>\n",
       "    <tr style=\"text-align: right;\">\n",
       "      <th></th>\n",
       "      <th>ts_mult</th>\n",
       "      <th>close</th>\n",
       "      <th>close_t-1</th>\n",
       "      <th>close_t-2</th>\n",
       "      <th>close_t-3</th>\n",
       "      <th>close_t-4</th>\n",
       "      <th>sma_5.0</th>\n",
       "      <th>sma_10</th>\n",
       "      <th>sma_20</th>\n",
       "      <th>sma_30</th>\n",
       "      <th>...</th>\n",
       "      <th>rsi_10</th>\n",
       "      <th>trima_5.0</th>\n",
       "      <th>trima_10</th>\n",
       "      <th>trima_20</th>\n",
       "      <th>trima_30</th>\n",
       "      <th>roc_10</th>\n",
       "      <th>rocr_10</th>\n",
       "      <th>ppo_10</th>\n",
       "      <th>close_t+1</th>\n",
       "      <th>label</th>\n",
       "    </tr>\n",
       "  </thead>\n",
       "  <tbody>\n",
       "    <tr>\n",
       "      <th>29</th>\n",
       "      <td>230.621198</td>\n",
       "      <td>227.737727</td>\n",
       "      <td>227.986275</td>\n",
       "      <td>227.937589</td>\n",
       "      <td>227.869787</td>\n",
       "      <td>227.635372</td>\n",
       "      <td>227.833350</td>\n",
       "      <td>227.886922</td>\n",
       "      <td>228.264963</td>\n",
       "      <td>228.213416</td>\n",
       "      <td>...</td>\n",
       "      <td>44.962753</td>\n",
       "      <td>227.877554</td>\n",
       "      <td>227.891278</td>\n",
       "      <td>228.379304</td>\n",
       "      <td>228.283397</td>\n",
       "      <td>-0.422286</td>\n",
       "      <td>0.995777</td>\n",
       "      <td>-0.042547</td>\n",
       "      <td>229.355603</td>\n",
       "      <td>1</td>\n",
       "    </tr>\n",
       "    <tr>\n",
       "      <th>30</th>\n",
       "      <td>230.714852</td>\n",
       "      <td>229.355603</td>\n",
       "      <td>227.737727</td>\n",
       "      <td>227.986275</td>\n",
       "      <td>227.937589</td>\n",
       "      <td>227.869787</td>\n",
       "      <td>228.177396</td>\n",
       "      <td>228.081826</td>\n",
       "      <td>228.322335</td>\n",
       "      <td>228.214633</td>\n",
       "      <td>...</td>\n",
       "      <td>58.112887</td>\n",
       "      <td>228.059428</td>\n",
       "      <td>227.930762</td>\n",
       "      <td>228.328288</td>\n",
       "      <td>228.303274</td>\n",
       "      <td>0.857075</td>\n",
       "      <td>1.008571</td>\n",
       "      <td>-0.063013</td>\n",
       "      <td>227.940754</td>\n",
       "      <td>0</td>\n",
       "    </tr>\n",
       "    <tr>\n",
       "      <th>31</th>\n",
       "      <td>230.794196</td>\n",
       "      <td>227.940754</td>\n",
       "      <td>229.355603</td>\n",
       "      <td>227.737727</td>\n",
       "      <td>227.986275</td>\n",
       "      <td>227.937589</td>\n",
       "      <td>228.191590</td>\n",
       "      <td>228.084712</td>\n",
       "      <td>228.256644</td>\n",
       "      <td>228.157140</td>\n",
       "      <td>...</td>\n",
       "      <td>47.163252</td>\n",
       "      <td>228.197254</td>\n",
       "      <td>227.964984</td>\n",
       "      <td>228.284822</td>\n",
       "      <td>228.320604</td>\n",
       "      <td>0.012660</td>\n",
       "      <td>1.000127</td>\n",
       "      <td>-0.090756</td>\n",
       "      <td>228.315398</td>\n",
       "      <td>1</td>\n",
       "    </tr>\n",
       "    <tr>\n",
       "      <th>32</th>\n",
       "      <td>230.865718</td>\n",
       "      <td>228.315398</td>\n",
       "      <td>227.940754</td>\n",
       "      <td>229.355603</td>\n",
       "      <td>227.737727</td>\n",
       "      <td>227.986275</td>\n",
       "      <td>228.267151</td>\n",
       "      <td>228.003294</td>\n",
       "      <td>228.287050</td>\n",
       "      <td>228.179272</td>\n",
       "      <td>...</td>\n",
       "      <td>49.938468</td>\n",
       "      <td>228.413938</td>\n",
       "      <td>228.013204</td>\n",
       "      <td>228.246159</td>\n",
       "      <td>228.329302</td>\n",
       "      <td>-0.355337</td>\n",
       "      <td>0.996447</td>\n",
       "      <td>-0.070217</td>\n",
       "      <td>229.313028</td>\n",
       "      <td>1</td>\n",
       "    </tr>\n",
       "    <tr>\n",
       "      <th>33</th>\n",
       "      <td>230.948501</td>\n",
       "      <td>229.313028</td>\n",
       "      <td>228.315398</td>\n",
       "      <td>227.940754</td>\n",
       "      <td>229.355603</td>\n",
       "      <td>227.737727</td>\n",
       "      <td>228.532502</td>\n",
       "      <td>228.201400</td>\n",
       "      <td>228.367698</td>\n",
       "      <td>228.244104</td>\n",
       "      <td>...</td>\n",
       "      <td>56.671942</td>\n",
       "      <td>228.468336</td>\n",
       "      <td>228.145381</td>\n",
       "      <td>228.212577</td>\n",
       "      <td>228.327619</td>\n",
       "      <td>0.871441</td>\n",
       "      <td>1.008714</td>\n",
       "      <td>-0.037947</td>\n",
       "      <td>228.182885</td>\n",
       "      <td>0</td>\n",
       "    </tr>\n",
       "  </tbody>\n",
       "</table>\n",
       "<p>5 rows × 29 columns</p>\n",
       "</div>"
      ],
      "text/plain": [
       "       ts_mult       close   close_t-1   close_t-2   close_t-3   close_t-4  \\\n",
       "29  230.621198  227.737727  227.986275  227.937589  227.869787  227.635372   \n",
       "30  230.714852  229.355603  227.737727  227.986275  227.937589  227.869787   \n",
       "31  230.794196  227.940754  229.355603  227.737727  227.986275  227.937589   \n",
       "32  230.865718  228.315398  227.940754  229.355603  227.737727  227.986275   \n",
       "33  230.948501  229.313028  228.315398  227.940754  229.355603  227.737727   \n",
       "\n",
       "       sma_5.0      sma_10      sma_20      sma_30  ...     rsi_10  \\\n",
       "29  227.833350  227.886922  228.264963  228.213416  ...  44.962753   \n",
       "30  228.177396  228.081826  228.322335  228.214633  ...  58.112887   \n",
       "31  228.191590  228.084712  228.256644  228.157140  ...  47.163252   \n",
       "32  228.267151  228.003294  228.287050  228.179272  ...  49.938468   \n",
       "33  228.532502  228.201400  228.367698  228.244104  ...  56.671942   \n",
       "\n",
       "     trima_5.0    trima_10    trima_20    trima_30    roc_10   rocr_10  \\\n",
       "29  227.877554  227.891278  228.379304  228.283397 -0.422286  0.995777   \n",
       "30  228.059428  227.930762  228.328288  228.303274  0.857075  1.008571   \n",
       "31  228.197254  227.964984  228.284822  228.320604  0.012660  1.000127   \n",
       "32  228.413938  228.013204  228.246159  228.329302 -0.355337  0.996447   \n",
       "33  228.468336  228.145381  228.212577  228.327619  0.871441  1.008714   \n",
       "\n",
       "      ppo_10   close_t+1  label  \n",
       "29 -0.042547  229.355603      1  \n",
       "30 -0.063013  227.940754      0  \n",
       "31 -0.090756  228.315398      1  \n",
       "32 -0.070217  229.313028      1  \n",
       "33 -0.037947  228.182885      0  \n",
       "\n",
       "[5 rows x 29 columns]"
      ]
     },
     "execution_count": 29,
     "metadata": {},
     "output_type": "execute_result"
    }
   ],
   "source": [
    "def set_label(row):\n",
    "    if row['close_t+1'] > row['close']: return 1\n",
    "    else: return 0\n",
    "\n",
    "# One minute ahead closing price\n",
    "df['close_t+1']=df['close'].shift(-1)\n",
    "\n",
    "# Creating label/y to be predicted / independent (predicted) feature 'y' \n",
    "df['label'] = df.apply(set_label, axis=1)\n",
    "df.drop(columns=['n_row', 'new_switch', 'cur_switch', 'current_model_id', 'new_model_id', \n",
    "                 'weights', 'ts', 'ret_ts', 'ts_n1_pre', 'ts_n2_pre', 'ts_n1_post', 'ts_n2_post'], inplace=True)\n",
    "df.dropna(inplace=True)\n",
    "df.head()"
   ]
  },
  {
   "cell_type": "code",
   "execution_count": 30,
   "metadata": {
    "pycharm": {
     "is_executing": false
    }
   },
   "outputs": [
    {
     "name": "stdout",
     "output_type": "stream",
     "text": [
      "Class distribution: \n",
      "0 in 0.504225352112676%\n",
      "1 in 0.49577464788732395%\n"
     ]
    },
    {
     "data": {
      "application/javascript": [
       "$(document).ready(\n",
       "    function() {\n",
       "        function appendUniqueDiv(){\n",
       "            // append a div with our uuid so we can check that it's already\n",
       "            // been sent and avoid duplicates on page reload\n",
       "            var notifiedDiv = document.createElement(\"div\")\n",
       "            notifiedDiv.id = \"737da18f-68a1-4c85-97d0-05e7b0495b74\"\n",
       "            element.append(notifiedDiv)\n",
       "        }\n",
       "\n",
       "        // only send notifications if the pageload is complete; this will\n",
       "        // help stop extra notifications when a saved notebook is loaded,\n",
       "        // which during testing gives us state \"interactive\", not \"complete\"\n",
       "        if (document.readyState === 'complete') {\n",
       "            // check for the div that signifies that the notification\n",
       "            // was already sent\n",
       "            if (document.getElementById(\"737da18f-68a1-4c85-97d0-05e7b0495b74\") === null) {\n",
       "                var notificationPayload = {\"requireInteraction\": false, \"icon\": \"/static/base/images/favicon.ico\", \"body\": \"Parsing is finished\"};\n",
       "                if (Notification.permission !== 'denied') {\n",
       "                    if (Notification.permission !== 'granted') { \n",
       "                        Notification.requestPermission(function (permission) {\n",
       "                            if(!('permission' in Notification)) {\n",
       "                                Notification.permission = permission\n",
       "                            }\n",
       "                        })\n",
       "                    }\n",
       "                    if (Notification.permission === 'granted') {\n",
       "                    var notification = new Notification(\"Jupyter Notebook\", notificationPayload)\n",
       "                    appendUniqueDiv()\n",
       "                    notification.onclick = function () {\n",
       "                        window.focus();\n",
       "                        this.close();\n",
       "                        };\n",
       "                    } \n",
       "                }     \n",
       "            }\n",
       "        }\n",
       "    }\n",
       ")\n"
      ],
      "text/plain": [
       "<IPython.core.display.Javascript object>"
      ]
     },
     "metadata": {},
     "output_type": "display_data"
    }
   ],
   "source": [
    "# Select columns for output\n",
    "columns_selected=[\n",
    "                 'rsi_10' ,'mom_10','ema_10','ema_20','ema_30',\n",
    "                 'sma_10','sma_20','sma_30','wma_10','wma_20','wma_30',\n",
    "                 'trima_10','trima_20','trima_30',\n",
    "                 'roc_10','rocr_10','ppo_10',\n",
    "                 'close','close_t-1','close_t-2','close_t-3','close_t-4',\n",
    "                 'label']\n",
    "\n",
    "# Export processed data\n",
    "output = pd.DataFrame(df, columns=columns_selected)\n",
    "output.to_csv(RESULT_FILEPATH_PROCESSED, sep=';', encoding='utf-8', index = False)\n",
    "\n",
    "# Printing classes distributions\n",
    "print(\"Class distribution: \")\n",
    "label_zero=len(df[df['label'] == 0])\n",
    "label_one=len(df[df['label'] == 1])\n",
    "#print(label_zero)\n",
    "#print(label_one)\n",
    "print(\"0 in \"+str(float(label_zero)/(label_one+label_zero))+\"%\")\n",
    "print(\"1 in \"+str(float(label_one)/(label_one+label_zero))+\"%\")\n",
    "\n",
    "%notify -m \"Parsing is finished\""
   ]
  },
  {
   "cell_type": "code",
   "execution_count": 31,
   "metadata": {
    "pycharm": {
     "is_executing": false
    }
   },
   "outputs": [
    {
     "data": {
      "image/png": "[encoded data removed]",
      "text/plain": [
       "<Figure size 432x288 with 1 Axes>"
      ]
     },
     "metadata": {
      "needs_background": "light"
     },
     "output_type": "display_data"
    }
   ],
   "source": [
    "# Now plot close price and volume overtime.\n",
    "import matplotlib.pyplot as plt\n",
    "import pandas as pd\n",
    "\n",
    "df.plot(y=[\"close_t-1\"])\n",
    "plt.show()"
   ]
  },
  {
   "cell_type": "code",
   "execution_count": null,
   "metadata": {
    "pycharm": {
     "is_executing": false
    }
   },
   "outputs": [],
   "source": []
  },
  {
   "cell_type": "code",
   "execution_count": null,
   "metadata": {
    "pycharm": {
     "is_executing": false
    }
   },
   "outputs": [],
   "source": []
  },
  {
   "cell_type": "code",
   "execution_count": null,
   "metadata": {},
   "outputs": [],
   "source": []
  }
 ],
 "metadata": {
  "kernelspec": {
   "display_name": "Python 3",
   "language": "python",
   "name": "python3"
  },
  "language_info": {
   "codemirror_mode": {
    "name": "ipython",
    "version": 3
   },
   "file_extension": ".py",
   "mimetype": "text/x-python",
   "name": "python",
   "nbconvert_exporter": "python",
   "pygments_lexer": "ipython3",
   "version": "3.7.3"
  },
  "pycharm": {
   "stem_cell": {
    "cell_type": "raw",
    "metadata": {
     "collapsed": false
    },
    "source": []
   }
  }
 },
 "nbformat": 4,
 "nbformat_minor": 2
}
