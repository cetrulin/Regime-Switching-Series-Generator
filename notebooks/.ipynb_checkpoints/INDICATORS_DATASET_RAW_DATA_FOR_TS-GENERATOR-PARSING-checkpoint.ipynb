{
 "cells": [
  {
   "cell_type": "code",
   "execution_count": 11,
   "metadata": {
    "pycharm": {
     "is_executing": true
    }
   },
   "outputs": [
    {
     "name": "stdout",
     "output_type": "stream",
     "text": [
      "The jupyternotify extension is already loaded. To reload it, use:\n",
      "  %reload_ext jupyternotify\n"
     ]
    }
   ],
   "source": [
    "# Data preparation for Ph.D thesis\n",
    "# @author: Andres L. Suarez-Cetrulo\n",
    "%config IPCompleter.greedy=True\n",
    "%load_ext jupyternotify\n",
    "%matplotlib inline"
   ]
  },
  {
   "cell_type": "code",
   "execution_count": 12,
   "metadata": {
    "pycharm": {
     "is_executing": false
    }
   },
   "outputs": [],
   "source": [
    "# Imports\n",
    "import pandas as pd\n",
    "import numpy as np\n",
    "import datetime\n",
    "from pathlib import Path\n",
    "import os\n",
    "\n",
    "# Using TALib abstract API to create a dictionary of technical indicators to iterate later.\n",
    "from talib import abstract"
   ]
  },
  {
   "cell_type": "code",
   "execution_count": 13,
   "metadata": {
    "pycharm": {
     "is_executing": false
    }
   },
   "outputs": [],
   "source": [
    "# Creating a dictionary of technical indicators using TALib abstract API\n",
    "indicator = {'sma': abstract.Function('sma'), \n",
    "             'ema': abstract.Function('ema'), \n",
    "             'wma': abstract.Function('wma'), \n",
    "             'mom': abstract.Function('mom'), \n",
    "             'stoch': abstract.Function('stoch'), \n",
    "             'macd': abstract.Function('macd'), \n",
    "             'rsi': abstract.Function('rsi'), \n",
    "             'willr': abstract.Function('willr'), \n",
    "             'adosc': abstract.Function('adosc'), \n",
    "             'cci': abstract.Function('cci'), \n",
    "             'adx': abstract.Function('adx'), \n",
    "             'aroon': abstract.Function('aroon'), \n",
    "             'bbands': abstract.Function('bbands'), \n",
    "             'obv': abstract.Function('obv'), \n",
    "             'trima': abstract.Function('trima'), \n",
    "             'roc': abstract.Function('roc'), \n",
    "             'rocr': abstract.Function('rocr'), \n",
    "             'stochf': abstract.Function('stochf'), \n",
    "             'medprice': abstract.Function('medprice'), \n",
    "             'typprice': abstract.Function('typprice'), \n",
    "             'wclprice': abstract.Function('wclprice'), \n",
    "             'atr': abstract.Function('atr'), \n",
    "             'macdfix': abstract.Function('macdfix'), \n",
    "             'mfi': abstract.Function('mfi'), \n",
    "             'sar': abstract.Function('sar'), \n",
    "             'ppo': abstract.Function('ppo')}\n",
    "# Add as many indicators as necessary: see all indicators in https://mrjbq7.github.io/ta-lib/"
   ]
  },
  {
   "cell_type": "code",
   "execution_count": 28,
   "metadata": {
    "pycharm": {
     "is_executing": false
    }
   },
   "outputs": [],
   "source": [
    "# Paths for symbols (not eft)\n",
    "DATA_PATH=os.sep.join(['C:','Users','suare','PycharmProjects','RegimeSwitchingSeriesGenerator','data'])\n",
    "# '/Users/asuarez/Downloads'\n",
    "SOURCE_PATH=DATA_PATH # +'raw\\\\alpha_vantage\\\\S&P500\\\\symbols\\\\AAPL\\\\'  # 'raw/alpha_vantage/'\n",
    "RESULT_PATH=os.sep.join(['C:','Users','suare','PycharmProjects','RegimeSwitchingSeriesGenerator','output']) # +'analysis\\\\'+SYMBOL.lower()+'\\\\'\n",
    "\n",
    "# List of dates for files to be loaded\n",
    "raw_datasets = ['aapl\\\\APPLE_[2018-08-01_to_2018-09-11]_5min.csv',\n",
    "                  'btc\\\\BITCOIN_[2019-07-01_to_2019-07-15]_5min.csv',\n",
    "                  'xrp\\\\RIPPLE_[2019-07-01_to_2019-08-01]_5min.csv',\n",
    "                  'efts\\\\5min-level\\\\DOWJONES\\\\DOWJONES_[2015-08-01_to_2015-08-31]_market_hours.csv']\n",
    "    \n",
    "filename = raw_datasets[3] # 'timeseries_created_21-10-2019' # 'timeseries_created_1571527428'\n",
    "FIELD = 'close' # price->'ts' returns->'ret_ts' ts_with_added_noise-> 'ts_n2_post'\n",
    "\n",
    "file = os.sep.join([SOURCE_PATH, filename])\n",
    "RESULT_FILEPATH_PROCESSED = os.sep.join([RESULT_PATH, filename.split(os.sep)[-1].replace('.csv','')+'_indicators.csv'])"
   ]
  },
  {
   "cell_type": "code",
   "execution_count": 29,
   "metadata": {
    "pycharm": {
     "is_executing": false
    }
   },
   "outputs": [
    {
     "name": "stdout",
     "output_type": "stream",
     "text": [
      "     open     high     low     close    volume             datetime  gap  \\\n",
      "0  176.84  176.871  176.58  176.5900   96219.0  2015-08-03 09:30:00  0.0   \n",
      "1  176.57  176.580  176.38  176.5500   68597.0  2015-08-03 09:35:00  0.0   \n",
      "2  176.53  176.530  176.03  176.0596   77457.0  2015-08-03 09:40:00  0.0   \n",
      "3  176.07  176.150  175.95  176.0600  152122.0  2015-08-03 09:45:00  0.0   \n",
      "4  176.09  176.160  176.04  176.0800  123057.0  2015-08-03 09:50:00  0.0   \n",
      "\n",
      "    timestamp  \n",
      "0  1438594200  \n",
      "1  1438594500  \n",
      "2  1438594800  \n",
      "3  1438595100  \n",
      "4  1438595400  \n"
     ]
    },
    {
     "data": {
      "text/plain": [
       "0    176.5900\n",
       "1    176.5500\n",
       "2    176.0596\n",
       "3    176.0600\n",
       "4    176.0800\n",
       "Name: close, dtype: float64"
      ]
     },
     "execution_count": 29,
     "metadata": {},
     "output_type": "execute_result"
    }
   ],
   "source": [
    "# Open file\n",
    "df=pd.read_csv(file, sep=';')\n",
    "print(df.head())\n",
    "\n",
    "df['close'] = df[FIELD]\n",
    "df.close.head()"
   ]
  },
  {
   "cell_type": "code",
   "execution_count": 30,
   "metadata": {
    "pycharm": {
     "is_executing": false
    }
   },
   "outputs": [],
   "source": [
    "#Add parameters to transform in TS\n",
    "timeseries=['close']\n",
    "#Length of the TS. How many values do we keep per serie. \n",
    "# e.g. 1 -> t / 2 -> t,t-1 / 3 -> t,t-1,t-2 / 4 -> t,t-1,t-2,t-3\n",
    "length = 5\n",
    "\n",
    "# Add lagged times\n",
    "for column in timeseries:\n",
    "    #df[column+'_t']=df[column]\n",
    "    for i in range(1,length):\n",
    "        df[column+'_t-'+str(i)]=df[column].shift(i) #it could also be sorted and group by if needed\n",
    "    #del drops the delected df column\n",
    "    #del df[column]"
   ]
  },
  {
   "cell_type": "code",
   "execution_count": 31,
   "metadata": {
    "pycharm": {
     "is_executing": false
    }
   },
   "outputs": [
    {
     "data": {
      "text/html": [
       "<div>\n",
       "<style scoped>\n",
       "    .dataframe tbody tr th:only-of-type {\n",
       "        vertical-align: middle;\n",
       "    }\n",
       "\n",
       "    .dataframe tbody tr th {\n",
       "        vertical-align: top;\n",
       "    }\n",
       "\n",
       "    .dataframe thead th {\n",
       "        text-align: right;\n",
       "    }\n",
       "</style>\n",
       "<table border=\"1\" class=\"dataframe\">\n",
       "  <thead>\n",
       "    <tr style=\"text-align: right;\">\n",
       "      <th></th>\n",
       "      <th>open</th>\n",
       "      <th>high</th>\n",
       "      <th>low</th>\n",
       "      <th>close</th>\n",
       "      <th>volume</th>\n",
       "      <th>datetime</th>\n",
       "      <th>gap</th>\n",
       "      <th>timestamp</th>\n",
       "      <th>close_t-1</th>\n",
       "      <th>close_t-2</th>\n",
       "      <th>...</th>\n",
       "      <th>wma_30</th>\n",
       "      <th>mom_10</th>\n",
       "      <th>rsi_10</th>\n",
       "      <th>trima_5.0</th>\n",
       "      <th>trima_10</th>\n",
       "      <th>trima_20</th>\n",
       "      <th>trima_30</th>\n",
       "      <th>roc_10</th>\n",
       "      <th>rocr_10</th>\n",
       "      <th>ppo_10</th>\n",
       "    </tr>\n",
       "  </thead>\n",
       "  <tbody>\n",
       "    <tr>\n",
       "      <th>0</th>\n",
       "      <td>176.84</td>\n",
       "      <td>176.871</td>\n",
       "      <td>176.58</td>\n",
       "      <td>176.5900</td>\n",
       "      <td>96219.0</td>\n",
       "      <td>2015-08-03 09:30:00</td>\n",
       "      <td>0.0</td>\n",
       "      <td>1438594200</td>\n",
       "      <td>NaN</td>\n",
       "      <td>NaN</td>\n",
       "      <td>...</td>\n",
       "      <td>NaN</td>\n",
       "      <td>NaN</td>\n",
       "      <td>NaN</td>\n",
       "      <td>NaN</td>\n",
       "      <td>NaN</td>\n",
       "      <td>NaN</td>\n",
       "      <td>NaN</td>\n",
       "      <td>NaN</td>\n",
       "      <td>NaN</td>\n",
       "      <td>NaN</td>\n",
       "    </tr>\n",
       "    <tr>\n",
       "      <th>1</th>\n",
       "      <td>176.57</td>\n",
       "      <td>176.580</td>\n",
       "      <td>176.38</td>\n",
       "      <td>176.5500</td>\n",
       "      <td>68597.0</td>\n",
       "      <td>2015-08-03 09:35:00</td>\n",
       "      <td>0.0</td>\n",
       "      <td>1438594500</td>\n",
       "      <td>176.5900</td>\n",
       "      <td>NaN</td>\n",
       "      <td>...</td>\n",
       "      <td>NaN</td>\n",
       "      <td>NaN</td>\n",
       "      <td>NaN</td>\n",
       "      <td>NaN</td>\n",
       "      <td>NaN</td>\n",
       "      <td>NaN</td>\n",
       "      <td>NaN</td>\n",
       "      <td>NaN</td>\n",
       "      <td>NaN</td>\n",
       "      <td>NaN</td>\n",
       "    </tr>\n",
       "    <tr>\n",
       "      <th>2</th>\n",
       "      <td>176.53</td>\n",
       "      <td>176.530</td>\n",
       "      <td>176.03</td>\n",
       "      <td>176.0596</td>\n",
       "      <td>77457.0</td>\n",
       "      <td>2015-08-03 09:40:00</td>\n",
       "      <td>0.0</td>\n",
       "      <td>1438594800</td>\n",
       "      <td>176.5500</td>\n",
       "      <td>176.5900</td>\n",
       "      <td>...</td>\n",
       "      <td>NaN</td>\n",
       "      <td>NaN</td>\n",
       "      <td>NaN</td>\n",
       "      <td>NaN</td>\n",
       "      <td>NaN</td>\n",
       "      <td>NaN</td>\n",
       "      <td>NaN</td>\n",
       "      <td>NaN</td>\n",
       "      <td>NaN</td>\n",
       "      <td>NaN</td>\n",
       "    </tr>\n",
       "    <tr>\n",
       "      <th>3</th>\n",
       "      <td>176.07</td>\n",
       "      <td>176.150</td>\n",
       "      <td>175.95</td>\n",
       "      <td>176.0600</td>\n",
       "      <td>152122.0</td>\n",
       "      <td>2015-08-03 09:45:00</td>\n",
       "      <td>0.0</td>\n",
       "      <td>1438595100</td>\n",
       "      <td>176.0596</td>\n",
       "      <td>176.5500</td>\n",
       "      <td>...</td>\n",
       "      <td>NaN</td>\n",
       "      <td>NaN</td>\n",
       "      <td>NaN</td>\n",
       "      <td>NaN</td>\n",
       "      <td>NaN</td>\n",
       "      <td>NaN</td>\n",
       "      <td>NaN</td>\n",
       "      <td>NaN</td>\n",
       "      <td>NaN</td>\n",
       "      <td>NaN</td>\n",
       "    </tr>\n",
       "    <tr>\n",
       "      <th>4</th>\n",
       "      <td>176.09</td>\n",
       "      <td>176.160</td>\n",
       "      <td>176.04</td>\n",
       "      <td>176.0800</td>\n",
       "      <td>123057.0</td>\n",
       "      <td>2015-08-03 09:50:00</td>\n",
       "      <td>0.0</td>\n",
       "      <td>1438595400</td>\n",
       "      <td>176.0600</td>\n",
       "      <td>176.0596</td>\n",
       "      <td>...</td>\n",
       "      <td>NaN</td>\n",
       "      <td>NaN</td>\n",
       "      <td>NaN</td>\n",
       "      <td>176.229867</td>\n",
       "      <td>NaN</td>\n",
       "      <td>NaN</td>\n",
       "      <td>NaN</td>\n",
       "      <td>NaN</td>\n",
       "      <td>NaN</td>\n",
       "      <td>NaN</td>\n",
       "    </tr>\n",
       "  </tbody>\n",
       "</table>\n",
       "<p>5 rows × 33 columns</p>\n",
       "</div>"
      ],
      "text/plain": [
       "     open     high     low     close    volume             datetime  gap  \\\n",
       "0  176.84  176.871  176.58  176.5900   96219.0  2015-08-03 09:30:00  0.0   \n",
       "1  176.57  176.580  176.38  176.5500   68597.0  2015-08-03 09:35:00  0.0   \n",
       "2  176.53  176.530  176.03  176.0596   77457.0  2015-08-03 09:40:00  0.0   \n",
       "3  176.07  176.150  175.95  176.0600  152122.0  2015-08-03 09:45:00  0.0   \n",
       "4  176.09  176.160  176.04  176.0800  123057.0  2015-08-03 09:50:00  0.0   \n",
       "\n",
       "    timestamp  close_t-1  close_t-2  ...  wma_30  mom_10  rsi_10   trima_5.0  \\\n",
       "0  1438594200        NaN        NaN  ...     NaN     NaN     NaN         NaN   \n",
       "1  1438594500   176.5900        NaN  ...     NaN     NaN     NaN         NaN   \n",
       "2  1438594800   176.5500   176.5900  ...     NaN     NaN     NaN         NaN   \n",
       "3  1438595100   176.0596   176.5500  ...     NaN     NaN     NaN         NaN   \n",
       "4  1438595400   176.0600   176.0596  ...     NaN     NaN     NaN  176.229867   \n",
       "\n",
       "   trima_10  trima_20  trima_30  roc_10  rocr_10  ppo_10  \n",
       "0       NaN       NaN       NaN     NaN      NaN     NaN  \n",
       "1       NaN       NaN       NaN     NaN      NaN     NaN  \n",
       "2       NaN       NaN       NaN     NaN      NaN     NaN  \n",
       "3       NaN       NaN       NaN     NaN      NaN     NaN  \n",
       "4       NaN       NaN       NaN     NaN      NaN     NaN  \n",
       "\n",
       "[5 rows x 33 columns]"
      ]
     },
     "execution_count": 31,
     "metadata": {},
     "output_type": "execute_result"
    }
   ],
   "source": [
    "# all the numbers here and below assume a default time period for ta params of 10 mins averages\n",
    "# change the other numbers (params of 5min and 20min and theremoval of 20 first mins of the day below) if the mins number is changed.\n",
    "# in that case change as well the time tag '_10' with the corresponding one.\n",
    "default_timerange=10\n",
    "# Set extra timeranges for moving averages\n",
    "extra_timeranges=[default_timerange/2, default_timerange, default_timerange*2, default_timerange*3]\n",
    "\n",
    "# ###########################################\n",
    "# Iterate and run list of indicators selected\n",
    "# All of them produced for 25 prior mins of data \n",
    "# ###########################################\n",
    "for key in list(indicator.keys()):\n",
    "    if key not in ['stoch', 'macd', 'willr', 'adosc', 'cci', 'adx', \n",
    "                   'aroon', 'bbands', 'obv', 'stochf', 'medprice',\n",
    "                   'typprice', 'wclprice', 'atr', 'macdfix', 'mfi',\n",
    "                   'sar']:  # avoiding indicators that need more than 1 series (more than close: ex: high/low)\n",
    "        # For indicators that only return one column (this will need to be modified depending on the selection of indicators)\n",
    "        if key in ['ema','sma','wma','trima']: # ,'macdfix']:\n",
    "            for timerange in extra_timeranges:\n",
    "                df[key+'_'+str(timerange)]=indicator[key](df, timeperiod=timerange) \n",
    "        elif key not in ['bbands','aroon','stoch','macd','macdfix','stochf']:\n",
    "            df[key+'_'+str(default_timerange)]=indicator[key](df, timeperiod=(default_timerange))\n",
    "        # Otherwise check the list of columns and return all\n",
    "        else: \n",
    "            key_output=indicator[key](df, timeperiod=(default_timerange)) #, price='close')\n",
    "            for j in range(0,len(list(key_output.columns))):\n",
    "                df[key+'_'+key_output.columns[j]]=key_output[[j]]\n",
    "\n",
    "df.head()"
   ]
  },
  {
   "cell_type": "code",
   "execution_count": 32,
   "metadata": {
    "pycharm": {
     "is_executing": false
    }
   },
   "outputs": [
    {
     "data": {
      "text/html": [
       "<div>\n",
       "<style scoped>\n",
       "    .dataframe tbody tr th:only-of-type {\n",
       "        vertical-align: middle;\n",
       "    }\n",
       "\n",
       "    .dataframe tbody tr th {\n",
       "        vertical-align: top;\n",
       "    }\n",
       "\n",
       "    .dataframe thead th {\n",
       "        text-align: right;\n",
       "    }\n",
       "</style>\n",
       "<table border=\"1\" class=\"dataframe\">\n",
       "  <thead>\n",
       "    <tr style=\"text-align: right;\">\n",
       "      <th></th>\n",
       "      <th>open</th>\n",
       "      <th>high</th>\n",
       "      <th>low</th>\n",
       "      <th>close</th>\n",
       "      <th>volume</th>\n",
       "      <th>datetime</th>\n",
       "      <th>gap</th>\n",
       "      <th>timestamp</th>\n",
       "      <th>close_t-1</th>\n",
       "      <th>close_t-2</th>\n",
       "      <th>...</th>\n",
       "      <th>rsi_10</th>\n",
       "      <th>trima_5.0</th>\n",
       "      <th>trima_10</th>\n",
       "      <th>trima_20</th>\n",
       "      <th>trima_30</th>\n",
       "      <th>roc_10</th>\n",
       "      <th>rocr_10</th>\n",
       "      <th>ppo_10</th>\n",
       "      <th>close_t+1</th>\n",
       "      <th>label</th>\n",
       "    </tr>\n",
       "  </thead>\n",
       "  <tbody>\n",
       "    <tr>\n",
       "      <th>29</th>\n",
       "      <td>176.00</td>\n",
       "      <td>176.0000</td>\n",
       "      <td>175.92</td>\n",
       "      <td>175.960</td>\n",
       "      <td>20513.0</td>\n",
       "      <td>2015-08-03 11:55:00</td>\n",
       "      <td>0.0</td>\n",
       "      <td>1438602900</td>\n",
       "      <td>176.00</td>\n",
       "      <td>176.07</td>\n",
       "      <td>...</td>\n",
       "      <td>42.473781</td>\n",
       "      <td>176.055556</td>\n",
       "      <td>176.071130</td>\n",
       "      <td>175.940073</td>\n",
       "      <td>175.943674</td>\n",
       "      <td>0.017052</td>\n",
       "      <td>1.000171</td>\n",
       "      <td>0.022560</td>\n",
       "      <td>175.900</td>\n",
       "      <td>0</td>\n",
       "    </tr>\n",
       "    <tr>\n",
       "      <th>30</th>\n",
       "      <td>175.98</td>\n",
       "      <td>176.0200</td>\n",
       "      <td>175.89</td>\n",
       "      <td>175.900</td>\n",
       "      <td>18883.0</td>\n",
       "      <td>2015-08-03 12:00:00</td>\n",
       "      <td>0.0</td>\n",
       "      <td>1438603200</td>\n",
       "      <td>175.96</td>\n",
       "      <td>176.00</td>\n",
       "      <td>...</td>\n",
       "      <td>39.032238</td>\n",
       "      <td>176.010000</td>\n",
       "      <td>176.066767</td>\n",
       "      <td>175.959305</td>\n",
       "      <td>175.938948</td>\n",
       "      <td>-0.028360</td>\n",
       "      <td>0.999716</td>\n",
       "      <td>0.027916</td>\n",
       "      <td>175.910</td>\n",
       "      <td>1</td>\n",
       "    </tr>\n",
       "    <tr>\n",
       "      <th>31</th>\n",
       "      <td>175.90</td>\n",
       "      <td>175.9368</td>\n",
       "      <td>175.87</td>\n",
       "      <td>175.910</td>\n",
       "      <td>37612.0</td>\n",
       "      <td>2015-08-03 12:05:00</td>\n",
       "      <td>0.0</td>\n",
       "      <td>1438603500</td>\n",
       "      <td>175.90</td>\n",
       "      <td>175.96</td>\n",
       "      <td>...</td>\n",
       "      <td>39.933540</td>\n",
       "      <td>175.962222</td>\n",
       "      <td>176.051067</td>\n",
       "      <td>175.977583</td>\n",
       "      <td>175.937889</td>\n",
       "      <td>-0.039777</td>\n",
       "      <td>0.999602</td>\n",
       "      <td>0.034621</td>\n",
       "      <td>175.930</td>\n",
       "      <td>1</td>\n",
       "    </tr>\n",
       "    <tr>\n",
       "      <th>32</th>\n",
       "      <td>175.90</td>\n",
       "      <td>175.9550</td>\n",
       "      <td>175.87</td>\n",
       "      <td>175.930</td>\n",
       "      <td>90512.0</td>\n",
       "      <td>2015-08-03 12:10:00</td>\n",
       "      <td>0.0</td>\n",
       "      <td>1438603800</td>\n",
       "      <td>175.91</td>\n",
       "      <td>175.90</td>\n",
       "      <td>...</td>\n",
       "      <td>41.844062</td>\n",
       "      <td>175.930000</td>\n",
       "      <td>176.025700</td>\n",
       "      <td>175.993225</td>\n",
       "      <td>175.940080</td>\n",
       "      <td>-0.062486</td>\n",
       "      <td>0.999375</td>\n",
       "      <td>0.037833</td>\n",
       "      <td>175.755</td>\n",
       "      <td>0</td>\n",
       "    </tr>\n",
       "    <tr>\n",
       "      <th>33</th>\n",
       "      <td>175.93</td>\n",
       "      <td>175.9350</td>\n",
       "      <td>175.75</td>\n",
       "      <td>175.755</td>\n",
       "      <td>112674.0</td>\n",
       "      <td>2015-08-03 12:15:00</td>\n",
       "      <td>0.0</td>\n",
       "      <td>1438604100</td>\n",
       "      <td>175.93</td>\n",
       "      <td>175.91</td>\n",
       "      <td>...</td>\n",
       "      <td>31.960751</td>\n",
       "      <td>175.900556</td>\n",
       "      <td>175.991167</td>\n",
       "      <td>176.003039</td>\n",
       "      <td>175.942415</td>\n",
       "      <td>-0.162462</td>\n",
       "      <td>0.998375</td>\n",
       "      <td>0.032753</td>\n",
       "      <td>175.770</td>\n",
       "      <td>1</td>\n",
       "    </tr>\n",
       "  </tbody>\n",
       "</table>\n",
       "<p>5 rows × 35 columns</p>\n",
       "</div>"
      ],
      "text/plain": [
       "      open      high     low    close    volume             datetime  gap  \\\n",
       "29  176.00  176.0000  175.92  175.960   20513.0  2015-08-03 11:55:00  0.0   \n",
       "30  175.98  176.0200  175.89  175.900   18883.0  2015-08-03 12:00:00  0.0   \n",
       "31  175.90  175.9368  175.87  175.910   37612.0  2015-08-03 12:05:00  0.0   \n",
       "32  175.90  175.9550  175.87  175.930   90512.0  2015-08-03 12:10:00  0.0   \n",
       "33  175.93  175.9350  175.75  175.755  112674.0  2015-08-03 12:15:00  0.0   \n",
       "\n",
       "     timestamp  close_t-1  close_t-2  ...     rsi_10   trima_5.0    trima_10  \\\n",
       "29  1438602900     176.00     176.07  ...  42.473781  176.055556  176.071130   \n",
       "30  1438603200     175.96     176.00  ...  39.032238  176.010000  176.066767   \n",
       "31  1438603500     175.90     175.96  ...  39.933540  175.962222  176.051067   \n",
       "32  1438603800     175.91     175.90  ...  41.844062  175.930000  176.025700   \n",
       "33  1438604100     175.93     175.91  ...  31.960751  175.900556  175.991167   \n",
       "\n",
       "      trima_20    trima_30    roc_10   rocr_10    ppo_10  close_t+1  label  \n",
       "29  175.940073  175.943674  0.017052  1.000171  0.022560    175.900      0  \n",
       "30  175.959305  175.938948 -0.028360  0.999716  0.027916    175.910      1  \n",
       "31  175.977583  175.937889 -0.039777  0.999602  0.034621    175.930      1  \n",
       "32  175.993225  175.940080 -0.062486  0.999375  0.037833    175.755      0  \n",
       "33  176.003039  175.942415 -0.162462  0.998375  0.032753    175.770      1  \n",
       "\n",
       "[5 rows x 35 columns]"
      ]
     },
     "execution_count": 32,
     "metadata": {},
     "output_type": "execute_result"
    }
   ],
   "source": [
    "def set_label(row):\n",
    "    if row['close_t+1'] > row['close']: return 1\n",
    "    else: return 0\n",
    "\n",
    "# One minute ahead closing price\n",
    "df['close_t+1']=df['close'].shift(-1)\n",
    "\n",
    "# Creating label/y to be predicted / independent (predicted) feature 'y' \n",
    "df['label'] = df.apply(set_label, axis=1)\n",
    "# df.drop(columns=['n_row', 'new_switch', 'cur_switch', 'current_model_id', 'new_model_id', \n",
    "#                  'weights', 'ts', 'ret_ts', 'ts_n1_pre', 'ts_n2_pre', 'ts_n1_post', 'ts_n2_post'], inplace=True)\n",
    "df.dropna(inplace=True)\n",
    "df.head()"
   ]
  },
  {
   "cell_type": "code",
   "execution_count": 33,
   "metadata": {
    "pycharm": {
     "is_executing": false
    }
   },
   "outputs": [
    {
     "name": "stdout",
     "output_type": "stream",
     "text": [
      "Class distribution: \n",
      "0 in 0.5082872928176796%\n",
      "1 in 0.49171270718232046%\n"
     ]
    },
    {
     "data": {
      "application/javascript": [
       "$(document).ready(\n",
       "    function() {\n",
       "        function appendUniqueDiv(){\n",
       "            // append a div with our uuid so we can check that it's already\n",
       "            // been sent and avoid duplicates on page reload\n",
       "            var notifiedDiv = document.createElement(\"div\")\n",
       "            notifiedDiv.id = \"f94b1aa6-322a-4f67-9eb4-2e1efa90a68b\"\n",
       "            element.append(notifiedDiv)\n",
       "        }\n",
       "\n",
       "        // only send notifications if the pageload is complete; this will\n",
       "        // help stop extra notifications when a saved notebook is loaded,\n",
       "        // which during testing gives us state \"interactive\", not \"complete\"\n",
       "        if (document.readyState === 'complete') {\n",
       "            // check for the div that signifies that the notification\n",
       "            // was already sent\n",
       "            if (document.getElementById(\"f94b1aa6-322a-4f67-9eb4-2e1efa90a68b\") === null) {\n",
       "                var notificationPayload = {\"requireInteraction\": false, \"icon\": \"/static/base/images/favicon.ico\", \"body\": \"Parsing is finished\"};\n",
       "                if (Notification.permission !== 'denied') {\n",
       "                    if (Notification.permission !== 'granted') { \n",
       "                        Notification.requestPermission(function (permission) {\n",
       "                            if(!('permission' in Notification)) {\n",
       "                                Notification.permission = permission\n",
       "                            }\n",
       "                        })\n",
       "                    }\n",
       "                    if (Notification.permission === 'granted') {\n",
       "                    var notification = new Notification(\"Jupyter Notebook\", notificationPayload)\n",
       "                    appendUniqueDiv()\n",
       "                    notification.onclick = function () {\n",
       "                        window.focus();\n",
       "                        this.close();\n",
       "                        };\n",
       "                    } \n",
       "                }     \n",
       "            }\n",
       "        }\n",
       "    }\n",
       ")\n"
      ],
      "text/plain": [
       "<IPython.core.display.Javascript object>"
      ]
     },
     "metadata": {},
     "output_type": "display_data"
    }
   ],
   "source": [
    "# Select columns for output\n",
    "columns_selected=[\n",
    "                 'rsi_10' ,'mom_10','ema_10','ema_20','ema_30',\n",
    "                 'sma_10','sma_20','sma_30','wma_10','wma_20','wma_30',\n",
    "                 'trima_10','trima_20','trima_30',\n",
    "                 'roc_10','rocr_10','ppo_10',\n",
    "                 'close','close_t-1','close_t-2','close_t-3','close_t-4',\n",
    "                 'label']\n",
    "\n",
    "# Export processed data\n",
    "output = pd.DataFrame(df, columns=columns_selected)\n",
    "output.to_csv(RESULT_FILEPATH_PROCESSED, sep=';', encoding='utf-8', index = False)\n",
    "\n",
    "# Printing classes distributions\n",
    "print(\"Class distribution: \")\n",
    "label_zero=len(df[df['label'] == 0])\n",
    "label_one=len(df[df['label'] == 1])\n",
    "#print(label_zero)\n",
    "#print(label_one)\n",
    "print(\"0 in \"+str(float(label_zero)/(label_one+label_zero))+\"%\")\n",
    "print(\"1 in \"+str(float(label_one)/(label_one+label_zero))+\"%\")\n",
    "\n",
    "%notify -m \"Parsing is finished\""
   ]
  },
  {
   "cell_type": "code",
   "execution_count": 34,
   "metadata": {
    "pycharm": {
     "is_executing": false
    }
   },
   "outputs": [
    {
     "data": {
      "image/png": "[encoded data removed]",
      "text/plain": [
       "<Figure size 432x288 with 1 Axes>"
      ]
     },
     "metadata": {
      "needs_background": "light"
     },
     "output_type": "display_data"
    }
   ],
   "source": [
    "# Now plot close price and volume overtime.\n",
    "import matplotlib.pyplot as plt\n",
    "import pandas as pd\n",
    "\n",
    "df.plot(y=[\"close_t-1\"])\n",
    "plt.show()"
   ]
  },
  {
   "cell_type": "code",
   "execution_count": null,
   "metadata": {
    "pycharm": {
     "is_executing": false
    }
   },
   "outputs": [],
   "source": []
  },
  {
   "cell_type": "code",
   "execution_count": null,
   "metadata": {
    "pycharm": {
     "is_executing": false
    }
   },
   "outputs": [],
   "source": []
  },
  {
   "cell_type": "code",
   "execution_count": null,
   "metadata": {},
   "outputs": [],
   "source": []
  }
 ],
 "metadata": {
  "kernelspec": {
   "display_name": "Python 3",
   "language": "python",
   "name": "python3"
  },
  "language_info": {
   "codemirror_mode": {
    "name": "ipython",
    "version": 3
   },
   "file_extension": ".py",
   "mimetype": "text/x-python",
   "name": "python",
   "nbconvert_exporter": "python",
   "pygments_lexer": "ipython3",
   "version": "3.7.3"
  },
  "pycharm": {
   "stem_cell": {
    "cell_type": "raw",
    "metadata": {
     "collapsed": false
    },
    "source": []
   }
  }
 },
 "nbformat": 4,
 "nbformat_minor": 2
}
