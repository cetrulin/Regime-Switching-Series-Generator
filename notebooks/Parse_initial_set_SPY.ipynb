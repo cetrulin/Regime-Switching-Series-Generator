{
 "cells": [
  {
   "cell_type": "code",
   "execution_count": 1,
   "metadata": {},
   "outputs": [],
   "source": [
    "import os\n",
    "import pandas as pd"
   ]
  },
  {
   "cell_type": "code",
   "execution_count": 16,
   "metadata": {},
   "outputs": [],
   "source": [
    "def get_fullpath(filename: str):\n",
    "    return os.sep.join(['C:','Users','suare','data', 'raw', 'quantquote', 'minutes', filename])\n",
    "\n",
    "file = 'spy_historical.csv'\n",
    "# filepath = os.sep.join(['C:','Users','suare','data', 'raw', 'quantquote', 'minutes', file])\n",
    "filepath = get_fullpath(file)"
   ]
  },
  {
   "cell_type": "code",
   "execution_count": 17,
   "metadata": {},
   "outputs": [
    {
     "data": {
      "text/html": [
       "<div>\n",
       "<style scoped>\n",
       "    .dataframe tbody tr th:only-of-type {\n",
       "        vertical-align: middle;\n",
       "    }\n",
       "\n",
       "    .dataframe tbody tr th {\n",
       "        vertical-align: top;\n",
       "    }\n",
       "\n",
       "    .dataframe thead th {\n",
       "        text-align: right;\n",
       "    }\n",
       "</style>\n",
       "<table border=\"1\" class=\"dataframe\">\n",
       "  <thead>\n",
       "    <tr style=\"text-align: right;\">\n",
       "      <th></th>\n",
       "      <th>date</th>\n",
       "      <th>time</th>\n",
       "      <th>open</th>\n",
       "      <th>high</th>\n",
       "      <th>low</th>\n",
       "      <th>close</th>\n",
       "      <th>volume</th>\n",
       "    </tr>\n",
       "  </thead>\n",
       "  <tbody>\n",
       "    <tr>\n",
       "      <th>0</th>\n",
       "      <td>19980102</td>\n",
       "      <td>931</td>\n",
       "      <td>64.9236</td>\n",
       "      <td>64.9236</td>\n",
       "      <td>64.9236</td>\n",
       "      <td>64.9236</td>\n",
       "      <td>97424.60</td>\n",
       "    </tr>\n",
       "    <tr>\n",
       "      <th>1</th>\n",
       "      <td>19980102</td>\n",
       "      <td>932</td>\n",
       "      <td>65.0103</td>\n",
       "      <td>65.0103</td>\n",
       "      <td>64.9236</td>\n",
       "      <td>64.9436</td>\n",
       "      <td>31325.70</td>\n",
       "    </tr>\n",
       "    <tr>\n",
       "      <th>2</th>\n",
       "      <td>19980102</td>\n",
       "      <td>933</td>\n",
       "      <td>65.0503</td>\n",
       "      <td>65.0503</td>\n",
       "      <td>64.9436</td>\n",
       "      <td>65.0303</td>\n",
       "      <td>32075.20</td>\n",
       "    </tr>\n",
       "    <tr>\n",
       "      <th>3</th>\n",
       "      <td>19980102</td>\n",
       "      <td>934</td>\n",
       "      <td>64.9703</td>\n",
       "      <td>64.9703</td>\n",
       "      <td>64.9703</td>\n",
       "      <td>64.9703</td>\n",
       "      <td>1498.84</td>\n",
       "    </tr>\n",
       "    <tr>\n",
       "      <th>4</th>\n",
       "      <td>19980102</td>\n",
       "      <td>935</td>\n",
       "      <td>65.0170</td>\n",
       "      <td>65.0303</td>\n",
       "      <td>64.9703</td>\n",
       "      <td>64.9703</td>\n",
       "      <td>17536.40</td>\n",
       "    </tr>\n",
       "  </tbody>\n",
       "</table>\n",
       "</div>"
      ],
      "text/plain": [
       "       date  time     open     high      low    close    volume\n",
       "0  19980102   931  64.9236  64.9236  64.9236  64.9236  97424.60\n",
       "1  19980102   932  65.0103  65.0103  64.9236  64.9436  31325.70\n",
       "2  19980102   933  65.0503  65.0503  64.9436  65.0303  32075.20\n",
       "3  19980102   934  64.9703  64.9703  64.9703  64.9703   1498.84\n",
       "4  19980102   935  65.0170  65.0303  64.9703  64.9703  17536.40"
      ]
     },
     "execution_count": 17,
     "metadata": {},
     "output_type": "execute_result"
    }
   ],
   "source": [
    "df = pd.read_csv(filepath)\n",
    "df.drop(columns=['splits', 'earnings', 'dividends'], errors='ignore', inplace=True)\n",
    "df.head()"
   ]
  },
  {
   "cell_type": "markdown",
   "metadata": {},
   "source": [
    "# 1. Let's split the set in Mahab, Dev and Train sets."
   ]
  },
  {
   "cell_type": "code",
   "execution_count": 5,
   "metadata": {},
   "outputs": [],
   "source": [
    "mahab_years = ['2008', '2009']  # add years as str\n",
    "mahab_subset_df = df[df.date.astype(str).str[:4].isin(mahab_years)]\n",
    "\n",
    "mahab_months = dict() # one pos per state\n",
    "mahab_months['state_1'] = ['200810','200811','200812'] # bear trend Q4 2008\n",
    "mahab_months['state_2'] = ['200904','200905','200906'] # bull trend Q2 2009 \n",
    "mahab_months['state_3'] = ['200910','200911','200912'] # lateral trend Q4 2009\n",
    "\n",
    "mahab_state_dfs = dict() # one df per state\n",
    "for state, months in mahab_months.items():\n",
    "    mahab_state_dfs[state] = \\\n",
    "        mahab_subset_df[mahab_subset_df.date.astype(str).str[:6].isin(mahab_months[state])]\n",
    "    mahab_state_dfs[state].to_csv(get_fullpath(f'spy_mahab_{state}.csv'), index=False)"
   ]
  },
  {
   "cell_type": "code",
   "execution_count": 23,
   "metadata": {},
   "outputs": [],
   "source": [
    "devset_years = ['2010']  # add years as str\n",
    "devset_subset_df = df[df.date.astype(str).str[:4].isin(devset_years)]\n",
    "devset_subset_df.to_csv(get_fullpath(f'spy_devset_{\"-\".join(devset_years)}.csv'), index=False)"
   ]
  },
  {
   "cell_type": "code",
   "execution_count": 22,
   "metadata": {},
   "outputs": [],
   "source": [
    "from_yr = 2011  # as int\n",
    "to_yr = 2020    # as int\n",
    "trainset_years = list(pd.Series(range(from_yr, to_yr + 1, 1)).astype(str))  # add years as str\n",
    "trainset_subset_df = df[df.date.astype(str).str[:4].isin(trainset_years)]\n",
    "trainset_subset_df.to_csv(get_fullpath(f'spy_trainset_{from_yr}-{to_yr}.csv'), index=False)"
   ]
  },
  {
   "cell_type": "code",
   "execution_count": 20,
   "metadata": {},
   "outputs": [
    {
     "data": {
      "text/html": [
       "<div>\n",
       "<style scoped>\n",
       "    .dataframe tbody tr th:only-of-type {\n",
       "        vertical-align: middle;\n",
       "    }\n",
       "\n",
       "    .dataframe tbody tr th {\n",
       "        vertical-align: top;\n",
       "    }\n",
       "\n",
       "    .dataframe thead th {\n",
       "        text-align: right;\n",
       "    }\n",
       "</style>\n",
       "<table border=\"1\" class=\"dataframe\">\n",
       "  <thead>\n",
       "    <tr style=\"text-align: right;\">\n",
       "      <th></th>\n",
       "      <th>date</th>\n",
       "      <th>time</th>\n",
       "      <th>open</th>\n",
       "      <th>high</th>\n",
       "      <th>low</th>\n",
       "      <th>close</th>\n",
       "      <th>volume</th>\n",
       "    </tr>\n",
       "  </thead>\n",
       "  <tbody>\n",
       "    <tr>\n",
       "      <th>1245406</th>\n",
       "      <td>20110103</td>\n",
       "      <td>930</td>\n",
       "      <td>105.114</td>\n",
       "      <td>105.138</td>\n",
       "      <td>105.072</td>\n",
       "      <td>105.122</td>\n",
       "      <td>3538420.0</td>\n",
       "    </tr>\n",
       "    <tr>\n",
       "      <th>1245407</th>\n",
       "      <td>20110103</td>\n",
       "      <td>931</td>\n",
       "      <td>105.122</td>\n",
       "      <td>105.180</td>\n",
       "      <td>105.097</td>\n",
       "      <td>105.180</td>\n",
       "      <td>1039570.0</td>\n",
       "    </tr>\n",
       "    <tr>\n",
       "      <th>1245408</th>\n",
       "      <td>20110103</td>\n",
       "      <td>932</td>\n",
       "      <td>105.180</td>\n",
       "      <td>105.197</td>\n",
       "      <td>105.130</td>\n",
       "      <td>105.147</td>\n",
       "      <td>727576.0</td>\n",
       "    </tr>\n",
       "    <tr>\n",
       "      <th>1245409</th>\n",
       "      <td>20110103</td>\n",
       "      <td>933</td>\n",
       "      <td>105.147</td>\n",
       "      <td>105.188</td>\n",
       "      <td>105.130</td>\n",
       "      <td>105.138</td>\n",
       "      <td>554285.0</td>\n",
       "    </tr>\n",
       "    <tr>\n",
       "      <th>1245410</th>\n",
       "      <td>20110103</td>\n",
       "      <td>934</td>\n",
       "      <td>105.138</td>\n",
       "      <td>105.155</td>\n",
       "      <td>105.130</td>\n",
       "      <td>105.155</td>\n",
       "      <td>751152.0</td>\n",
       "    </tr>\n",
       "  </tbody>\n",
       "</table>\n",
       "</div>"
      ],
      "text/plain": [
       "             date  time     open     high      low    close     volume\n",
       "1245406  20110103   930  105.114  105.138  105.072  105.122  3538420.0\n",
       "1245407  20110103   931  105.122  105.180  105.097  105.180  1039570.0\n",
       "1245408  20110103   932  105.180  105.197  105.130  105.147   727576.0\n",
       "1245409  20110103   933  105.147  105.188  105.130  105.138   554285.0\n",
       "1245410  20110103   934  105.138  105.155  105.130  105.155   751152.0"
      ]
     },
     "execution_count": 20,
     "metadata": {},
     "output_type": "execute_result"
    }
   ],
   "source": [
    "trainset_subset_df.head()"
   ]
  },
  {
   "cell_type": "code",
   "execution_count": null,
   "metadata": {},
   "outputs": [],
   "source": []
  }
 ],
 "metadata": {
  "kernelspec": {
   "display_name": "Python 3",
   "language": "python",
   "name": "python3"
  },
  "language_info": {
   "codemirror_mode": {
    "name": "ipython",
    "version": 3
   },
   "file_extension": ".py",
   "mimetype": "text/x-python",
   "name": "python",
   "nbconvert_exporter": "python",
   "pygments_lexer": "ipython3",
   "version": "3.7.3"
  }
 },
 "nbformat": 4,
 "nbformat_minor": 2
}
