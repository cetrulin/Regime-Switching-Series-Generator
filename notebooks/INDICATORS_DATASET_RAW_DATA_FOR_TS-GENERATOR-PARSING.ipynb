{
 "cells": [
  {
   "cell_type": "code",
   "execution_count": 1,
   "metadata": {
    "pycharm": {
     "is_executing": false
    }
   },
   "outputs": [
    {
     "data": {
      "application/javascript": [
       "if (!(\"Notification\" in window)) {\n",
       "    alert(\"This browser does not support desktop notifications, so the %%notify magic will not work.\");\n",
       "} else if (Notification.permission !== 'granted' && Notification.permission !== 'denied') {\n",
       "    Notification.requestPermission(function (permission) {\n",
       "        if(!('permission' in Notification)) {\n",
       "            Notification.permission = permission;\n",
       "        }\n",
       "    })\n",
       "}\n"
      ],
      "text/plain": [
       "<IPython.core.display.Javascript object>"
      ]
     },
     "metadata": {},
     "output_type": "display_data"
    }
   ],
   "source": [
    "# Data preparation for Ph.D thesis\n",
    "# @author: Andres L. Suarez-Cetrulo\n",
    "%config IPCompleter.greedy=True\n",
    "%load_ext jupyternotify\n",
    "%matplotlib inline"
   ]
  },
  {
   "cell_type": "code",
   "execution_count": 2,
   "metadata": {
    "pycharm": {
     "is_executing": false
    }
   },
   "outputs": [],
   "source": [
    "# Imports\n",
    "import pandas as pd\n",
    "import numpy as np\n",
    "import datetime\n",
    "from pathlib import Path\n",
    "import os\n",
    "\n",
    "# Using TALib abstract API to create a dictionary of technical indicators to iterate later.\n",
    "from talib import abstract"
   ]
  },
  {
   "cell_type": "code",
   "execution_count": 3,
   "metadata": {
    "pycharm": {
     "is_executing": false
    }
   },
   "outputs": [],
   "source": [
    "# Creating a dictionary of technical indicators using TALib abstract API\n",
    "indicators = ['sma','ema','wma','mom','stoch','macd' ,'rsi' ,'willr',\n",
    "              'adosc' ,'cci','adx','aroon' ,'bbands','obv' ,'trima',\n",
    "              'roc' ,'rocr','stochf','medprice','typprice','wclprice',\n",
    "              'atr','macdfix','mfi' ,'sar' ,'ppo']\n",
    "\n",
    "def get_indicator(ind: str):\n",
    "    return abstract.Function(ind)\n",
    "\n",
    "# Add as many indicators as necessary: see all indicators in https://mrjbq7.github.io/ta-lib/"
   ]
  },
  {
   "cell_type": "code",
   "execution_count": 4,
   "metadata": {
    "pycharm": {
     "is_executing": false
    }
   },
   "outputs": [],
   "source": [
    "# Paths for symbols (not eft)\n",
    "DATA_PATH=os.sep.join(['C:','Users','suare','PycharmProjects','RegimeSwitchingSeriesGenerator','data'])\n",
    "# '/Users/asuarez/Downloads'\n",
    "SOURCE_PATH=DATA_PATH # +'raw\\\\alpha_vantage\\\\S&P500\\\\symbols\\\\AAPL\\\\'  # 'raw/alpha_vantage/'\n",
    "RESULT_PATH=os.sep.join(['C:','Users','suare','PycharmProjects','RegimeSwitchingSeriesGenerator','output']) # +'analysis\\\\'+SYMBOL.lower()+'\\\\'\n",
    "\n",
    "# List of dates for files to be loaded\n",
    "raw_datasets = ['aapl\\\\APPLE_[2018-08-01_to_2018-09-11]_5min.csv',\n",
    "                  'btc\\\\BITCOIN_[2019-07-01_to_2019-07-15]_5min.csv',\n",
    "                  'xrp\\\\RIPPLE_[2019-07-01_to_2019-08-01]_5min.csv',\n",
    "                  'efts\\\\5min-level\\\\DOWJONES\\\\DOWJONES_[2015-08-01_to_2015-08-31]_market_hours.csv']\n",
    "    \n",
    "filename = raw_datasets[0] # 'timeseries_created_21-10-2019' # 'timeseries_created_1571527428'\n",
    "FIELD = 'close' # price->'ts' returns->'ret_ts' ts_with_added_noise-> 'ts_n2_post'\n",
    "\n",
    "file = os.sep.join([SOURCE_PATH, filename])\n",
    "RESULT_FILEPATH_PROCESSED = os.sep.join([RESULT_PATH, filename.split(os.sep)[-1].replace('.csv','')+'_indicators_best.csv'])"
   ]
  },
  {
   "cell_type": "code",
   "execution_count": 5,
   "metadata": {
    "pycharm": {
     "is_executing": false
    }
   },
   "outputs": [
    {
     "name": "stdout",
     "output_type": "stream",
     "text": [
      "              datetime   close    high     low     open\n",
      "0  2018-08-01 09:30:00  198.38  199.25  197.35  199.145\n",
      "1  2018-08-01 09:35:00  198.60  199.00  198.07  198.500\n",
      "2  2018-08-01 09:40:00  197.88  198.56  197.56  198.560\n",
      "3  2018-08-01 09:45:00  197.95  198.21  197.79  198.025\n",
      "4  2018-08-01 09:50:00  198.37  198.51  197.77  198.010\n"
     ]
    },
    {
     "data": {
      "text/plain": [
       "0    198.38\n",
       "1    198.60\n",
       "2    197.88\n",
       "3    197.95\n",
       "4    198.37\n",
       "Name: close, dtype: float64"
      ]
     },
     "execution_count": 5,
     "metadata": {},
     "output_type": "execute_result"
    }
   ],
   "source": [
    "# Open file\n",
    "df=pd.read_csv(file, sep=';')\n",
    "print(df.head())\n",
    "\n",
    "df['close'] = df[FIELD]\n",
    "df.close.head()"
   ]
  },
  {
   "cell_type": "code",
   "execution_count": 6,
   "metadata": {
    "pycharm": {
     "is_executing": false
    }
   },
   "outputs": [
    {
     "data": {
      "text/html": [
       "<div>\n",
       "<style scoped>\n",
       "    .dataframe tbody tr th:only-of-type {\n",
       "        vertical-align: middle;\n",
       "    }\n",
       "\n",
       "    .dataframe tbody tr th {\n",
       "        vertical-align: top;\n",
       "    }\n",
       "\n",
       "    .dataframe thead th {\n",
       "        text-align: right;\n",
       "    }\n",
       "</style>\n",
       "<table border=\"1\" class=\"dataframe\">\n",
       "  <thead>\n",
       "    <tr style=\"text-align: right;\">\n",
       "      <th></th>\n",
       "      <th>datetime</th>\n",
       "      <th>close</th>\n",
       "      <th>high</th>\n",
       "      <th>low</th>\n",
       "      <th>open</th>\n",
       "      <th>close_t-1</th>\n",
       "      <th>close_t-2</th>\n",
       "      <th>close_t-3</th>\n",
       "      <th>close_t-4</th>\n",
       "      <th>open_t-1</th>\n",
       "      <th>...</th>\n",
       "      <th>open_t-3</th>\n",
       "      <th>open_t-4</th>\n",
       "      <th>high_t-1</th>\n",
       "      <th>high_t-2</th>\n",
       "      <th>high_t-3</th>\n",
       "      <th>high_t-4</th>\n",
       "      <th>low_t-1</th>\n",
       "      <th>low_t-2</th>\n",
       "      <th>low_t-3</th>\n",
       "      <th>low_t-4</th>\n",
       "    </tr>\n",
       "  </thead>\n",
       "  <tbody>\n",
       "    <tr>\n",
       "      <th>0</th>\n",
       "      <td>2018-08-01 09:30:00</td>\n",
       "      <td>198.38</td>\n",
       "      <td>199.25</td>\n",
       "      <td>197.35</td>\n",
       "      <td>199.145</td>\n",
       "      <td>NaN</td>\n",
       "      <td>NaN</td>\n",
       "      <td>NaN</td>\n",
       "      <td>NaN</td>\n",
       "      <td>NaN</td>\n",
       "      <td>...</td>\n",
       "      <td>NaN</td>\n",
       "      <td>NaN</td>\n",
       "      <td>NaN</td>\n",
       "      <td>NaN</td>\n",
       "      <td>NaN</td>\n",
       "      <td>NaN</td>\n",
       "      <td>NaN</td>\n",
       "      <td>NaN</td>\n",
       "      <td>NaN</td>\n",
       "      <td>NaN</td>\n",
       "    </tr>\n",
       "    <tr>\n",
       "      <th>1</th>\n",
       "      <td>2018-08-01 09:35:00</td>\n",
       "      <td>198.60</td>\n",
       "      <td>199.00</td>\n",
       "      <td>198.07</td>\n",
       "      <td>198.500</td>\n",
       "      <td>198.38</td>\n",
       "      <td>NaN</td>\n",
       "      <td>NaN</td>\n",
       "      <td>NaN</td>\n",
       "      <td>199.145</td>\n",
       "      <td>...</td>\n",
       "      <td>NaN</td>\n",
       "      <td>NaN</td>\n",
       "      <td>199.25</td>\n",
       "      <td>NaN</td>\n",
       "      <td>NaN</td>\n",
       "      <td>NaN</td>\n",
       "      <td>197.35</td>\n",
       "      <td>NaN</td>\n",
       "      <td>NaN</td>\n",
       "      <td>NaN</td>\n",
       "    </tr>\n",
       "    <tr>\n",
       "      <th>2</th>\n",
       "      <td>2018-08-01 09:40:00</td>\n",
       "      <td>197.88</td>\n",
       "      <td>198.56</td>\n",
       "      <td>197.56</td>\n",
       "      <td>198.560</td>\n",
       "      <td>198.60</td>\n",
       "      <td>198.38</td>\n",
       "      <td>NaN</td>\n",
       "      <td>NaN</td>\n",
       "      <td>198.500</td>\n",
       "      <td>...</td>\n",
       "      <td>NaN</td>\n",
       "      <td>NaN</td>\n",
       "      <td>199.00</td>\n",
       "      <td>199.25</td>\n",
       "      <td>NaN</td>\n",
       "      <td>NaN</td>\n",
       "      <td>198.07</td>\n",
       "      <td>197.35</td>\n",
       "      <td>NaN</td>\n",
       "      <td>NaN</td>\n",
       "    </tr>\n",
       "    <tr>\n",
       "      <th>3</th>\n",
       "      <td>2018-08-01 09:45:00</td>\n",
       "      <td>197.95</td>\n",
       "      <td>198.21</td>\n",
       "      <td>197.79</td>\n",
       "      <td>198.025</td>\n",
       "      <td>197.88</td>\n",
       "      <td>198.60</td>\n",
       "      <td>198.38</td>\n",
       "      <td>NaN</td>\n",
       "      <td>198.560</td>\n",
       "      <td>...</td>\n",
       "      <td>199.145</td>\n",
       "      <td>NaN</td>\n",
       "      <td>198.56</td>\n",
       "      <td>199.00</td>\n",
       "      <td>199.25</td>\n",
       "      <td>NaN</td>\n",
       "      <td>197.56</td>\n",
       "      <td>198.07</td>\n",
       "      <td>197.35</td>\n",
       "      <td>NaN</td>\n",
       "    </tr>\n",
       "    <tr>\n",
       "      <th>4</th>\n",
       "      <td>2018-08-01 09:50:00</td>\n",
       "      <td>198.37</td>\n",
       "      <td>198.51</td>\n",
       "      <td>197.77</td>\n",
       "      <td>198.010</td>\n",
       "      <td>197.95</td>\n",
       "      <td>197.88</td>\n",
       "      <td>198.60</td>\n",
       "      <td>198.38</td>\n",
       "      <td>198.025</td>\n",
       "      <td>...</td>\n",
       "      <td>198.500</td>\n",
       "      <td>199.145</td>\n",
       "      <td>198.21</td>\n",
       "      <td>198.56</td>\n",
       "      <td>199.00</td>\n",
       "      <td>199.25</td>\n",
       "      <td>197.79</td>\n",
       "      <td>197.56</td>\n",
       "      <td>198.07</td>\n",
       "      <td>197.35</td>\n",
       "    </tr>\n",
       "  </tbody>\n",
       "</table>\n",
       "<p>5 rows × 21 columns</p>\n",
       "</div>"
      ],
      "text/plain": [
       "              datetime   close    high     low     open  close_t-1  close_t-2  \\\n",
       "0  2018-08-01 09:30:00  198.38  199.25  197.35  199.145        NaN        NaN   \n",
       "1  2018-08-01 09:35:00  198.60  199.00  198.07  198.500     198.38        NaN   \n",
       "2  2018-08-01 09:40:00  197.88  198.56  197.56  198.560     198.60     198.38   \n",
       "3  2018-08-01 09:45:00  197.95  198.21  197.79  198.025     197.88     198.60   \n",
       "4  2018-08-01 09:50:00  198.37  198.51  197.77  198.010     197.95     197.88   \n",
       "\n",
       "   close_t-3  close_t-4  open_t-1  ...  open_t-3  open_t-4  high_t-1  \\\n",
       "0        NaN        NaN       NaN  ...       NaN       NaN       NaN   \n",
       "1        NaN        NaN   199.145  ...       NaN       NaN    199.25   \n",
       "2        NaN        NaN   198.500  ...       NaN       NaN    199.00   \n",
       "3     198.38        NaN   198.560  ...   199.145       NaN    198.56   \n",
       "4     198.60     198.38   198.025  ...   198.500   199.145    198.21   \n",
       "\n",
       "   high_t-2  high_t-3  high_t-4  low_t-1  low_t-2  low_t-3  low_t-4  \n",
       "0       NaN       NaN       NaN      NaN      NaN      NaN      NaN  \n",
       "1       NaN       NaN       NaN   197.35      NaN      NaN      NaN  \n",
       "2    199.25       NaN       NaN   198.07   197.35      NaN      NaN  \n",
       "3    199.00    199.25       NaN   197.56   198.07   197.35      NaN  \n",
       "4    198.56    199.00    199.25   197.79   197.56   198.07   197.35  \n",
       "\n",
       "[5 rows x 21 columns]"
      ]
     },
     "execution_count": 6,
     "metadata": {},
     "output_type": "execute_result"
    }
   ],
   "source": [
    "#Add parameters to transform in TS\n",
    "timeseries=['close', 'open', 'high', 'low']\n",
    "#Length of the TS. How many values do we keep per serie. \n",
    "# e.g. 1 -> t / 2 -> t,t-1 / 3 -> t,t-1,t-2 / 4 -> t,t-1,t-2,t-3\n",
    "length = 5\n",
    "\n",
    "# Add lagged times\n",
    "for column in timeseries:\n",
    "    #df[column+'_t']=df[column]\n",
    "    for i in range(1,length):\n",
    "        df[column+'_t-'+str(i)]=df[column].shift(i) #it could also be sorted and group by if needed\n",
    "    #del drops the delected df column\n",
    "    #del df[column]\n",
    "df.head()"
   ]
  },
  {
   "cell_type": "code",
   "execution_count": 7,
   "metadata": {
    "pycharm": {
     "is_executing": true
    }
   },
   "outputs": [
    {
     "data": {
      "text/html": [
       "<div>\n",
       "<style scoped>\n",
       "    .dataframe tbody tr th:only-of-type {\n",
       "        vertical-align: middle;\n",
       "    }\n",
       "\n",
       "    .dataframe tbody tr th {\n",
       "        vertical-align: top;\n",
       "    }\n",
       "\n",
       "    .dataframe thead th {\n",
       "        text-align: right;\n",
       "    }\n",
       "</style>\n",
       "<table border=\"1\" class=\"dataframe\">\n",
       "  <thead>\n",
       "    <tr style=\"text-align: right;\">\n",
       "      <th></th>\n",
       "      <th>datetime</th>\n",
       "      <th>close</th>\n",
       "      <th>high</th>\n",
       "      <th>low</th>\n",
       "      <th>open</th>\n",
       "      <th>close_t-1</th>\n",
       "      <th>close_t-2</th>\n",
       "      <th>close_t-3</th>\n",
       "      <th>close_t-4</th>\n",
       "      <th>open_t-1</th>\n",
       "      <th>...</th>\n",
       "      <th>stochf_fastd</th>\n",
       "      <th>medprice_10</th>\n",
       "      <th>typprice_10</th>\n",
       "      <th>wclprice_10</th>\n",
       "      <th>atr_10</th>\n",
       "      <th>macdfix_macd</th>\n",
       "      <th>macdfix_macdsignal</th>\n",
       "      <th>macdfix_macdhist</th>\n",
       "      <th>sar_10</th>\n",
       "      <th>ppo_10</th>\n",
       "    </tr>\n",
       "  </thead>\n",
       "  <tbody>\n",
       "    <tr>\n",
       "      <th>0</th>\n",
       "      <td>2018-08-01 09:30:00</td>\n",
       "      <td>198.38</td>\n",
       "      <td>199.25</td>\n",
       "      <td>197.35</td>\n",
       "      <td>199.145</td>\n",
       "      <td>NaN</td>\n",
       "      <td>NaN</td>\n",
       "      <td>NaN</td>\n",
       "      <td>NaN</td>\n",
       "      <td>NaN</td>\n",
       "      <td>...</td>\n",
       "      <td>NaN</td>\n",
       "      <td>198.300</td>\n",
       "      <td>198.326667</td>\n",
       "      <td>198.3400</td>\n",
       "      <td>NaN</td>\n",
       "      <td>NaN</td>\n",
       "      <td>NaN</td>\n",
       "      <td>NaN</td>\n",
       "      <td>NaN</td>\n",
       "      <td>NaN</td>\n",
       "    </tr>\n",
       "    <tr>\n",
       "      <th>1</th>\n",
       "      <td>2018-08-01 09:35:00</td>\n",
       "      <td>198.60</td>\n",
       "      <td>199.00</td>\n",
       "      <td>198.07</td>\n",
       "      <td>198.500</td>\n",
       "      <td>198.38</td>\n",
       "      <td>NaN</td>\n",
       "      <td>NaN</td>\n",
       "      <td>NaN</td>\n",
       "      <td>199.145</td>\n",
       "      <td>...</td>\n",
       "      <td>NaN</td>\n",
       "      <td>198.535</td>\n",
       "      <td>198.556667</td>\n",
       "      <td>198.5675</td>\n",
       "      <td>NaN</td>\n",
       "      <td>NaN</td>\n",
       "      <td>NaN</td>\n",
       "      <td>NaN</td>\n",
       "      <td>197.350000</td>\n",
       "      <td>NaN</td>\n",
       "    </tr>\n",
       "    <tr>\n",
       "      <th>2</th>\n",
       "      <td>2018-08-01 09:40:00</td>\n",
       "      <td>197.88</td>\n",
       "      <td>198.56</td>\n",
       "      <td>197.56</td>\n",
       "      <td>198.560</td>\n",
       "      <td>198.60</td>\n",
       "      <td>198.38</td>\n",
       "      <td>NaN</td>\n",
       "      <td>NaN</td>\n",
       "      <td>198.500</td>\n",
       "      <td>...</td>\n",
       "      <td>NaN</td>\n",
       "      <td>198.060</td>\n",
       "      <td>198.000000</td>\n",
       "      <td>197.9700</td>\n",
       "      <td>NaN</td>\n",
       "      <td>NaN</td>\n",
       "      <td>NaN</td>\n",
       "      <td>NaN</td>\n",
       "      <td>197.383000</td>\n",
       "      <td>NaN</td>\n",
       "    </tr>\n",
       "    <tr>\n",
       "      <th>3</th>\n",
       "      <td>2018-08-01 09:45:00</td>\n",
       "      <td>197.95</td>\n",
       "      <td>198.21</td>\n",
       "      <td>197.79</td>\n",
       "      <td>198.025</td>\n",
       "      <td>197.88</td>\n",
       "      <td>198.60</td>\n",
       "      <td>198.38</td>\n",
       "      <td>NaN</td>\n",
       "      <td>198.560</td>\n",
       "      <td>...</td>\n",
       "      <td>NaN</td>\n",
       "      <td>198.000</td>\n",
       "      <td>197.983333</td>\n",
       "      <td>197.9750</td>\n",
       "      <td>NaN</td>\n",
       "      <td>NaN</td>\n",
       "      <td>NaN</td>\n",
       "      <td>NaN</td>\n",
       "      <td>197.415340</td>\n",
       "      <td>NaN</td>\n",
       "    </tr>\n",
       "    <tr>\n",
       "      <th>4</th>\n",
       "      <td>2018-08-01 09:50:00</td>\n",
       "      <td>198.37</td>\n",
       "      <td>198.51</td>\n",
       "      <td>197.77</td>\n",
       "      <td>198.010</td>\n",
       "      <td>197.95</td>\n",
       "      <td>197.88</td>\n",
       "      <td>198.60</td>\n",
       "      <td>198.38</td>\n",
       "      <td>198.025</td>\n",
       "      <td>...</td>\n",
       "      <td>NaN</td>\n",
       "      <td>198.140</td>\n",
       "      <td>198.216667</td>\n",
       "      <td>198.2550</td>\n",
       "      <td>NaN</td>\n",
       "      <td>NaN</td>\n",
       "      <td>NaN</td>\n",
       "      <td>NaN</td>\n",
       "      <td>197.447033</td>\n",
       "      <td>NaN</td>\n",
       "    </tr>\n",
       "  </tbody>\n",
       "</table>\n",
       "<p>5 rows × 62 columns</p>\n",
       "</div>"
      ],
      "text/plain": [
       "              datetime   close    high     low     open  close_t-1  close_t-2  \\\n",
       "0  2018-08-01 09:30:00  198.38  199.25  197.35  199.145        NaN        NaN   \n",
       "1  2018-08-01 09:35:00  198.60  199.00  198.07  198.500     198.38        NaN   \n",
       "2  2018-08-01 09:40:00  197.88  198.56  197.56  198.560     198.60     198.38   \n",
       "3  2018-08-01 09:45:00  197.95  198.21  197.79  198.025     197.88     198.60   \n",
       "4  2018-08-01 09:50:00  198.37  198.51  197.77  198.010     197.95     197.88   \n",
       "\n",
       "   close_t-3  close_t-4  open_t-1  ...  stochf_fastd  medprice_10  \\\n",
       "0        NaN        NaN       NaN  ...           NaN      198.300   \n",
       "1        NaN        NaN   199.145  ...           NaN      198.535   \n",
       "2        NaN        NaN   198.500  ...           NaN      198.060   \n",
       "3     198.38        NaN   198.560  ...           NaN      198.000   \n",
       "4     198.60     198.38   198.025  ...           NaN      198.140   \n",
       "\n",
       "   typprice_10  wclprice_10  atr_10  macdfix_macd  macdfix_macdsignal  \\\n",
       "0   198.326667     198.3400     NaN           NaN                 NaN   \n",
       "1   198.556667     198.5675     NaN           NaN                 NaN   \n",
       "2   198.000000     197.9700     NaN           NaN                 NaN   \n",
       "3   197.983333     197.9750     NaN           NaN                 NaN   \n",
       "4   198.216667     198.2550     NaN           NaN                 NaN   \n",
       "\n",
       "   macdfix_macdhist      sar_10  ppo_10  \n",
       "0               NaN         NaN     NaN  \n",
       "1               NaN  197.350000     NaN  \n",
       "2               NaN  197.383000     NaN  \n",
       "3               NaN  197.415340     NaN  \n",
       "4               NaN  197.447033     NaN  \n",
       "\n",
       "[5 rows x 62 columns]"
      ]
     },
     "execution_count": 7,
     "metadata": {},
     "output_type": "execute_result"
    }
   ],
   "source": [
    "# all the numbers here and below assume a default time period for ta params of 10 mins averages\n",
    "# change the other numbers (params of 5min and 20min and theremoval of 20 first mins of the day below) if the mins number is changed.\n",
    "# in that case change as well the time tag '_10' with the corresponding one.\n",
    "default_timerange=10\n",
    "# Set extra timeranges for moving averages\n",
    "extra_timeranges=[default_timerange/2, default_timerange, default_timerange*2, default_timerange*3]\n",
    "\n",
    "# ###########################################\n",
    "# Iterate and run list of indicators selected\n",
    "# All of them produced for 25 prior mins of data \n",
    "# ###########################################\n",
    "for ind in list(indicators):\n",
    "    if ind not in ['adosc', 'obv', 'mfi']:  # avoiding indicators that need volume\n",
    "        # For indicators that only return one column (this will need to be modified depending on the selection of indicators)\n",
    "        if ind in ['ema','sma','trima']:\n",
    "            for timerange in extra_timeranges:\n",
    "                df[ind+'_'+str(int(timerange))] = get_indicator(ind)(df, timeperiod=timerange) \n",
    "        elif ind not in ['bbands','aroon','stoch','macd','macdfix','stochf']:\n",
    "            df[ind+'_'+str(int(default_timerange))] = get_indicator(ind)(df, timeperiod=(default_timerange))\n",
    "        # Otherwise check the list of columns and return all\n",
    "        else: \n",
    "            key_output=get_indicator(ind)(df, timeperiod=(default_timerange)) #, price='close')\n",
    "            for j in range(0,len(list(key_output.columns))):\n",
    "                df[ind+'_'+key_output.columns[int(j)]] = key_output[key_output.columns[j]]\n",
    "df.head()"
   ]
  },
  {
   "cell_type": "code",
   "execution_count": 8,
   "metadata": {
    "pycharm": {
     "is_executing": false
    }
   },
   "outputs": [
    {
     "data": {
      "text/html": [
       "<div>\n",
       "<style scoped>\n",
       "    .dataframe tbody tr th:only-of-type {\n",
       "        vertical-align: middle;\n",
       "    }\n",
       "\n",
       "    .dataframe tbody tr th {\n",
       "        vertical-align: top;\n",
       "    }\n",
       "\n",
       "    .dataframe thead th {\n",
       "        text-align: right;\n",
       "    }\n",
       "</style>\n",
       "<table border=\"1\" class=\"dataframe\">\n",
       "  <thead>\n",
       "    <tr style=\"text-align: right;\">\n",
       "      <th></th>\n",
       "      <th>datetime</th>\n",
       "      <th>close</th>\n",
       "      <th>high</th>\n",
       "      <th>low</th>\n",
       "      <th>open</th>\n",
       "      <th>close_t-1</th>\n",
       "      <th>close_t-2</th>\n",
       "      <th>close_t-3</th>\n",
       "      <th>close_t-4</th>\n",
       "      <th>open_t-1</th>\n",
       "      <th>...</th>\n",
       "      <th>typprice_10</th>\n",
       "      <th>wclprice_10</th>\n",
       "      <th>atr_10</th>\n",
       "      <th>macdfix_macd</th>\n",
       "      <th>macdfix_macdsignal</th>\n",
       "      <th>macdfix_macdhist</th>\n",
       "      <th>sar_10</th>\n",
       "      <th>ppo_10</th>\n",
       "      <th>close_t+1</th>\n",
       "      <th>label</th>\n",
       "    </tr>\n",
       "  </thead>\n",
       "  <tbody>\n",
       "    <tr>\n",
       "      <th>33</th>\n",
       "      <td>2018-08-01 12:15:00</td>\n",
       "      <td>200.32</td>\n",
       "      <td>200.520</td>\n",
       "      <td>200.250</td>\n",
       "      <td>200.515</td>\n",
       "      <td>200.52</td>\n",
       "      <td>200.24</td>\n",
       "      <td>200.14</td>\n",
       "      <td>199.93</td>\n",
       "      <td>200.250</td>\n",
       "      <td>...</td>\n",
       "      <td>200.363333</td>\n",
       "      <td>200.35250</td>\n",
       "      <td>0.533092</td>\n",
       "      <td>0.411862</td>\n",
       "      <td>0.579105</td>\n",
       "      <td>-0.167243</td>\n",
       "      <td>199.382900</td>\n",
       "      <td>0.030104</td>\n",
       "      <td>200.05</td>\n",
       "      <td>0</td>\n",
       "    </tr>\n",
       "    <tr>\n",
       "      <th>34</th>\n",
       "      <td>2018-08-01 12:20:00</td>\n",
       "      <td>200.05</td>\n",
       "      <td>200.300</td>\n",
       "      <td>200.000</td>\n",
       "      <td>200.300</td>\n",
       "      <td>200.32</td>\n",
       "      <td>200.52</td>\n",
       "      <td>200.24</td>\n",
       "      <td>200.14</td>\n",
       "      <td>200.515</td>\n",
       "      <td>...</td>\n",
       "      <td>200.116667</td>\n",
       "      <td>200.10000</td>\n",
       "      <td>0.511783</td>\n",
       "      <td>0.362675</td>\n",
       "      <td>0.535819</td>\n",
       "      <td>-0.173144</td>\n",
       "      <td>199.410242</td>\n",
       "      <td>-0.008517</td>\n",
       "      <td>200.01</td>\n",
       "      <td>0</td>\n",
       "    </tr>\n",
       "    <tr>\n",
       "      <th>35</th>\n",
       "      <td>2018-08-01 12:25:00</td>\n",
       "      <td>200.01</td>\n",
       "      <td>200.210</td>\n",
       "      <td>199.780</td>\n",
       "      <td>200.010</td>\n",
       "      <td>200.05</td>\n",
       "      <td>200.32</td>\n",
       "      <td>200.52</td>\n",
       "      <td>200.24</td>\n",
       "      <td>200.300</td>\n",
       "      <td>...</td>\n",
       "      <td>200.000000</td>\n",
       "      <td>200.00250</td>\n",
       "      <td>0.503605</td>\n",
       "      <td>0.316922</td>\n",
       "      <td>0.492039</td>\n",
       "      <td>-0.175118</td>\n",
       "      <td>199.437037</td>\n",
       "      <td>-0.059127</td>\n",
       "      <td>200.07</td>\n",
       "      <td>1</td>\n",
       "    </tr>\n",
       "    <tr>\n",
       "      <th>36</th>\n",
       "      <td>2018-08-01 12:30:00</td>\n",
       "      <td>200.07</td>\n",
       "      <td>200.170</td>\n",
       "      <td>199.905</td>\n",
       "      <td>199.940</td>\n",
       "      <td>200.01</td>\n",
       "      <td>200.05</td>\n",
       "      <td>200.32</td>\n",
       "      <td>200.52</td>\n",
       "      <td>200.010</td>\n",
       "      <td>...</td>\n",
       "      <td>200.048333</td>\n",
       "      <td>200.05375</td>\n",
       "      <td>0.479744</td>\n",
       "      <td>0.281883</td>\n",
       "      <td>0.450008</td>\n",
       "      <td>-0.168125</td>\n",
       "      <td>199.463296</td>\n",
       "      <td>-0.070055</td>\n",
       "      <td>200.13</td>\n",
       "      <td>1</td>\n",
       "    </tr>\n",
       "    <tr>\n",
       "      <th>37</th>\n",
       "      <td>2018-08-01 12:35:00</td>\n",
       "      <td>200.13</td>\n",
       "      <td>200.265</td>\n",
       "      <td>200.090</td>\n",
       "      <td>200.100</td>\n",
       "      <td>200.07</td>\n",
       "      <td>200.01</td>\n",
       "      <td>200.05</td>\n",
       "      <td>200.32</td>\n",
       "      <td>199.940</td>\n",
       "      <td>...</td>\n",
       "      <td>200.161667</td>\n",
       "      <td>200.15375</td>\n",
       "      <td>0.451270</td>\n",
       "      <td>0.255663</td>\n",
       "      <td>0.411139</td>\n",
       "      <td>-0.155476</td>\n",
       "      <td>199.489030</td>\n",
       "      <td>-0.070672</td>\n",
       "      <td>200.08</td>\n",
       "      <td>0</td>\n",
       "    </tr>\n",
       "  </tbody>\n",
       "</table>\n",
       "<p>5 rows × 64 columns</p>\n",
       "</div>"
      ],
      "text/plain": [
       "               datetime   close     high      low     open  close_t-1  \\\n",
       "33  2018-08-01 12:15:00  200.32  200.520  200.250  200.515     200.52   \n",
       "34  2018-08-01 12:20:00  200.05  200.300  200.000  200.300     200.32   \n",
       "35  2018-08-01 12:25:00  200.01  200.210  199.780  200.010     200.05   \n",
       "36  2018-08-01 12:30:00  200.07  200.170  199.905  199.940     200.01   \n",
       "37  2018-08-01 12:35:00  200.13  200.265  200.090  200.100     200.07   \n",
       "\n",
       "    close_t-2  close_t-3  close_t-4  open_t-1  ...  typprice_10  wclprice_10  \\\n",
       "33     200.24     200.14     199.93   200.250  ...   200.363333    200.35250   \n",
       "34     200.52     200.24     200.14   200.515  ...   200.116667    200.10000   \n",
       "35     200.32     200.52     200.24   200.300  ...   200.000000    200.00250   \n",
       "36     200.05     200.32     200.52   200.010  ...   200.048333    200.05375   \n",
       "37     200.01     200.05     200.32   199.940  ...   200.161667    200.15375   \n",
       "\n",
       "      atr_10  macdfix_macd  macdfix_macdsignal  macdfix_macdhist      sar_10  \\\n",
       "33  0.533092      0.411862            0.579105         -0.167243  199.382900   \n",
       "34  0.511783      0.362675            0.535819         -0.173144  199.410242   \n",
       "35  0.503605      0.316922            0.492039         -0.175118  199.437037   \n",
       "36  0.479744      0.281883            0.450008         -0.168125  199.463296   \n",
       "37  0.451270      0.255663            0.411139         -0.155476  199.489030   \n",
       "\n",
       "      ppo_10  close_t+1  label  \n",
       "33  0.030104     200.05      0  \n",
       "34 -0.008517     200.01      0  \n",
       "35 -0.059127     200.07      1  \n",
       "36 -0.070055     200.13      1  \n",
       "37 -0.070672     200.08      0  \n",
       "\n",
       "[5 rows x 64 columns]"
      ]
     },
     "execution_count": 8,
     "metadata": {},
     "output_type": "execute_result"
    }
   ],
   "source": [
    "def set_label(row):\n",
    "    if row['close_t+1'] > row['close']: return 1\n",
    "    else: return 0\n",
    "\n",
    "# One minute ahead closing price\n",
    "df['close_t+1']=df['close'].shift(-1)\n",
    "\n",
    "# Creating label/y to be predicted / independent (predicted) feature 'y' \n",
    "df['label'] = df.apply(set_label, axis=1)\n",
    "# df.drop(columns=['n_row', 'new_switch', 'cur_switch', 'current_model_id', 'new_model_id', \n",
    "#                  'weights', 'ts', 'ret_ts', 'ts_n1_pre', 'ts_n2_pre', 'ts_n1_post', 'ts_n2_post'], inplace=True)\n",
    "df.dropna(inplace=True)\n",
    "df.head()"
   ]
  },
  {
   "cell_type": "code",
   "execution_count": 49,
   "metadata": {
    "pycharm": {
     "is_executing": true
    }
   },
   "outputs": [
    {
     "name": "stdout",
     "output_type": "stream",
     "text": [
      "Class distribution: \n",
      "0 in 0.5060882800608828%\n",
      "1 in 0.4939117199391172%\n"
     ]
    },
    {
     "data": {
      "application/javascript": [
       "$(document).ready(\n",
       "    function() {\n",
       "        function appendUniqueDiv(){\n",
       "            // append a div with our uuid so we can check that it's already\n",
       "            // been sent and avoid duplicates on page reload\n",
       "            var notifiedDiv = document.createElement(\"div\")\n",
       "            notifiedDiv.id = \"55a72600-49f6-4e74-bffa-a38eef8664f9\"\n",
       "            element.append(notifiedDiv)\n",
       "        }\n",
       "\n",
       "        // only send notifications if the pageload is complete; this will\n",
       "        // help stop extra notifications when a saved notebook is loaded,\n",
       "        // which during testing gives us state \"interactive\", not \"complete\"\n",
       "        if (document.readyState === 'complete') {\n",
       "            // check for the div that signifies that the notification\n",
       "            // was already sent\n",
       "            if (document.getElementById(\"55a72600-49f6-4e74-bffa-a38eef8664f9\") === null) {\n",
       "                var notificationPayload = {\"requireInteraction\": false, \"icon\": \"/static/base/images/favicon.ico\", \"body\": \"Parsing is finished\"};\n",
       "                if (Notification.permission !== 'denied') {\n",
       "                    if (Notification.permission !== 'granted') { \n",
       "                        Notification.requestPermission(function (permission) {\n",
       "                            if(!('permission' in Notification)) {\n",
       "                                Notification.permission = permission\n",
       "                            }\n",
       "                        })\n",
       "                    }\n",
       "                    if (Notification.permission === 'granted') {\n",
       "                    var notification = new Notification(\"Jupyter Notebook\", notificationPayload)\n",
       "                    appendUniqueDiv()\n",
       "                    notification.onclick = function () {\n",
       "                        window.focus();\n",
       "                        this.close();\n",
       "                        };\n",
       "                    } \n",
       "                }     \n",
       "            }\n",
       "        }\n",
       "    }\n",
       ")\n"
      ],
      "text/plain": [
       "<IPython.core.display.Javascript object>"
      ]
     },
     "metadata": {},
     "output_type": "display_data"
    }
   ],
   "source": [
    "# Select columns for output\n",
    "# columns_selected=['rsi_10' ,'mom_10','ema_10','ema_20','ema_30',\n",
    "#                  'sma_10','sma_20','sma_30','wma_10','wma_20','wma_30',\n",
    "#                  'trima_10','trima_20','trima_30',\n",
    "#                  'roc_10','rocr_10','ppo_10',\n",
    "#                  'close','close_t-1','close_t-2','close_t-3','close_t-4',\n",
    "#                  'label']\n",
    "# df['label'] = df['binary_label']\n",
    "# columns_selected=[# 'datetime',\n",
    "#                  'rsi_10','willr_10','macd_macd' ,'cci_10','mom_10',\n",
    "#                  'stoch_slowk','stoch_slowd',\n",
    "#                  'sma_5','sma_10','sma_20','sma_30',\n",
    "#                  'wma_5','wma_10','wma_20','wma_30',\n",
    "#                  'ema_5','ema_10','ema_20','ema_30',\n",
    "#                  'trima_5','trima_10','trima_20','trima_30',\n",
    "#                  'adx_10','bbands_upperband','bbands_middleband','bbands_lowerband',\n",
    "#                  'roc_10','rocr_10','stochf_fastd','stochf_fastk',\n",
    "#                  'aroon_aroondown','aroon_aroonup','medprice_10','typprice_10','wclprice_10',\n",
    "#                  'atr_10','macdfix_macd','sar_10',\n",
    "#                  # 'volume','volume_t-1','volume_t-2','volume_t-3','volume_t-4',\n",
    "#                  # 'close','close_t-1','close_t-2','close_t-3','close_t-4',\n",
    "#                  # 'high','high_t-1','high_t-2','high_t-3','high_t-4',\n",
    "#                  # 'open','open_t-1','open_t-2','open_t-3','open_t-4',\n",
    "#                  # 'low','low_t-1','low_t-2','low_t-3','low_t-4',\n",
    "#                  # 'binary_label',\n",
    "#                  'label'] #,'gap_t+1','close_t+1'] # + ['adosc_10', 'obv_10', 'mfi_10', 'ppo_10']\n",
    "#    \n",
    "# best pool found through indicators grid search script\n",
    "columns_selected = ['rsi_10','willr_10','macd_macd','cci_10','mom_10','stoch_slowk','stoch_slowd','sma_5','sma_10',\n",
    "                    'wma_10','ema_10','trima_10','adx_10','bbands_upperband','bbands_lowerband','roc_10',\n",
    "                    'aroon_aroondown','aroon_aroonup','label']\n",
    "\n",
    "# Export processed data\n",
    "output = pd.DataFrame(df, columns=columns_selected)\n",
    "output.to_csv(RESULT_FILEPATH_PROCESSED, sep=';', encoding='utf-8', index = False)\n",
    "\n",
    "# Printing classes distributions\n",
    "print(\"Class distribution: \")\n",
    "label_zero=len(df[df['label'] == 0])\n",
    "label_one=len(df[df['label'] == 1])\n",
    "#print(label_zero)\n",
    "#print(label_one)\n",
    "print(\"0 in \"+str(float(label_zero)/(label_one+label_zero))+\"%\")\n",
    "print(\"1 in \"+str(float(label_one)/(label_one+label_zero))+\"%\")\n",
    "\n",
    "%notify -m \"Parsing is finished\""
   ]
  },
  {
   "cell_type": "code",
   "execution_count": 50,
   "metadata": {
    "pycharm": {
     "is_executing": true
    }
   },
   "outputs": [
    {
     "data": {
      "image/png": "[encoded data removed]",
      "text/plain": [
       "<Figure size 432x288 with 1 Axes>"
      ]
     },
     "metadata": {
      "needs_background": "light"
     },
     "output_type": "display_data"
    }
   ],
   "source": [
    "# Now plot close price and volume overtime.\n",
    "import matplotlib.pyplot as plt\n",
    "import pandas as pd\n",
    "\n",
    "df.plot(y=[\"close_t-1\"])\n",
    "plt.show()"
   ]
  },
  {
   "cell_type": "code",
   "execution_count": 51,
   "metadata": {
    "pycharm": {
     "is_executing": true
    }
   },
   "outputs": [
    {
     "data": {
      "text/plain": [
       "Index(['datetime', 'close', 'high', 'low', 'open', 'close_t-1', 'close_t-2',\n",
       "       'close_t-3', 'close_t-4', 'open_t-1', 'open_t-2', 'open_t-3',\n",
       "       'open_t-4', 'high_t-1', 'high_t-2', 'high_t-3', 'high_t-4', 'low_t-1',\n",
       "       'low_t-2', 'low_t-3', 'low_t-4', 'sma_5', 'sma_10', 'sma_20', 'sma_30',\n",
       "       'ema_5', 'ema_10', 'ema_20', 'ema_30', 'wma_10', 'mom_10',\n",
       "       'stoch_slowk', 'stoch_slowd', 'macd_macd', 'macd_macdsignal',\n",
       "       'macd_macdhist', 'rsi_10', 'willr_10', 'cci_10', 'adx_10',\n",
       "       'aroon_aroondown', 'aroon_aroonup', 'bbands_upperband',\n",
       "       'bbands_middleband', 'bbands_lowerband', 'trima_5', 'trima_10',\n",
       "       'trima_20', 'trima_30', 'roc_10', 'rocr_10', 'stochf_fastk',\n",
       "       'stochf_fastd', 'medprice_10', 'typprice_10', 'wclprice_10', 'atr_10',\n",
       "       'macdfix_macd', 'macdfix_macdsignal', 'macdfix_macdhist', 'sar_10',\n",
       "       'close_t+1', 'label'],\n",
       "      dtype='object')"
      ]
     },
     "execution_count": 51,
     "metadata": {},
     "output_type": "execute_result"
    }
   ],
   "source": [
    "df.columns"
   ]
  },
  {
   "cell_type": "code",
   "execution_count": 52,
   "metadata": {
    "pycharm": {
     "is_executing": true
    }
   },
   "outputs": [
    {
     "data": {
      "text/plain": [
       "'C:\\\\Users\\\\suare\\\\PycharmProjects\\\\RegimeSwitchingSeriesGenerator\\\\output\\\\APPLE_[2018-08-01_to_2018-09-11]_5min_indicators_best.csv'"
      ]
     },
     "execution_count": 52,
     "metadata": {},
     "output_type": "execute_result"
    }
   ],
   "source": [
    "RESULT_FILEPATH_PROCESSED"
   ]
  },
  {
   "cell_type": "code",
   "execution_count": null,
   "metadata": {
    "pycharm": {
     "is_executing": true
    }
   },
   "outputs": [],
   "source": []
  },
  {
   "cell_type": "code",
   "execution_count": null,
   "metadata": {
    "pycharm": {
     "is_executing": true
    }
   },
   "outputs": [],
   "source": []
  },
  {
   "cell_type": "code",
   "execution_count": 76,
   "metadata": {
    "pycharm": {
     "is_executing": true
    }
   },
   "outputs": [
    {
     "data": {
      "text/plain": [
       "Index(['datetime', 'open', 'high', 'low', 'close', 'volume', 'close_t-1',\n",
       "       'close_t-2', 'close_t-3', 'close_t-4', 'open_t-1', 'open_t-2',\n",
       "       'open_t-3', 'open_t-4', 'high_t-1', 'high_t-2', 'high_t-3', 'high_t-4',\n",
       "       'low_t-1', 'low_t-2', 'low_t-3', 'low_t-4', 'sma_5', 'sma_10', 'sma_20',\n",
       "       'sma_30', 'ema_5', 'ema_10', 'ema_20', 'ema_30', 'wma_10', 'mom_10',\n",
       "       'stoch_slowk', 'stoch_slowd', 'macd_macd', 'macd_macdsignal',\n",
       "       'macd_macdhist', 'rsi_10', 'willr_10', 'cci_10', 'adx_10',\n",
       "       'aroon_aroondown', 'aroon_aroonup', 'bbands_upperband',\n",
       "       'bbands_middleband', 'bbands_lowerband', 'trima_5', 'trima_10',\n",
       "       'trima_20', 'trima_30', 'roc_10', 'rocr_10', 'stochf_fastk',\n",
       "       'stochf_fastd', 'medprice_10', 'typprice_10', 'wclprice_10', 'atr_10',\n",
       "       'macdfix_macd', 'macdfix_macdsignal', 'macdfix_macdhist', 'sar_10',\n",
       "       'close_t+1', 'label'],\n",
       "      dtype='object')"
      ]
     },
     "execution_count": 76,
     "metadata": {},
     "output_type": "execute_result"
    }
   ],
   "source": [
    "df.columns"
   ]
  },
  {
   "cell_type": "code",
   "execution_count": null,
   "metadata": {
    "pycharm": {
     "is_executing": true
    }
   },
   "outputs": [],
   "source": []
  },
  {
   "cell_type": "code",
   "execution_count": null,
   "metadata": {},
   "outputs": [],
   "source": []
  }
 ],
 "metadata": {
  "kernelspec": {
   "display_name": "Python 3",
   "language": "python",
   "name": "python3"
  },
  "language_info": {
   "codemirror_mode": {
    "name": "ipython",
    "version": 3
   },
   "file_extension": ".py",
   "mimetype": "text/x-python",
   "name": "python",
   "nbconvert_exporter": "python",
   "pygments_lexer": "ipython3",
   "version": "3.7.3"
  },
  "pycharm": {
   "stem_cell": {
    "cell_type": "raw",
    "metadata": {
     "collapsed": false
    },
    "source": []
   }
  }
 },
 "nbformat": 4,
 "nbformat_minor": 2
}
