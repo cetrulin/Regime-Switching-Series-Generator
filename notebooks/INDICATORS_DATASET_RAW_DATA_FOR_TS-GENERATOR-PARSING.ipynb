{
 "cells": [
  {
   "cell_type": "code",
   "execution_count": 2,
   "metadata": {
    "pycharm": {
     "is_executing": false
    }
   },
   "outputs": [
    {
     "data": {
      "application/javascript": [
       "if (!(\"Notification\" in window)) {\n",
       "    alert(\"This browser does not support desktop notifications, so the %%notify magic will not work.\");\n",
       "} else if (Notification.permission !== 'granted' && Notification.permission !== 'denied') {\n",
       "    Notification.requestPermission(function (permission) {\n",
       "        if(!('permission' in Notification)) {\n",
       "            Notification.permission = permission;\n",
       "        }\n",
       "    })\n",
       "}\n"
      ],
      "text/plain": [
       "<IPython.core.display.Javascript object>"
      ]
     },
     "metadata": {},
     "output_type": "display_data"
    }
   ],
   "source": [
    "# Data preparation for Ph.D thesis\n",
    "# @author: Andres L. Suarez-Cetrulo\n",
    "%config IPCompleter.greedy=True\n",
    "%load_ext jupyternotify\n",
    "%matplotlib inline"
   ]
  },
  {
   "cell_type": "code",
   "execution_count": 3,
   "metadata": {
    "pycharm": {
     "is_executing": false
    }
   },
   "outputs": [],
   "source": [
    "# Imports\n",
    "import pandas as pd\n",
    "import numpy as np\n",
    "import datetime\n",
    "from pathlib import Path\n",
    "import os\n",
    "\n",
    "# Using TALib abstract API to create a dictionary of technical indicators to iterate later.\n",
    "from talib import abstract"
   ]
  },
  {
   "cell_type": "code",
   "execution_count": 35,
   "metadata": {},
   "outputs": [],
   "source": [
    "import subprocess\n",
    "# Define this to parse the CSVs to ARFF later automatically\n",
    "def create_arff_file(filename, output=None):\n",
    "    java_mem = '-Xmx3074m'\n",
    "    filename = filename.replace('.csv', '')\n",
    "    if output is None:\n",
    "        output=filename\n",
    "    else:\n",
    "        output = output.replace('.csv', '')\n",
    "    wekadev_libpath = 'C:\\\\Users\\\\suare\\\\Workspace\\\\phd_cetrulin\\\\moa-2017.06-sources\\\\lib\\\\weka-dev-3.7.12.jar'\n",
    "    command = ['java', java_mem, '-classpath', wekadev_libpath,\n",
    "               'weka.core.converters.CSVLoader', filename + '.csv', '>', output + '.arff']\n",
    "    f = open(filename + '.arff', \"w\")\n",
    "    subprocess.call(command, stdout=f)\n",
    "    print('If the arff is not generated, run the next in the terminal.')\n",
    "    print(str(' '.join(command)))"
   ]
  },
  {
   "cell_type": "code",
   "execution_count": 4,
   "metadata": {
    "pycharm": {
     "is_executing": false
    }
   },
   "outputs": [],
   "source": [
    "# Creating a dictionary of technical indicators using TALib abstract API\n",
    "indicators = ['sma','ema','wma','mom','stoch','macd' ,'rsi' ,'willr',\n",
    "              'adosc' ,'cci','adx','aroon' ,'bbands','obv' ,'trima',\n",
    "              'roc' ,'rocr','stochf','medprice','typprice','wclprice',\n",
    "              'atr','macdfix','mfi' ,'sar' ,'ppo']\n",
    "\n",
    "def get_indicator(ind: str):\n",
    "    return abstract.Function(ind)\n",
    "\n",
    "# Add as many indicators as necessary: see all indicators in https://mrjbq7.github.io/ta-lib/"
   ]
  },
  {
   "cell_type": "code",
   "execution_count": 99,
   "metadata": {
    "pycharm": {
     "is_executing": false
    }
   },
   "outputs": [],
   "source": [
    "# Paths for symbols (not eft)\n",
    "DATA_PATH=os.sep.join(['C:','Users','suare','PycharmProjects','RegimeSwitchingSeriesGenerator','data'])\n",
    "# '/Users/asuarez/Downloads'\n",
    "SOURCE_PATH=DATA_PATH # +'raw\\\\alpha_vantage\\\\S&P500\\\\symbols\\\\AAPL\\\\'  # 'raw/alpha_vantage/'\n",
    "RESULT_PATH=os.sep.join(['C:','Users','suare','PycharmProjects','RegimeSwitchingSeriesGenerator','output']) # +'analysis\\\\'+SYMBOL.lower()+'\\\\'\n",
    "\n",
    "# List of dates for files to be loaded\n",
    "# raw_datasets = ['aapl\\\\APPLE_[2018-08-01_to_2018-09-11]_5min.csv',\n",
    "#                   'btc\\\\BITCOIN_[2019-07-01_to_2019-07-15]_5min.csv',\n",
    "#                   'xrp\\\\RIPPLE_[2019-07-01_to_2019-08-01]_5min.csv',\n",
    "#                   'efts\\\\5min-level\\\\DOWJONES\\\\DOWJONES_[2015-08-01_to_2015-08-31]_market_hours.csv']\n",
    "# raw_datasets = ['efts\\\\1min-level\\\\DOWJONES\\\\DOWJONES_[2015-01-01_to_2016-01-01]_market_hours.csv']\n",
    "# Processing BTC for NA.\n",
    "raw_datasets = ['btc\\\\BITCOIN_[2018-07-01_to_2018-10-01]_1min.csv', # Mahalanobis set\n",
    "                'btc\\\\BITCOIN_[2018-10-01_to_2019-01-01]_1min.csv', # Devset\n",
    "                'btc\\\\BITCOIN_[2019-01-01_to_2020-01-01]_1min.csv'] # Training set\n",
    "\n",
    "filename = raw_datasets[2] # 'timeseries_created_21-10-2019' # 'timeseries_created_1571527428'\n",
    "FIELD = 'close' # price->'ts' returns->'ret_ts' ts_with_added_noise-> 'ts_n2_post'\n",
    "\n",
    "file = os.sep.join([SOURCE_PATH, filename])\n",
    "RESULT_FILEPATH_PROCESSED = os.sep.join([RESULT_PATH, filename.split(os.sep)[-1].replace('.csv','')+'_indicators_best.csv'])"
   ]
  },
  {
   "cell_type": "code",
   "execution_count": 100,
   "metadata": {
    "pycharm": {
     "is_executing": false
    }
   },
   "outputs": [
    {
     "name": "stdout",
     "output_type": "stream",
     "text": [
      "              datetime     open     high      low    close      volume\n",
      "0  2018-12-31 11:10:00  3790.90  3795.08  3785.81  3792.35  3027362.94\n",
      "1  2018-12-31 11:11:00  3792.35  3793.46  3788.68  3791.13   796473.41\n",
      "2  2018-12-31 11:12:00  3791.13  3803.61  3790.45  3803.61   561242.49\n",
      "3  2018-12-31 11:13:00  3803.61  3807.61  3801.36  3802.51   382831.00\n",
      "4  2018-12-31 11:14:00  3802.51  3802.51  3798.52  3799.24   202475.13\n"
     ]
    },
    {
     "data": {
      "text/plain": [
       "0    3792.35\n",
       "1    3791.13\n",
       "2    3803.61\n",
       "3    3802.51\n",
       "4    3799.24\n",
       "Name: close, dtype: float64"
      ]
     },
     "execution_count": 100,
     "metadata": {},
     "output_type": "execute_result"
    }
   ],
   "source": [
    "# Open file\n",
    "df=pd.read_csv(file, sep=';')\n",
    "print(df.head())\n",
    "\n",
    "df['close'] = df[FIELD]\n",
    "df.close.head()"
   ]
  },
  {
   "cell_type": "code",
   "execution_count": 101,
   "metadata": {
    "pycharm": {
     "is_executing": false
    }
   },
   "outputs": [
    {
     "data": {
      "text/html": [
       "<div>\n",
       "<style scoped>\n",
       "    .dataframe tbody tr th:only-of-type {\n",
       "        vertical-align: middle;\n",
       "    }\n",
       "\n",
       "    .dataframe tbody tr th {\n",
       "        vertical-align: top;\n",
       "    }\n",
       "\n",
       "    .dataframe thead th {\n",
       "        text-align: right;\n",
       "    }\n",
       "</style>\n",
       "<table border=\"1\" class=\"dataframe\">\n",
       "  <thead>\n",
       "    <tr style=\"text-align: right;\">\n",
       "      <th></th>\n",
       "      <th>datetime</th>\n",
       "      <th>open</th>\n",
       "      <th>high</th>\n",
       "      <th>low</th>\n",
       "      <th>close</th>\n",
       "      <th>volume</th>\n",
       "      <th>close_t-1</th>\n",
       "      <th>close_t-2</th>\n",
       "      <th>close_t-3</th>\n",
       "      <th>close_t-4</th>\n",
       "      <th>...</th>\n",
       "      <th>open_t-3</th>\n",
       "      <th>open_t-4</th>\n",
       "      <th>high_t-1</th>\n",
       "      <th>high_t-2</th>\n",
       "      <th>high_t-3</th>\n",
       "      <th>high_t-4</th>\n",
       "      <th>low_t-1</th>\n",
       "      <th>low_t-2</th>\n",
       "      <th>low_t-3</th>\n",
       "      <th>low_t-4</th>\n",
       "    </tr>\n",
       "  </thead>\n",
       "  <tbody>\n",
       "    <tr>\n",
       "      <th>0</th>\n",
       "      <td>2018-12-31 11:10:00</td>\n",
       "      <td>3790.90</td>\n",
       "      <td>3795.08</td>\n",
       "      <td>3785.81</td>\n",
       "      <td>3792.35</td>\n",
       "      <td>3027362.94</td>\n",
       "      <td>NaN</td>\n",
       "      <td>NaN</td>\n",
       "      <td>NaN</td>\n",
       "      <td>NaN</td>\n",
       "      <td>...</td>\n",
       "      <td>NaN</td>\n",
       "      <td>NaN</td>\n",
       "      <td>NaN</td>\n",
       "      <td>NaN</td>\n",
       "      <td>NaN</td>\n",
       "      <td>NaN</td>\n",
       "      <td>NaN</td>\n",
       "      <td>NaN</td>\n",
       "      <td>NaN</td>\n",
       "      <td>NaN</td>\n",
       "    </tr>\n",
       "    <tr>\n",
       "      <th>1</th>\n",
       "      <td>2018-12-31 11:11:00</td>\n",
       "      <td>3792.35</td>\n",
       "      <td>3793.46</td>\n",
       "      <td>3788.68</td>\n",
       "      <td>3791.13</td>\n",
       "      <td>796473.41</td>\n",
       "      <td>3792.35</td>\n",
       "      <td>NaN</td>\n",
       "      <td>NaN</td>\n",
       "      <td>NaN</td>\n",
       "      <td>...</td>\n",
       "      <td>NaN</td>\n",
       "      <td>NaN</td>\n",
       "      <td>3795.08</td>\n",
       "      <td>NaN</td>\n",
       "      <td>NaN</td>\n",
       "      <td>NaN</td>\n",
       "      <td>3785.81</td>\n",
       "      <td>NaN</td>\n",
       "      <td>NaN</td>\n",
       "      <td>NaN</td>\n",
       "    </tr>\n",
       "    <tr>\n",
       "      <th>2</th>\n",
       "      <td>2018-12-31 11:12:00</td>\n",
       "      <td>3791.13</td>\n",
       "      <td>3803.61</td>\n",
       "      <td>3790.45</td>\n",
       "      <td>3803.61</td>\n",
       "      <td>561242.49</td>\n",
       "      <td>3791.13</td>\n",
       "      <td>3792.35</td>\n",
       "      <td>NaN</td>\n",
       "      <td>NaN</td>\n",
       "      <td>...</td>\n",
       "      <td>NaN</td>\n",
       "      <td>NaN</td>\n",
       "      <td>3793.46</td>\n",
       "      <td>3795.08</td>\n",
       "      <td>NaN</td>\n",
       "      <td>NaN</td>\n",
       "      <td>3788.68</td>\n",
       "      <td>3785.81</td>\n",
       "      <td>NaN</td>\n",
       "      <td>NaN</td>\n",
       "    </tr>\n",
       "    <tr>\n",
       "      <th>3</th>\n",
       "      <td>2018-12-31 11:13:00</td>\n",
       "      <td>3803.61</td>\n",
       "      <td>3807.61</td>\n",
       "      <td>3801.36</td>\n",
       "      <td>3802.51</td>\n",
       "      <td>382831.00</td>\n",
       "      <td>3803.61</td>\n",
       "      <td>3791.13</td>\n",
       "      <td>3792.35</td>\n",
       "      <td>NaN</td>\n",
       "      <td>...</td>\n",
       "      <td>3790.90</td>\n",
       "      <td>NaN</td>\n",
       "      <td>3803.61</td>\n",
       "      <td>3793.46</td>\n",
       "      <td>3795.08</td>\n",
       "      <td>NaN</td>\n",
       "      <td>3790.45</td>\n",
       "      <td>3788.68</td>\n",
       "      <td>3785.81</td>\n",
       "      <td>NaN</td>\n",
       "    </tr>\n",
       "    <tr>\n",
       "      <th>4</th>\n",
       "      <td>2018-12-31 11:14:00</td>\n",
       "      <td>3802.51</td>\n",
       "      <td>3802.51</td>\n",
       "      <td>3798.52</td>\n",
       "      <td>3799.24</td>\n",
       "      <td>202475.13</td>\n",
       "      <td>3802.51</td>\n",
       "      <td>3803.61</td>\n",
       "      <td>3791.13</td>\n",
       "      <td>3792.35</td>\n",
       "      <td>...</td>\n",
       "      <td>3792.35</td>\n",
       "      <td>3790.9</td>\n",
       "      <td>3807.61</td>\n",
       "      <td>3803.61</td>\n",
       "      <td>3793.46</td>\n",
       "      <td>3795.08</td>\n",
       "      <td>3801.36</td>\n",
       "      <td>3790.45</td>\n",
       "      <td>3788.68</td>\n",
       "      <td>3785.81</td>\n",
       "    </tr>\n",
       "  </tbody>\n",
       "</table>\n",
       "<p>5 rows × 22 columns</p>\n",
       "</div>"
      ],
      "text/plain": [
       "              datetime     open     high      low    close      volume  \\\n",
       "0  2018-12-31 11:10:00  3790.90  3795.08  3785.81  3792.35  3027362.94   \n",
       "1  2018-12-31 11:11:00  3792.35  3793.46  3788.68  3791.13   796473.41   \n",
       "2  2018-12-31 11:12:00  3791.13  3803.61  3790.45  3803.61   561242.49   \n",
       "3  2018-12-31 11:13:00  3803.61  3807.61  3801.36  3802.51   382831.00   \n",
       "4  2018-12-31 11:14:00  3802.51  3802.51  3798.52  3799.24   202475.13   \n",
       "\n",
       "   close_t-1  close_t-2  close_t-3  close_t-4  ...  open_t-3  open_t-4  \\\n",
       "0        NaN        NaN        NaN        NaN  ...       NaN       NaN   \n",
       "1    3792.35        NaN        NaN        NaN  ...       NaN       NaN   \n",
       "2    3791.13    3792.35        NaN        NaN  ...       NaN       NaN   \n",
       "3    3803.61    3791.13    3792.35        NaN  ...   3790.90       NaN   \n",
       "4    3802.51    3803.61    3791.13    3792.35  ...   3792.35    3790.9   \n",
       "\n",
       "   high_t-1  high_t-2  high_t-3  high_t-4  low_t-1  low_t-2  low_t-3  low_t-4  \n",
       "0       NaN       NaN       NaN       NaN      NaN      NaN      NaN      NaN  \n",
       "1   3795.08       NaN       NaN       NaN  3785.81      NaN      NaN      NaN  \n",
       "2   3793.46   3795.08       NaN       NaN  3788.68  3785.81      NaN      NaN  \n",
       "3   3803.61   3793.46   3795.08       NaN  3790.45  3788.68  3785.81      NaN  \n",
       "4   3807.61   3803.61   3793.46   3795.08  3801.36  3790.45  3788.68  3785.81  \n",
       "\n",
       "[5 rows x 22 columns]"
      ]
     },
     "execution_count": 101,
     "metadata": {},
     "output_type": "execute_result"
    }
   ],
   "source": [
    "#Add parameters to transform in TS\n",
    "timeseries=['close', 'open', 'high', 'low']\n",
    "#Length of the TS. How many values do we keep per serie. \n",
    "# e.g. 1 -> t / 2 -> t,t-1 / 3 -> t,t-1,t-2 / 4 -> t,t-1,t-2,t-3\n",
    "length = 5\n",
    "\n",
    "# Add lagged times\n",
    "for column in timeseries:\n",
    "    #df[column+'_t']=df[column]\n",
    "    for i in range(1,length):\n",
    "        df[column+'_t-'+str(i)]=df[column].shift(i) #it could also be sorted and group by if needed\n",
    "    #del drops the delected df column\n",
    "    #del df[column]\n",
    "df.head()"
   ]
  },
  {
   "cell_type": "code",
   "execution_count": 102,
   "metadata": {
    "pycharm": {
     "is_executing": false
    }
   },
   "outputs": [
    {
     "data": {
      "text/html": [
       "<div>\n",
       "<style scoped>\n",
       "    .dataframe tbody tr th:only-of-type {\n",
       "        vertical-align: middle;\n",
       "    }\n",
       "\n",
       "    .dataframe tbody tr th {\n",
       "        vertical-align: top;\n",
       "    }\n",
       "\n",
       "    .dataframe thead th {\n",
       "        text-align: right;\n",
       "    }\n",
       "</style>\n",
       "<table border=\"1\" class=\"dataframe\">\n",
       "  <thead>\n",
       "    <tr style=\"text-align: right;\">\n",
       "      <th></th>\n",
       "      <th>datetime</th>\n",
       "      <th>open</th>\n",
       "      <th>high</th>\n",
       "      <th>low</th>\n",
       "      <th>close</th>\n",
       "      <th>volume</th>\n",
       "      <th>close_t-1</th>\n",
       "      <th>close_t-2</th>\n",
       "      <th>close_t-3</th>\n",
       "      <th>close_t-4</th>\n",
       "      <th>...</th>\n",
       "      <th>stochf_fastd</th>\n",
       "      <th>medprice_10</th>\n",
       "      <th>typprice_10</th>\n",
       "      <th>wclprice_10</th>\n",
       "      <th>atr_10</th>\n",
       "      <th>macdfix_macd</th>\n",
       "      <th>macdfix_macdsignal</th>\n",
       "      <th>macdfix_macdhist</th>\n",
       "      <th>sar_10</th>\n",
       "      <th>ppo_10</th>\n",
       "    </tr>\n",
       "  </thead>\n",
       "  <tbody>\n",
       "    <tr>\n",
       "      <th>0</th>\n",
       "      <td>2018-12-31 11:10:00</td>\n",
       "      <td>3790.90</td>\n",
       "      <td>3795.08</td>\n",
       "      <td>3785.81</td>\n",
       "      <td>3792.35</td>\n",
       "      <td>3027362.94</td>\n",
       "      <td>NaN</td>\n",
       "      <td>NaN</td>\n",
       "      <td>NaN</td>\n",
       "      <td>NaN</td>\n",
       "      <td>...</td>\n",
       "      <td>NaN</td>\n",
       "      <td>3790.445</td>\n",
       "      <td>3791.080000</td>\n",
       "      <td>3791.3975</td>\n",
       "      <td>NaN</td>\n",
       "      <td>NaN</td>\n",
       "      <td>NaN</td>\n",
       "      <td>NaN</td>\n",
       "      <td>NaN</td>\n",
       "      <td>NaN</td>\n",
       "    </tr>\n",
       "    <tr>\n",
       "      <th>1</th>\n",
       "      <td>2018-12-31 11:11:00</td>\n",
       "      <td>3792.35</td>\n",
       "      <td>3793.46</td>\n",
       "      <td>3788.68</td>\n",
       "      <td>3791.13</td>\n",
       "      <td>796473.41</td>\n",
       "      <td>3792.35</td>\n",
       "      <td>NaN</td>\n",
       "      <td>NaN</td>\n",
       "      <td>NaN</td>\n",
       "      <td>...</td>\n",
       "      <td>NaN</td>\n",
       "      <td>3791.070</td>\n",
       "      <td>3791.090000</td>\n",
       "      <td>3791.1000</td>\n",
       "      <td>NaN</td>\n",
       "      <td>NaN</td>\n",
       "      <td>NaN</td>\n",
       "      <td>NaN</td>\n",
       "      <td>3785.810000</td>\n",
       "      <td>NaN</td>\n",
       "    </tr>\n",
       "    <tr>\n",
       "      <th>2</th>\n",
       "      <td>2018-12-31 11:12:00</td>\n",
       "      <td>3791.13</td>\n",
       "      <td>3803.61</td>\n",
       "      <td>3790.45</td>\n",
       "      <td>3803.61</td>\n",
       "      <td>561242.49</td>\n",
       "      <td>3791.13</td>\n",
       "      <td>3792.35</td>\n",
       "      <td>NaN</td>\n",
       "      <td>NaN</td>\n",
       "      <td>...</td>\n",
       "      <td>NaN</td>\n",
       "      <td>3797.030</td>\n",
       "      <td>3799.223333</td>\n",
       "      <td>3800.3200</td>\n",
       "      <td>NaN</td>\n",
       "      <td>NaN</td>\n",
       "      <td>NaN</td>\n",
       "      <td>NaN</td>\n",
       "      <td>3785.963000</td>\n",
       "      <td>NaN</td>\n",
       "    </tr>\n",
       "    <tr>\n",
       "      <th>3</th>\n",
       "      <td>2018-12-31 11:13:00</td>\n",
       "      <td>3803.61</td>\n",
       "      <td>3807.61</td>\n",
       "      <td>3801.36</td>\n",
       "      <td>3802.51</td>\n",
       "      <td>382831.00</td>\n",
       "      <td>3803.61</td>\n",
       "      <td>3791.13</td>\n",
       "      <td>3792.35</td>\n",
       "      <td>NaN</td>\n",
       "      <td>...</td>\n",
       "      <td>NaN</td>\n",
       "      <td>3804.485</td>\n",
       "      <td>3803.826667</td>\n",
       "      <td>3803.4975</td>\n",
       "      <td>NaN</td>\n",
       "      <td>NaN</td>\n",
       "      <td>NaN</td>\n",
       "      <td>NaN</td>\n",
       "      <td>3786.668880</td>\n",
       "      <td>NaN</td>\n",
       "    </tr>\n",
       "    <tr>\n",
       "      <th>4</th>\n",
       "      <td>2018-12-31 11:14:00</td>\n",
       "      <td>3802.51</td>\n",
       "      <td>3802.51</td>\n",
       "      <td>3798.52</td>\n",
       "      <td>3799.24</td>\n",
       "      <td>202475.13</td>\n",
       "      <td>3802.51</td>\n",
       "      <td>3803.61</td>\n",
       "      <td>3791.13</td>\n",
       "      <td>3792.35</td>\n",
       "      <td>...</td>\n",
       "      <td>NaN</td>\n",
       "      <td>3800.515</td>\n",
       "      <td>3800.090000</td>\n",
       "      <td>3799.8775</td>\n",
       "      <td>NaN</td>\n",
       "      <td>NaN</td>\n",
       "      <td>NaN</td>\n",
       "      <td>NaN</td>\n",
       "      <td>3787.925347</td>\n",
       "      <td>NaN</td>\n",
       "    </tr>\n",
       "  </tbody>\n",
       "</table>\n",
       "<p>5 rows × 63 columns</p>\n",
       "</div>"
      ],
      "text/plain": [
       "              datetime     open     high      low    close      volume  \\\n",
       "0  2018-12-31 11:10:00  3790.90  3795.08  3785.81  3792.35  3027362.94   \n",
       "1  2018-12-31 11:11:00  3792.35  3793.46  3788.68  3791.13   796473.41   \n",
       "2  2018-12-31 11:12:00  3791.13  3803.61  3790.45  3803.61   561242.49   \n",
       "3  2018-12-31 11:13:00  3803.61  3807.61  3801.36  3802.51   382831.00   \n",
       "4  2018-12-31 11:14:00  3802.51  3802.51  3798.52  3799.24   202475.13   \n",
       "\n",
       "   close_t-1  close_t-2  close_t-3  close_t-4  ...  stochf_fastd  medprice_10  \\\n",
       "0        NaN        NaN        NaN        NaN  ...           NaN     3790.445   \n",
       "1    3792.35        NaN        NaN        NaN  ...           NaN     3791.070   \n",
       "2    3791.13    3792.35        NaN        NaN  ...           NaN     3797.030   \n",
       "3    3803.61    3791.13    3792.35        NaN  ...           NaN     3804.485   \n",
       "4    3802.51    3803.61    3791.13    3792.35  ...           NaN     3800.515   \n",
       "\n",
       "   typprice_10  wclprice_10  atr_10  macdfix_macd  macdfix_macdsignal  \\\n",
       "0  3791.080000    3791.3975     NaN           NaN                 NaN   \n",
       "1  3791.090000    3791.1000     NaN           NaN                 NaN   \n",
       "2  3799.223333    3800.3200     NaN           NaN                 NaN   \n",
       "3  3803.826667    3803.4975     NaN           NaN                 NaN   \n",
       "4  3800.090000    3799.8775     NaN           NaN                 NaN   \n",
       "\n",
       "   macdfix_macdhist       sar_10  ppo_10  \n",
       "0               NaN          NaN     NaN  \n",
       "1               NaN  3785.810000     NaN  \n",
       "2               NaN  3785.963000     NaN  \n",
       "3               NaN  3786.668880     NaN  \n",
       "4               NaN  3787.925347     NaN  \n",
       "\n",
       "[5 rows x 63 columns]"
      ]
     },
     "execution_count": 102,
     "metadata": {},
     "output_type": "execute_result"
    }
   ],
   "source": [
    "# all the numbers here and below assume a default time period for ta params of 10 mins averages\n",
    "# change the other numbers (params of 5min and 20min and theremoval of 20 first mins of the day below) if the mins number is changed.\n",
    "# in that case change as well the time tag '_10' with the corresponding one.\n",
    "default_timerange=10\n",
    "# Set extra timeranges for moving averages\n",
    "extra_timeranges=[default_timerange/2, default_timerange, default_timerange*2, default_timerange*3]\n",
    "\n",
    "# ###########################################\n",
    "# Iterate and run list of indicators selected\n",
    "# All of them produced for 25 prior mins of data \n",
    "# ###########################################\n",
    "for ind in list(indicators):\n",
    "    if ind not in ['adosc', 'obv', 'mfi']:  # avoiding indicators that need volume\n",
    "        # For indicators that only return one column (this will need to be modified depending on the selection of indicators)\n",
    "        if ind in ['ema','sma','trima']:\n",
    "            for timerange in extra_timeranges:\n",
    "                df[ind+'_'+str(int(timerange))] = get_indicator(ind)(df, timeperiod=timerange) \n",
    "        elif ind not in ['bbands','aroon','stoch','macd','macdfix','stochf']:\n",
    "            df[ind+'_'+str(int(default_timerange))] = get_indicator(ind)(df, timeperiod=(default_timerange))\n",
    "        # Otherwise check the list of columns and return all\n",
    "        else: \n",
    "            key_output=get_indicator(ind)(df, timeperiod=(default_timerange)) #, price='close')\n",
    "            for j in range(0,len(list(key_output.columns))):\n",
    "                df[ind+'_'+key_output.columns[int(j)]] = key_output[key_output.columns[j]]\n",
    "df.head()"
   ]
  },
  {
   "cell_type": "code",
   "execution_count": 103,
   "metadata": {
    "pycharm": {
     "is_executing": false
    }
   },
   "outputs": [
    {
     "data": {
      "text/html": [
       "<div>\n",
       "<style scoped>\n",
       "    .dataframe tbody tr th:only-of-type {\n",
       "        vertical-align: middle;\n",
       "    }\n",
       "\n",
       "    .dataframe tbody tr th {\n",
       "        vertical-align: top;\n",
       "    }\n",
       "\n",
       "    .dataframe thead th {\n",
       "        text-align: right;\n",
       "    }\n",
       "</style>\n",
       "<table border=\"1\" class=\"dataframe\">\n",
       "  <thead>\n",
       "    <tr style=\"text-align: right;\">\n",
       "      <th></th>\n",
       "      <th>datetime</th>\n",
       "      <th>open</th>\n",
       "      <th>high</th>\n",
       "      <th>low</th>\n",
       "      <th>close</th>\n",
       "      <th>volume</th>\n",
       "      <th>close_t-1</th>\n",
       "      <th>close_t-2</th>\n",
       "      <th>close_t-3</th>\n",
       "      <th>close_t-4</th>\n",
       "      <th>...</th>\n",
       "      <th>typprice_10</th>\n",
       "      <th>wclprice_10</th>\n",
       "      <th>atr_10</th>\n",
       "      <th>macdfix_macd</th>\n",
       "      <th>macdfix_macdsignal</th>\n",
       "      <th>macdfix_macdhist</th>\n",
       "      <th>sar_10</th>\n",
       "      <th>ppo_10</th>\n",
       "      <th>close_t+1</th>\n",
       "      <th>label</th>\n",
       "    </tr>\n",
       "  </thead>\n",
       "  <tbody>\n",
       "    <tr>\n",
       "      <th>33</th>\n",
       "      <td>2018-12-31 11:43:00</td>\n",
       "      <td>3810.92</td>\n",
       "      <td>3810.96</td>\n",
       "      <td>3810.53</td>\n",
       "      <td>3810.53</td>\n",
       "      <td>34020.12</td>\n",
       "      <td>3810.92</td>\n",
       "      <td>3811.39</td>\n",
       "      <td>3812.75</td>\n",
       "      <td>3811.88</td>\n",
       "      <td>...</td>\n",
       "      <td>3810.673333</td>\n",
       "      <td>3810.6375</td>\n",
       "      <td>2.139240</td>\n",
       "      <td>2.442129</td>\n",
       "      <td>3.678132</td>\n",
       "      <td>-1.236003</td>\n",
       "      <td>3816.079803</td>\n",
       "      <td>0.055280</td>\n",
       "      <td>3809.79</td>\n",
       "      <td>0</td>\n",
       "    </tr>\n",
       "    <tr>\n",
       "      <th>34</th>\n",
       "      <td>2018-12-31 11:44:00</td>\n",
       "      <td>3810.53</td>\n",
       "      <td>3810.60</td>\n",
       "      <td>3809.79</td>\n",
       "      <td>3809.79</td>\n",
       "      <td>80514.14</td>\n",
       "      <td>3810.53</td>\n",
       "      <td>3810.92</td>\n",
       "      <td>3811.39</td>\n",
       "      <td>3812.75</td>\n",
       "      <td>...</td>\n",
       "      <td>3810.060000</td>\n",
       "      <td>3809.9925</td>\n",
       "      <td>2.006316</td>\n",
       "      <td>2.104882</td>\n",
       "      <td>3.363482</td>\n",
       "      <td>-1.258601</td>\n",
       "      <td>3815.746814</td>\n",
       "      <td>0.039661</td>\n",
       "      <td>3804.05</td>\n",
       "      <td>0</td>\n",
       "    </tr>\n",
       "    <tr>\n",
       "      <th>35</th>\n",
       "      <td>2018-12-31 11:45:00</td>\n",
       "      <td>3809.79</td>\n",
       "      <td>3809.79</td>\n",
       "      <td>3804.05</td>\n",
       "      <td>3804.05</td>\n",
       "      <td>309457.83</td>\n",
       "      <td>3809.79</td>\n",
       "      <td>3810.53</td>\n",
       "      <td>3810.92</td>\n",
       "      <td>3811.39</td>\n",
       "      <td>...</td>\n",
       "      <td>3805.963333</td>\n",
       "      <td>3805.4850</td>\n",
       "      <td>2.379684</td>\n",
       "      <td>1.385541</td>\n",
       "      <td>2.967894</td>\n",
       "      <td>-1.582353</td>\n",
       "      <td>3815.270269</td>\n",
       "      <td>0.025892</td>\n",
       "      <td>3804.68</td>\n",
       "      <td>1</td>\n",
       "    </tr>\n",
       "    <tr>\n",
       "      <th>36</th>\n",
       "      <td>2018-12-31 11:46:00</td>\n",
       "      <td>3804.05</td>\n",
       "      <td>3805.22</td>\n",
       "      <td>3801.23</td>\n",
       "      <td>3804.68</td>\n",
       "      <td>279418.44</td>\n",
       "      <td>3804.05</td>\n",
       "      <td>3809.79</td>\n",
       "      <td>3810.53</td>\n",
       "      <td>3810.92</td>\n",
       "      <td>...</td>\n",
       "      <td>3803.710000</td>\n",
       "      <td>3803.9525</td>\n",
       "      <td>2.540716</td>\n",
       "      <td>0.851621</td>\n",
       "      <td>2.544639</td>\n",
       "      <td>-1.693018</td>\n",
       "      <td>3814.148242</td>\n",
       "      <td>0.005731</td>\n",
       "      <td>3802.16</td>\n",
       "      <td>0</td>\n",
       "    </tr>\n",
       "    <tr>\n",
       "      <th>37</th>\n",
       "      <td>2018-12-31 11:47:00</td>\n",
       "      <td>3804.68</td>\n",
       "      <td>3804.68</td>\n",
       "      <td>3802.15</td>\n",
       "      <td>3802.16</td>\n",
       "      <td>216722.13</td>\n",
       "      <td>3804.68</td>\n",
       "      <td>3804.05</td>\n",
       "      <td>3809.79</td>\n",
       "      <td>3810.53</td>\n",
       "      <td>...</td>\n",
       "      <td>3802.996667</td>\n",
       "      <td>3802.7875</td>\n",
       "      <td>2.539644</td>\n",
       "      <td>0.233247</td>\n",
       "      <td>2.082361</td>\n",
       "      <td>-1.849114</td>\n",
       "      <td>3812.598053</td>\n",
       "      <td>-0.015786</td>\n",
       "      <td>3804.51</td>\n",
       "      <td>1</td>\n",
       "    </tr>\n",
       "  </tbody>\n",
       "</table>\n",
       "<p>5 rows × 65 columns</p>\n",
       "</div>"
      ],
      "text/plain": [
       "               datetime     open     high      low    close     volume  \\\n",
       "33  2018-12-31 11:43:00  3810.92  3810.96  3810.53  3810.53   34020.12   \n",
       "34  2018-12-31 11:44:00  3810.53  3810.60  3809.79  3809.79   80514.14   \n",
       "35  2018-12-31 11:45:00  3809.79  3809.79  3804.05  3804.05  309457.83   \n",
       "36  2018-12-31 11:46:00  3804.05  3805.22  3801.23  3804.68  279418.44   \n",
       "37  2018-12-31 11:47:00  3804.68  3804.68  3802.15  3802.16  216722.13   \n",
       "\n",
       "    close_t-1  close_t-2  close_t-3  close_t-4  ...  typprice_10  wclprice_10  \\\n",
       "33    3810.92    3811.39    3812.75    3811.88  ...  3810.673333    3810.6375   \n",
       "34    3810.53    3810.92    3811.39    3812.75  ...  3810.060000    3809.9925   \n",
       "35    3809.79    3810.53    3810.92    3811.39  ...  3805.963333    3805.4850   \n",
       "36    3804.05    3809.79    3810.53    3810.92  ...  3803.710000    3803.9525   \n",
       "37    3804.68    3804.05    3809.79    3810.53  ...  3802.996667    3802.7875   \n",
       "\n",
       "      atr_10  macdfix_macd  macdfix_macdsignal  macdfix_macdhist       sar_10  \\\n",
       "33  2.139240      2.442129            3.678132         -1.236003  3816.079803   \n",
       "34  2.006316      2.104882            3.363482         -1.258601  3815.746814   \n",
       "35  2.379684      1.385541            2.967894         -1.582353  3815.270269   \n",
       "36  2.540716      0.851621            2.544639         -1.693018  3814.148242   \n",
       "37  2.539644      0.233247            2.082361         -1.849114  3812.598053   \n",
       "\n",
       "      ppo_10  close_t+1  label  \n",
       "33  0.055280    3809.79      0  \n",
       "34  0.039661    3804.05      0  \n",
       "35  0.025892    3804.68      1  \n",
       "36  0.005731    3802.16      0  \n",
       "37 -0.015786    3804.51      1  \n",
       "\n",
       "[5 rows x 65 columns]"
      ]
     },
     "execution_count": 103,
     "metadata": {},
     "output_type": "execute_result"
    }
   ],
   "source": [
    "def set_label(row):\n",
    "    if row['close_t+1'] > row['close']: return 1\n",
    "    else: return 0\n",
    "\n",
    "# One minute ahead closing price\n",
    "df['close_t+1']=df['close'].shift(-1)\n",
    "\n",
    "# Creating label/y to be predicted / independent (predicted) feature 'y' \n",
    "df['label'] = df.apply(set_label, axis=1)\n",
    "# df.drop(columns=['n_row', 'new_switch', 'cur_switch', 'current_model_id', 'new_model_id', \n",
    "#                  'weights', 'ts', 'ret_ts', 'ts_n1_pre', 'ts_n2_pre', 'ts_n1_post', 'ts_n2_post'], inplace=True)\n",
    "df.dropna(inplace=True)\n",
    "df.head()"
   ]
  },
  {
   "cell_type": "code",
   "execution_count": 104,
   "metadata": {
    "pycharm": {
     "is_executing": false
    }
   },
   "outputs": [
    {
     "name": "stdout",
     "output_type": "stream",
     "text": [
      "Class distribution: \n",
      "0 in 0.505272316122881%\n",
      "1 in 0.4947276838771189%\n"
     ]
    },
    {
     "data": {
      "application/javascript": [
       "$(document).ready(\n",
       "    function() {\n",
       "        function appendUniqueDiv(){\n",
       "            // append a div with our uuid so we can check that it's already\n",
       "            // been sent and avoid duplicates on page reload\n",
       "            var notifiedDiv = document.createElement(\"div\")\n",
       "            notifiedDiv.id = \"5d8a66e0-6956-48e0-a6ab-e29932fb27d4\"\n",
       "            element.append(notifiedDiv)\n",
       "        }\n",
       "\n",
       "        // only send notifications if the pageload is complete; this will\n",
       "        // help stop extra notifications when a saved notebook is loaded,\n",
       "        // which during testing gives us state \"interactive\", not \"complete\"\n",
       "        if (document.readyState === 'complete') {\n",
       "            // check for the div that signifies that the notification\n",
       "            // was already sent\n",
       "            if (document.getElementById(\"5d8a66e0-6956-48e0-a6ab-e29932fb27d4\") === null) {\n",
       "                var notificationPayload = {\"requireInteraction\": false, \"icon\": \"/static/base/images/favicon.ico\", \"body\": \"Parsing is finished\"};\n",
       "                if (Notification.permission !== 'denied') {\n",
       "                    if (Notification.permission !== 'granted') { \n",
       "                        Notification.requestPermission(function (permission) {\n",
       "                            if(!('permission' in Notification)) {\n",
       "                                Notification.permission = permission\n",
       "                            }\n",
       "                        })\n",
       "                    }\n",
       "                    if (Notification.permission === 'granted') {\n",
       "                    var notification = new Notification(\"Jupyter Notebook\", notificationPayload)\n",
       "                    appendUniqueDiv()\n",
       "                    notification.onclick = function () {\n",
       "                        window.focus();\n",
       "                        this.close();\n",
       "                        };\n",
       "                    } \n",
       "                }     \n",
       "            }\n",
       "        }\n",
       "    }\n",
       ")\n"
      ],
      "text/plain": [
       "<IPython.core.display.Javascript object>"
      ]
     },
     "metadata": {},
     "output_type": "display_data"
    }
   ],
   "source": [
    "# Select columns for output\n",
    "# columns_selected=['rsi_10' ,'mom_10','ema_10','ema_20','ema_30',\n",
    "#                  'sma_10','sma_20','sma_30','wma_10','wma_20','wma_30',\n",
    "#                  'trima_10','trima_20','trima_30',\n",
    "#                  'roc_10','rocr_10','ppo_10',\n",
    "#                  'close','close_t-1','close_t-2','close_t-3','close_t-4',\n",
    "#                  'label']\n",
    "# df['label'] = df['binary_label']\n",
    "fullset = False\n",
    "if fullset:\n",
    "    RESULT_FILEPATH_PROCESSED = os.sep.join([RESULT_PATH, filename.split(os.sep)[-1].replace('.csv','')+'_fullset.csv'])\n",
    "    columns_selected=[# 'datetime',\n",
    "                     'rsi_10','willr_10','macd_macd' ,'cci_10','mom_10',\n",
    "                     'stoch_slowk','stoch_slowd',\n",
    "                     'sma_5','sma_10','sma_20','sma_30',\n",
    "                     'wma_5','wma_10','wma_20','wma_30',\n",
    "                     'ema_5','ema_10','ema_20','ema_30',\n",
    "                     'trima_5','trima_10','trima_20','trima_30',\n",
    "                     'adx_10','bbands_upperband','bbands_middleband','bbands_lowerband',\n",
    "                     'roc_10','rocr_10','stochf_fastd','stochf_fastk',\n",
    "                     'aroon_aroondown','aroon_aroonup','medprice_10','typprice_10','wclprice_10',\n",
    "                     'atr_10','macdfix_macd','sar_10',\n",
    "                     'adosc_10', 'obv_10', 'mfi_10', 'ppo_10', ########## commented out previosly\n",
    "                     'volume','volume_t-1','volume_t-2','volume_t-3','volume_t-4',\n",
    "                     'close','close_t-1','close_t-2','close_t-3','close_t-4',\n",
    "                     'high','high_t-1','high_t-2','high_t-3','high_t-4',\n",
    "                     'open','open_t-1','open_t-2','open_t-3','open_t-4',\n",
    "                     'low','low_t-1','low_t-2','low_t-3','low_t-4',\n",
    "                     # 'binary_label',\n",
    "                     'label'] #,'gap_t+1','close_t+1'] # + ['adosc_10', 'obv_10', 'mfi_10', 'ppo_10']\n",
    "    \n",
    "else:  # the ones used with the synthetic set due to the lack of volumes also\n",
    "    RESULT_FILEPATH_PROCESSED = os.sep.join([RESULT_PATH, filename.split(os.sep)[-1].replace('.csv','')+'_indicators_best.csv'])\n",
    "    # best pool found through indicators grid search script\n",
    "    columns_selected = ['rsi_10','willr_10','macd_macd','cci_10','mom_10','stoch_slowk','stoch_slowd','sma_5','sma_10',\n",
    "                        'wma_10','ema_10','trima_10','adx_10','bbands_upperband','bbands_lowerband','roc_10',\n",
    "                        'aroon_aroondown','aroon_aroonup','label']\n",
    "\n",
    "# Export processed data\n",
    "output = pd.DataFrame(df, columns=columns_selected)\n",
    "output.to_csv(RESULT_FILEPATH_PROCESSED, sep=',', encoding='utf-8', index = False)\n",
    "crypto_path = 'C:\\\\Users\\\\suare\\\\Workspace\\\\phd_cetrulin\\\\moa-2017.06-sources\\\\data\\\\real\\\\real_crypto\\\\'\n",
    "create_arff_file(RESULT_FILEPATH_PROCESSED, output=crypto_path+RESULT_FILEPATH_PROCESSED.split(os.sep)[-1]) # export in ARFF\n",
    "\n",
    "# Printing classes distributions\n",
    "print(\"Class distribution: \")\n",
    "label_zero=len(df[df['label'] == 0])\n",
    "label_one=len(df[df['label'] == 1])\n",
    "#print(label_zero)\n",
    "#print(label_one)\n",
    "print(\"0 in \"+str(float(label_zero)/(label_one+label_zero))+\"%\")\n",
    "print(\"1 in \"+str(float(label_one)/(label_one+label_zero))+\"%\")\n",
    "\n",
    "%notify -m \"Parsing is finished\""
   ]
  },
  {
   "cell_type": "code",
   "execution_count": 105,
   "metadata": {
    "pycharm": {
     "is_executing": false
    }
   },
   "outputs": [],
   "source": [
    "perc0 = label_zero/(label_one+label_zero)"
   ]
  },
  {
   "cell_type": "code",
   "execution_count": 106,
   "metadata": {
    "pycharm": {
     "is_executing": false,
     "name": "#%%\n"
    }
   },
   "outputs": [
    {
     "data": {
      "image/png": "[encoded data removed]",
      "text/plain": [
       "<Figure size 432x288 with 1 Axes>"
      ]
     },
     "metadata": {
      "needs_background": "light"
     },
     "output_type": "display_data"
    }
   ],
   "source": [
    "# Now plot close price and volume overtime.\n",
    "import matplotlib.pyplot as plt\n",
    "import pandas as pd\n",
    "\n",
    "df.plot(y=[\"close_t-1\"])\n",
    "plt.show()"
   ]
  },
  {
   "cell_type": "code",
   "execution_count": 107,
   "metadata": {
    "pycharm": {
     "is_executing": true
    }
   },
   "outputs": [
    {
     "data": {
      "text/plain": [
       "Index(['datetime', 'open', 'high', 'low', 'close', 'volume', 'close_t-1',\n",
       "       'close_t-2', 'close_t-3', 'close_t-4', 'open_t-1', 'open_t-2',\n",
       "       'open_t-3', 'open_t-4', 'high_t-1', 'high_t-2', 'high_t-3', 'high_t-4',\n",
       "       'low_t-1', 'low_t-2', 'low_t-3', 'low_t-4', 'sma_5', 'sma_10', 'sma_20',\n",
       "       'sma_30', 'ema_5', 'ema_10', 'ema_20', 'ema_30', 'wma_10', 'mom_10',\n",
       "       'stoch_slowk', 'stoch_slowd', 'macd_macd', 'macd_macdsignal',\n",
       "       'macd_macdhist', 'rsi_10', 'willr_10', 'cci_10', 'adx_10',\n",
       "       'aroon_aroondown', 'aroon_aroonup', 'bbands_upperband',\n",
       "       'bbands_middleband', 'bbands_lowerband', 'trima_5', 'trima_10',\n",
       "       'trima_20', 'trima_30', 'roc_10', 'rocr_10', 'stochf_fastk',\n",
       "       'stochf_fastd', 'medprice_10', 'typprice_10', 'wclprice_10', 'atr_10',\n",
       "       'macdfix_macd', 'macdfix_macdsignal', 'macdfix_macdhist', 'sar_10',\n",
       "       'ppo_10', 'close_t+1', 'label'],\n",
       "      dtype='object')"
      ]
     },
     "execution_count": 107,
     "metadata": {},
     "output_type": "execute_result"
    }
   ],
   "source": [
    "df.columns"
   ]
  },
  {
   "cell_type": "code",
   "execution_count": 66,
   "metadata": {
    "pycharm": {
     "is_executing": true
    }
   },
   "outputs": [
    {
     "data": {
      "text/plain": [
       "'C:\\\\Users\\\\suare\\\\PycharmProjects\\\\RegimeSwitchingSeriesGenerator\\\\output\\\\BITCOIN_[2018-10-01_to_2019-01-01]_1min_indicators_best.csv'"
      ]
     },
     "execution_count": 66,
     "metadata": {},
     "output_type": "execute_result"
    }
   ],
   "source": [
    "RESULT_FILEPATH_PROCESSED"
   ]
  },
  {
   "cell_type": "code",
   "execution_count": null,
   "metadata": {
    "pycharm": {
     "is_executing": true
    }
   },
   "outputs": [],
   "source": []
  },
  {
   "cell_type": "code",
   "execution_count": null,
   "metadata": {
    "pycharm": {
     "is_executing": true
    }
   },
   "outputs": [],
   "source": []
  },
  {
   "cell_type": "code",
   "execution_count": 76,
   "metadata": {
    "pycharm": {
     "is_executing": true
    }
   },
   "outputs": [
    {
     "data": {
      "text/plain": [
       "Index(['datetime', 'open', 'high', 'low', 'close', 'volume', 'close_t-1',\n",
       "       'close_t-2', 'close_t-3', 'close_t-4', 'open_t-1', 'open_t-2',\n",
       "       'open_t-3', 'open_t-4', 'high_t-1', 'high_t-2', 'high_t-3', 'high_t-4',\n",
       "       'low_t-1', 'low_t-2', 'low_t-3', 'low_t-4', 'sma_5', 'sma_10', 'sma_20',\n",
       "       'sma_30', 'ema_5', 'ema_10', 'ema_20', 'ema_30', 'wma_10', 'mom_10',\n",
       "       'stoch_slowk', 'stoch_slowd', 'macd_macd', 'macd_macdsignal',\n",
       "       'macd_macdhist', 'rsi_10', 'willr_10', 'cci_10', 'adx_10',\n",
       "       'aroon_aroondown', 'aroon_aroonup', 'bbands_upperband',\n",
       "       'bbands_middleband', 'bbands_lowerband', 'trima_5', 'trima_10',\n",
       "       'trima_20', 'trima_30', 'roc_10', 'rocr_10', 'stochf_fastk',\n",
       "       'stochf_fastd', 'medprice_10', 'typprice_10', 'wclprice_10', 'atr_10',\n",
       "       'macdfix_macd', 'macdfix_macdsignal', 'macdfix_macdhist', 'sar_10',\n",
       "       'close_t+1', 'label'],\n",
       "      dtype='object')"
      ]
     },
     "execution_count": 76,
     "metadata": {},
     "output_type": "execute_result"
    }
   ],
   "source": [
    "df.columns"
   ]
  },
  {
   "cell_type": "code",
   "execution_count": null,
   "metadata": {
    "pycharm": {
     "is_executing": true
    }
   },
   "outputs": [],
   "source": []
  },
  {
   "cell_type": "code",
   "execution_count": null,
   "metadata": {},
   "outputs": [],
   "source": []
  }
 ],
 "metadata": {
  "kernelspec": {
   "display_name": "Python 3",
   "language": "python",
   "name": "python3"
  },
  "language_info": {
   "codemirror_mode": {
    "name": "ipython",
    "version": 3
   },
   "file_extension": ".py",
   "mimetype": "text/x-python",
   "name": "python",
   "nbconvert_exporter": "python",
   "pygments_lexer": "ipython3",
   "version": "3.7.3"
  },
  "pycharm": {
   "stem_cell": {
    "cell_type": "raw",
    "metadata": {
     "collapsed": false
    },
    "source": []
   }
  }
 },
 "nbformat": 4,
 "nbformat_minor": 2
}
